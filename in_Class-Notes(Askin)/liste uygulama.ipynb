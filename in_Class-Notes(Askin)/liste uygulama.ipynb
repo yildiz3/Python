{
 "cells": [
  {
   "cell_type": "code",
   "execution_count": 1,
   "id": "36bd67d2",
   "metadata": {},
   "outputs": [
    {
     "name": "stdout",
     "output_type": "stream",
     "text": [
      "[1, 2, 3, 4, 5, 6, 7, 8, 9, 10]\n"
     ]
    }
   ],
   "source": [
    "list1 = [1, 2, 3, 4, 5]\n",
    "list2 = [6, 7, 8, 9, 10]\n",
    "list1.extend(list2)\n",
    "print(list1)"
   ]
  },
  {
   "cell_type": "code",
   "execution_count": 2,
   "id": "a3f5b676",
   "metadata": {},
   "outputs": [
    {
     "name": "stdout",
     "output_type": "stream",
     "text": [
      "['London', '1', 1, 2]\n"
     ]
    }
   ],
   "source": [
    "list3 = [\"London\", \"London\", \"1\", 1, 2]\n",
    "list3.remove(\"London\")\n",
    "print(list3)"
   ]
  },
  {
   "cell_type": "code",
   "execution_count": 6,
   "id": "89539cb9",
   "metadata": {},
   "outputs": [
    {
     "name": "stdout",
     "output_type": "stream",
     "text": [
      "[1, 2, 3, 4, 5, 6, 'London', 'London', 'Paris', '1']\n"
     ]
    }
   ],
   "source": [
    "list4 = [1, 2, 3, 4, 5, 6, \"London\", \"London\", \"Paris\", \"1\", \"2\"]\n",
    "list4.pop()\n",
    "print(list4)"
   ]
  },
  {
   "cell_type": "code",
   "execution_count": 9,
   "id": "ad073207",
   "metadata": {},
   "outputs": [
    {
     "name": "stdout",
     "output_type": "stream",
     "text": [
      "[1, 3, 4, 5, 6, 'London', 'London', 'Paris', '1', '2']\n"
     ]
    }
   ],
   "source": [
    "list5 = [1, 2, 3, 4, 5, 6, \"London\", \"London\", \"Paris\", \"1\", \"2\"]\n",
    "list5.pop(1)\n",
    "print(list5)"
   ]
  },
  {
   "cell_type": "code",
   "execution_count": 12,
   "id": "3aab9765",
   "metadata": {},
   "outputs": [
    {
     "name": "stdout",
     "output_type": "stream",
     "text": [
      "[]\n"
     ]
    }
   ],
   "source": [
    "list6 = [1, 2, 3, 4, 5, 6, \"London\", \"London\", \"Paris\", \"1\", \"2\"]\n",
    "list6.clear()\n",
    "print(list6)"
   ]
  },
  {
   "cell_type": "code",
   "execution_count": 16,
   "id": "5172cf0b",
   "metadata": {},
   "outputs": [
    {
     "name": "stdout",
     "output_type": "stream",
     "text": [
      "7\n"
     ]
    }
   ],
   "source": [
    "list7 = [1, 2, 3, 4, 5, 6, \"London\", 2, \"London\", \"Paris\", \"1\", \"2\"]\n",
    "print(list7.index(2, 2, ))"
   ]
  },
  {
   "cell_type": "code",
   "execution_count": 14,
   "id": "fdaa415e",
   "metadata": {},
   "outputs": [
    {
     "name": "stdout",
     "output_type": "stream",
     "text": [
      "['Köfte', 'Patates', 'Hamburger', 'Soda', 'Gazoz', 'Su', 'Ayran', 'Cola', 'Fanta']\n"
     ]
    }
   ],
   "source": [
    "menu=[\"Köfte\", \"Patates\",\"Hamburger\",\"Soda\",\"Gazoz\",\"Ayran\",\"Cola\",\"Fanta\"]\n",
    "menu.insert(menu.index(\"Gazoz\")+1,\"Su\")\n",
    "print(menu)"
   ]
  },
  {
   "cell_type": "code",
   "execution_count": 28,
   "id": "cb0ae203",
   "metadata": {},
   "outputs": [
    {
     "data": {
      "text/plain": [
       "[1, 3, 4, 5, 6, 'London', 2, 'London', 'Paris', '1', '2']"
      ]
     },
     "execution_count": 28,
     "metadata": {},
     "output_type": "execute_result"
    }
   ],
   "source": [
    "list8 = ([1, 2, 3, 4, 5, 6, \"London\", 2, \"London\", \"Paris\", \"1\", \"2\"])\n",
    "del list8[1]\n",
    "list8"
   ]
  },
  {
   "cell_type": "code",
   "execution_count": 35,
   "id": "86f600f9",
   "metadata": {},
   "outputs": [
    {
     "name": "stdout",
     "output_type": "stream",
     "text": [
      "['New York', 'London', 'Istanbul', 'Seoul', 'Sydney']\n"
     ]
    }
   ],
   "source": [
    "city_list = [['New York', 'London', 'Istanbul', 'Seoul', 'Sydney']]\n",
    "print(city_list[0])"
   ]
  },
  {
   "cell_type": "code",
   "execution_count": 36,
   "id": "e26f7cb0",
   "metadata": {},
   "outputs": [
    {
     "name": "stdout",
     "output_type": "stream",
     "text": [
      "3\n"
     ]
    }
   ],
   "source": [
    "print(len([[12, 34, 56]][0]))"
   ]
  },
  {
   "cell_type": "code",
   "execution_count": null,
   "id": "c43d032b",
   "metadata": {},
   "outputs": [],
   "source": []
  }
 ],
 "metadata": {
  "kernelspec": {
   "display_name": "Python 3",
   "language": "python",
   "name": "python3"
  },
  "language_info": {
   "codemirror_mode": {
    "name": "ipython",
    "version": 3
   },
   "file_extension": ".py",
   "mimetype": "text/x-python",
   "name": "python",
   "nbconvert_exporter": "python",
   "pygments_lexer": "ipython3",
   "version": "3.8.8"
  }
 },
 "nbformat": 4,
 "nbformat_minor": 5
}
