{
 "cells": [
  {
   "cell_type": "markdown",
   "id": "406f2981",
   "metadata": {},
   "source": [
    "<img src=\"https://docs.google.com/uc?id=14xeXxFrVRjvOoUYWn_GuyE-v84wVzrqr\" class=\"img-fluid\" alt=\"CLRWY\" width=\"400\" height=\"200\">"
   ]
  },
  {
   "cell_type": "markdown",
   "id": "22263af8",
   "metadata": {},
   "source": [
    "<h1><p style=\"text-align: center; color:darkblue\">Python In-Class, <br>24 February 2022</p><h1>"
   ]
  },
  {
   "cell_type": "code",
   "execution_count": 3,
   "id": "393a0c31",
   "metadata": {},
   "outputs": [
    {
     "name": "stdout",
     "output_type": "stream",
     "text": [
      "Enter a number :-11\n",
      "-11 is odd\n"
     ]
    }
   ],
   "source": [
    "num = int(input(\"Enter a number :\"))\n",
    "\n",
    "if num % 2 == 0 :\n",
    "    print(\"{} is even\".format(num))\n",
    "    \n",
    "else :\n",
    "    print(\"{} is odd\".format(num))"
   ]
  },
  {
   "cell_type": "code",
   "execution_count": 1,
   "id": "ac3f1c5c",
   "metadata": {},
   "outputs": [
    {
     "data": {
      "text/plain": [
       "0"
      ]
     },
     "execution_count": 1,
     "metadata": {},
     "output_type": "execute_result"
    }
   ],
   "source": [
    "0%2"
   ]
  },
  {
   "cell_type": "code",
   "execution_count": 4,
   "id": "1b198e4c",
   "metadata": {},
   "outputs": [
    {
     "name": "stdout",
     "output_type": "stream",
     "text": [
      "Enter a number except zero :88\n",
      "It is a positive number.\n"
     ]
    }
   ],
   "source": [
    "num = float(input(\"Enter a number except zero :\"))\n",
    "\n",
    "if num > 0 :\n",
    "    print(\"It is a positive number.\")\n",
    "else :\n",
    "    print(\"Negative number\")"
   ]
  },
  {
   "cell_type": "code",
   "execution_count": 6,
   "id": "faf8fef7",
   "metadata": {},
   "outputs": [
    {
     "name": "stdout",
     "output_type": "stream",
     "text": [
      "Enter a number except zero :-66\n",
      "It is a negative number\n"
     ]
    }
   ],
   "source": [
    "num = float(input(\"Enter a number except zero :\"))\n",
    "\n",
    "if num > 0 :\n",
    "    print(\"It is a positive number.\")\n",
    "else :\n",
    "    print(\"It is a negative number\")"
   ]
  },
  {
   "cell_type": "code",
   "execution_count": 7,
   "id": "a0f93221",
   "metadata": {},
   "outputs": [
    {
     "name": "stdout",
     "output_type": "stream",
     "text": [
      "Enter first number :4\n",
      "Enter second number :5\n",
      "The larger number is  5.0\n"
     ]
    }
   ],
   "source": [
    "num1 = float(input(\"Enter first number :\"))\n",
    "num2 = float(input(\"Enter second number :\"))\n",
    "\n",
    "if num1 > num2 :\n",
    "    larger = num1\n",
    "    \n",
    "else :\n",
    "    larger = num2\n",
    "    \n",
    "print(\"The larger number is \", larger)"
   ]
  },
  {
   "cell_type": "code",
   "execution_count": 8,
   "id": "280b1a88",
   "metadata": {},
   "outputs": [],
   "source": [
    "bool_value = False\n",
    "\n",
    "if bool_value :\n",
    "    print(\"Yes\")\n",
    "    \n",
    "else :\n",
    "    print(\"No\")"
   ]
  },
  {
   "cell_type": "code",
   "execution_count": 9,
   "id": "4b6cdf48",
   "metadata": {},
   "outputs": [
    {
     "data": {
      "text/plain": [
       "'False'"
      ]
     },
     "execution_count": 9,
     "metadata": {},
     "output_type": "execute_result"
    }
   ],
   "source": [
    "str(False)"
   ]
  },
  {
   "cell_type": "code",
   "execution_count": 10,
   "id": "b73f8db7",
   "metadata": {},
   "outputs": [
    {
     "data": {
      "text/plain": [
       "True"
      ]
     },
     "execution_count": 10,
     "metadata": {},
     "output_type": "execute_result"
    }
   ],
   "source": [
    "\"False\" == str(False)"
   ]
  },
  {
   "cell_type": "code",
   "execution_count": 11,
   "id": "b221e86c",
   "metadata": {},
   "outputs": [
    {
     "name": "stdout",
     "output_type": "stream",
     "text": [
      "Enter a number :-17\n",
      "Negative number.\n"
     ]
    }
   ],
   "source": [
    "num = float(input(\"Enter a number :\"))\n",
    "\n",
    "if num > 0 :\n",
    "    print(\"Positive number.\")\n",
    "    \n",
    "elif num == 0 :\n",
    "    print(\"Zero.\")\n",
    "    \n",
    "else :\n",
    "    print(\"Negative number.\")"
   ]
  },
  {
   "cell_type": "code",
   "execution_count": 12,
   "id": "a02a0d9d",
   "metadata": {},
   "outputs": [
    {
     "name": "stdout",
     "output_type": "stream",
     "text": [
      "Enter a number :0\n",
      "Zero.\n"
     ]
    }
   ],
   "source": [
    "num = float(input(\"Enter a number :\"))\n",
    "\n",
    "if num > 0 :\n",
    "    print(\"Positive number.\")\n",
    "    \n",
    "elif num == 0 :\n",
    "    print(\"Zero.\")\n",
    "    \n",
    "else :\n",
    "    print(\"Negative number.\")"
   ]
  },
  {
   "cell_type": "code",
   "execution_count": 13,
   "id": "e5b856e6",
   "metadata": {},
   "outputs": [
    {
     "data": {
      "text/plain": [
       "{'a', 'b', 'c', 'd', 'e', 'f', 'g', 'q', 'r', 's', 't', 'v', 'w', 'x', 'z'}"
      ]
     },
     "execution_count": 13,
     "metadata": {},
     "output_type": "execute_result"
    }
   ],
   "source": [
    "left = set(\"qwertasdfgzxcvb\")\n",
    "left"
   ]
  },
  {
   "cell_type": "code",
   "execution_count": 14,
   "id": "7a72ebe4",
   "metadata": {},
   "outputs": [
    {
     "data": {
      "text/plain": [
       "{'h', 'i', 'j', 'k', 'l', 'm', 'n', 'o', 'p', 'u', 'y'}"
      ]
     },
     "execution_count": 14,
     "metadata": {},
     "output_type": "execute_result"
    }
   ],
   "source": [
    "right = set(\"yuiophjklmn\")\n",
    "right"
   ]
  },
  {
   "cell_type": "code",
   "execution_count": 15,
   "id": "12530c52",
   "metadata": {},
   "outputs": [],
   "source": [
    "word = \"clarusway\""
   ]
  },
  {
   "cell_type": "code",
   "execution_count": 16,
   "id": "7a9f7e79",
   "metadata": {},
   "outputs": [
    {
     "data": {
      "text/plain": [
       "{'a', 'c', 'l', 'r', 's', 'u', 'w', 'y'}"
      ]
     },
     "execution_count": 16,
     "metadata": {},
     "output_type": "execute_result"
    }
   ],
   "source": [
    "word = set(word)\n",
    "word"
   ]
  },
  {
   "cell_type": "code",
   "execution_count": 17,
   "id": "1ddcf307",
   "metadata": {},
   "outputs": [
    {
     "data": {
      "text/plain": [
       "False"
      ]
     },
     "execution_count": 17,
     "metadata": {},
     "output_type": "execute_result"
    }
   ],
   "source": [
    "bool(set())"
   ]
  },
  {
   "cell_type": "code",
   "execution_count": 18,
   "id": "93dcca22",
   "metadata": {},
   "outputs": [
    {
     "data": {
      "text/plain": [
       "True"
      ]
     },
     "execution_count": 18,
     "metadata": {},
     "output_type": "execute_result"
    }
   ],
   "source": [
    "bool(set(\"bir\"))"
   ]
  },
  {
   "cell_type": "code",
   "execution_count": 19,
   "id": "bbc3022c",
   "metadata": {},
   "outputs": [],
   "source": [
    "leftcheck = bool(word.intersection(left))\n",
    "rightcheck = bool(word.intersection(right))"
   ]
  },
  {
   "cell_type": "code",
   "execution_count": 20,
   "id": "2824fbb4",
   "metadata": {},
   "outputs": [
    {
     "data": {
      "text/plain": [
       "True"
      ]
     },
     "execution_count": 20,
     "metadata": {},
     "output_type": "execute_result"
    }
   ],
   "source": [
    "leftcheck"
   ]
  },
  {
   "cell_type": "code",
   "execution_count": 21,
   "id": "06e7f700",
   "metadata": {},
   "outputs": [
    {
     "data": {
      "text/plain": [
       "True"
      ]
     },
     "execution_count": 21,
     "metadata": {},
     "output_type": "execute_result"
    }
   ],
   "source": [
    "rightcheck"
   ]
  },
  {
   "cell_type": "code",
   "execution_count": 22,
   "id": "ec146e87",
   "metadata": {},
   "outputs": [
    {
     "data": {
      "text/plain": [
       "True"
      ]
     },
     "execution_count": 22,
     "metadata": {},
     "output_type": "execute_result"
    }
   ],
   "source": [
    "sonuc = leftcheck and rightcheck\n",
    "sonuc"
   ]
  },
  {
   "cell_type": "code",
   "execution_count": 23,
   "id": "fc7d0a80",
   "metadata": {},
   "outputs": [],
   "source": [
    "while 0 :\n",
    "    print(\"sıfır\")"
   ]
  },
  {
   "cell_type": "code",
   "execution_count": 24,
   "id": "b60a6530",
   "metadata": {},
   "outputs": [
    {
     "name": "stdout",
     "output_type": "stream",
     "text": [
      "ali deli veli\n"
     ]
    }
   ],
   "source": [
    "while 0 :\n",
    "    print(\"sıfır\")\n",
    "    \n",
    "print(\"ali deli veli\")"
   ]
  },
  {
   "cell_type": "code",
   "execution_count": 25,
   "id": "0ce9d59f",
   "metadata": {},
   "outputs": [
    {
     "name": "stdout",
     "output_type": "stream",
     "text": [
      "5\n",
      "4\n",
      "3\n",
      "2\n",
      "1\n"
     ]
    }
   ],
   "source": [
    "condition = 5\n",
    "\n",
    "while condition :\n",
    "    \n",
    "    print(condition)\n",
    "    condition -= 1"
   ]
  },
  {
   "cell_type": "code",
   "execution_count": null,
   "id": "395eff8e",
   "metadata": {},
   "outputs": [],
   "source": [
    "condition = 5\n",
    "\n",
    "while True :\n",
    "    \n",
    "    condition -= 1\n",
    "    print(condition)\n",
    "    \n",
    "    if condition == 0 :\n",
    "        break"
   ]
  },
  {
   "cell_type": "code",
   "execution_count": null,
   "id": "bc16e2d0",
   "metadata": {},
   "outputs": [],
   "source": []
  },
  {
   "cell_type": "code",
   "execution_count": null,
   "id": "48f52fdd",
   "metadata": {},
   "outputs": [],
   "source": []
  }
 ],
 "metadata": {
  "kernelspec": {
   "display_name": "Python 3",
   "language": "python",
   "name": "python3"
  },
  "language_info": {
   "codemirror_mode": {
    "name": "ipython",
    "version": 3
   },
   "file_extension": ".py",
   "mimetype": "text/x-python",
   "name": "python",
   "nbconvert_exporter": "python",
   "pygments_lexer": "ipython3",
   "version": "3.8.8"
  }
 },
 "nbformat": 4,
 "nbformat_minor": 5
}
