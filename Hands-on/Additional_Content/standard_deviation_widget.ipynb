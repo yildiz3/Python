{
 "cells": [
  {
   "cell_type": "markdown",
   "metadata": {},
   "source": [
    "# Standard Deviation Widget"
   ]
  },
  {
   "cell_type": "code",
   "execution_count": 1,
   "metadata": {},
   "outputs": [],
   "source": [
    "import matplotlib.pyplot as plt\n",
    "import numpy as np\n",
    "import scipy.stats as stats\n",
    "import seaborn as sns\n",
    "\n",
    "from ipywidgets import interactive, interact\n",
    "from ipywidgets import FloatSlider"
   ]
  },
  {
   "cell_type": "code",
   "execution_count": 2,
   "metadata": {},
   "outputs": [],
   "source": [
    "plt.rcParams['font.family'] = 'serif'"
   ]
  },
  {
   "cell_type": "code",
   "execution_count": 3,
   "metadata": {},
   "outputs": [],
   "source": [
    "def stdev_widget(std_dev = 3):\n",
    "    # Mean\n",
    "    mu = 100\n",
    "    \n",
    "    # Bounds for line, +/- 3 standard deviations\n",
    "    x = np.linspace(mu - 3*std_dev, mu + 3*std_dev, 100)\n",
    "    \n",
    "    # Random Points\n",
    "    n = 100\n",
    "    pts = np.random.normal(100, std_dev, size=n)\n",
    "    pos = np.abs(np.random.normal(.1, .05, size=n))\n",
    "    \n",
    "    # Set up subplots\n",
    "    f, (ax0, ax1) = plt.subplots(2, 1, figsize=(4, 5), gridspec_kw={'height_ratios': [3, 1]})\n",
    "    \n",
    "    # DENSITY PLOT\n",
    "    ax0.plot(x, stats.norm.pdf(x, mu, std_dev), lw=3, zorder=3)\n",
    "    ax0.fill_between(x, 0, stats.norm.pdf(x, mu, std_dev), alpha=0.2, zorder=2)\n",
    "    \n",
    "    # Add mean line\n",
    "    ax0.axvline(100, ls='--', color='lightgray', zorder=1)\n",
    "    ax0.text(101, 0.35, 'Mean', fontsize=12, color='gray', fontstyle='italic')\n",
    "    \n",
    "    # Formating for density plot\n",
    "    ax0.set_xlim(80, 120)\n",
    "    ax0.set_ylim(0, .4)\n",
    "    ax0.set_yticks([0, 0.1, 0.2, 0.3, 0.4])\n",
    "    ax0.set_ylabel('Density', fontsize=12)\n",
    "    sns.despine()\n",
    "\n",
    "    # RANDOM SCATTER POINTS below density plot\n",
    "    ax1.scatter(pts, pos, color='#606060')\n",
    "    \n",
    "    # Formating for scatter plot\n",
    "    ax1.axis(\"off\")\n",
    "    ax1.set_xlim(80, 120)\n",
    "    ax1.set_ylim(-0.05, .3)"
   ]
  },
  {
   "cell_type": "code",
   "execution_count": 4,
   "metadata": {},
   "outputs": [
    {
     "data": {
      "application/vnd.jupyter.widget-view+json": {
       "model_id": "74ff2ed03c344d4c9a561473dafd7f20",
       "version_major": 2,
       "version_minor": 0
      },
      "text/plain": [
       "interactive(children=(FloatSlider(value=3.0, description='Standard Deviation', max=5.0, min=1.0, step=0.5, sty…"
      ]
     },
     "metadata": {},
     "output_type": "display_data"
    }
   ],
   "source": [
    "style = {'description_width': 'initial'}\n",
    "\n",
    "interact(stdev_widget, \n",
    "         std_dev=FloatSlider(value=3, \n",
    "                             min=1, \n",
    "                             max=5, \n",
    "                             step=0.5, \n",
    "                             description='Standard Deviation',\n",
    "                             style=style\n",
    "                            ));"
   ]
  },
  {
   "cell_type": "code",
   "execution_count": null,
   "metadata": {},
   "outputs": [],
   "source": []
  }
 ],
 "metadata": {
  "kernelspec": {
   "display_name": "Python 3",
   "language": "python",
   "name": "python3"
  },
  "language_info": {
   "codemirror_mode": {
    "name": "ipython",
    "version": 3
   },
   "file_extension": ".py",
   "mimetype": "text/x-python",
   "name": "python",
   "nbconvert_exporter": "python",
   "pygments_lexer": "ipython3",
   "version": "3.7.2"
  }
 },
 "nbformat": 4,
 "nbformat_minor": 2
}
