{
 "cells": [
  {
   "cell_type": "markdown",
   "id": "daaa6908",
   "metadata": {},
   "source": [
    "# what is - dir() and help()"
   ]
  },
  {
   "cell_type": "code",
   "execution_count": 1,
   "id": "be12d7a9",
   "metadata": {},
   "outputs": [
    {
     "name": "stdout",
     "output_type": "stream",
     "text": [
      "Help on _Helper in module _sitebuiltins object:\n",
      "\n",
      "class _Helper(builtins.object)\n",
      " |  Define the builtin 'help'.\n",
      " |  \n",
      " |  This is a wrapper around pydoc.help that provides a helpful message\n",
      " |  when 'help' is typed at the Python interactive prompt.\n",
      " |  \n",
      " |  Calling help() at the Python prompt starts an interactive help session.\n",
      " |  Calling help(thing) prints help for the python object 'thing'.\n",
      " |  \n",
      " |  Methods defined here:\n",
      " |  \n",
      " |  __call__(self, *args, **kwds)\n",
      " |      Call self as a function.\n",
      " |  \n",
      " |  __repr__(self)\n",
      " |      Return repr(self).\n",
      " |  \n",
      " |  ----------------------------------------------------------------------\n",
      " |  Data descriptors defined here:\n",
      " |  \n",
      " |  __dict__\n",
      " |      dictionary for instance variables (if defined)\n",
      " |  \n",
      " |  __weakref__\n",
      " |      list of weak references to the object (if defined)\n",
      "\n"
     ]
    }
   ],
   "source": [
    "help(help)"
   ]
  },
  {
   "cell_type": "code",
   "execution_count": 2,
   "id": "9e99a44a",
   "metadata": {},
   "outputs": [
    {
     "name": "stdout",
     "output_type": "stream",
     "text": [
      "Help on built-in function dir in module builtins:\n",
      "\n",
      "dir(...)\n",
      "    dir([object]) -> list of strings\n",
      "    \n",
      "    If called without an argument, return the names in the current scope.\n",
      "    Else, return an alphabetized list of names comprising (some of) the attributes\n",
      "    of the given object, and of attributes reachable from it.\n",
      "    If the object supplies a method named __dir__, it will be used; otherwise\n",
      "    the default dir() logic is used and returns:\n",
      "      for a module object: the module's attributes.\n",
      "      for a class object:  its attributes, and recursively the attributes\n",
      "        of its bases.\n",
      "      for any other object: its attributes, its class's attributes, and\n",
      "        recursively the attributes of its class's base classes.\n",
      "\n"
     ]
    }
   ],
   "source": [
    "help(dir)"
   ]
  },
  {
   "cell_type": "code",
   "execution_count": 18,
   "id": "a6df01ba",
   "metadata": {},
   "outputs": [
    {
     "name": "stdout",
     "output_type": "stream",
     "text": [
      "Help on built-in function print in module builtins:\n",
      "\n",
      "print(...)\n",
      "    print(value, ..., sep=' ', end='\\n', file=sys.stdout, flush=False)\n",
      "    \n",
      "    Prints the values to a stream, or to sys.stdout by default.\n",
      "    Optional keyword arguments:\n",
      "    file:  a file-like object (stream); defaults to the current sys.stdout.\n",
      "    sep:   string inserted between values, default a space.\n",
      "    end:   string appended after the last value, default a newline.\n",
      "    flush: whether to forcibly flush the stream.\n",
      "\n"
     ]
    }
   ],
   "source": [
    "help(print)  # print is built-in function"
   ]
  },
  {
   "cell_type": "code",
   "execution_count": 17,
   "id": "7757c465",
   "metadata": {},
   "outputs": [
    {
     "data": {
      "text/plain": [
       "['__call__',\n",
       " '__class__',\n",
       " '__delattr__',\n",
       " '__dir__',\n",
       " '__doc__',\n",
       " '__eq__',\n",
       " '__format__',\n",
       " '__ge__',\n",
       " '__getattribute__',\n",
       " '__gt__',\n",
       " '__hash__',\n",
       " '__init__',\n",
       " '__init_subclass__',\n",
       " '__le__',\n",
       " '__lt__',\n",
       " '__module__',\n",
       " '__name__',\n",
       " '__ne__',\n",
       " '__new__',\n",
       " '__qualname__',\n",
       " '__reduce__',\n",
       " '__reduce_ex__',\n",
       " '__repr__',\n",
       " '__self__',\n",
       " '__setattr__',\n",
       " '__sizeof__',\n",
       " '__str__',\n",
       " '__subclasshook__',\n",
       " '__text_signature__']"
      ]
     },
     "execution_count": 17,
     "metadata": {},
     "output_type": "execute_result"
    }
   ],
   "source": [
    "dir(print)"
   ]
  },
  {
   "cell_type": "code",
   "execution_count": 19,
   "id": "09c894b7",
   "metadata": {},
   "outputs": [
    {
     "name": "stdout",
     "output_type": "stream",
     "text": [
      "Help on class str in module builtins:\n",
      "\n",
      "class str(object)\n",
      " |  str(object='') -> str\n",
      " |  str(bytes_or_buffer[, encoding[, errors]]) -> str\n",
      " |  \n",
      " |  Create a new string object from the given object. If encoding or\n",
      " |  errors is specified, then the object must expose a data buffer\n",
      " |  that will be decoded using the given encoding and error handler.\n",
      " |  Otherwise, returns the result of object.__str__() (if defined)\n",
      " |  or repr(object).\n",
      " |  encoding defaults to sys.getdefaultencoding().\n",
      " |  errors defaults to 'strict'.\n",
      " |  \n",
      " |  Methods defined here:\n",
      " |  \n",
      " |  __add__(self, value, /)\n",
      " |      Return self+value.\n",
      " |  \n",
      " |  __contains__(self, key, /)\n",
      " |      Return key in self.\n",
      " |  \n",
      " |  __eq__(self, value, /)\n",
      " |      Return self==value.\n",
      " |  \n",
      " |  __format__(self, format_spec, /)\n",
      " |      Return a formatted version of the string as described by format_spec.\n",
      " |  \n",
      " |  __ge__(self, value, /)\n",
      " |      Return self>=value.\n",
      " |  \n",
      " |  __getattribute__(self, name, /)\n",
      " |      Return getattr(self, name).\n",
      " |  \n",
      " |  __getitem__(self, key, /)\n",
      " |      Return self[key].\n",
      " |  \n",
      " |  __getnewargs__(...)\n",
      " |  \n",
      " |  __gt__(self, value, /)\n",
      " |      Return self>value.\n",
      " |  \n",
      " |  __hash__(self, /)\n",
      " |      Return hash(self).\n",
      " |  \n",
      " |  __iter__(self, /)\n",
      " |      Implement iter(self).\n",
      " |  \n",
      " |  __le__(self, value, /)\n",
      " |      Return self<=value.\n",
      " |  \n",
      " |  __len__(self, /)\n",
      " |      Return len(self).\n",
      " |  \n",
      " |  __lt__(self, value, /)\n",
      " |      Return self<value.\n",
      " |  \n",
      " |  __mod__(self, value, /)\n",
      " |      Return self%value.\n",
      " |  \n",
      " |  __mul__(self, value, /)\n",
      " |      Return self*value.\n",
      " |  \n",
      " |  __ne__(self, value, /)\n",
      " |      Return self!=value.\n",
      " |  \n",
      " |  __repr__(self, /)\n",
      " |      Return repr(self).\n",
      " |  \n",
      " |  __rmod__(self, value, /)\n",
      " |      Return value%self.\n",
      " |  \n",
      " |  __rmul__(self, value, /)\n",
      " |      Return value*self.\n",
      " |  \n",
      " |  __sizeof__(self, /)\n",
      " |      Return the size of the string in memory, in bytes.\n",
      " |  \n",
      " |  __str__(self, /)\n",
      " |      Return str(self).\n",
      " |  \n",
      " |  capitalize(self, /)\n",
      " |      Return a capitalized version of the string.\n",
      " |      \n",
      " |      More specifically, make the first character have upper case and the rest lower\n",
      " |      case.\n",
      " |  \n",
      " |  casefold(self, /)\n",
      " |      Return a version of the string suitable for caseless comparisons.\n",
      " |  \n",
      " |  center(self, width, fillchar=' ', /)\n",
      " |      Return a centered string of length width.\n",
      " |      \n",
      " |      Padding is done using the specified fill character (default is a space).\n",
      " |  \n",
      " |  count(...)\n",
      " |      S.count(sub[, start[, end]]) -> int\n",
      " |      \n",
      " |      Return the number of non-overlapping occurrences of substring sub in\n",
      " |      string S[start:end].  Optional arguments start and end are\n",
      " |      interpreted as in slice notation.\n",
      " |  \n",
      " |  encode(self, /, encoding='utf-8', errors='strict')\n",
      " |      Encode the string using the codec registered for encoding.\n",
      " |      \n",
      " |      encoding\n",
      " |        The encoding in which to encode the string.\n",
      " |      errors\n",
      " |        The error handling scheme to use for encoding errors.\n",
      " |        The default is 'strict' meaning that encoding errors raise a\n",
      " |        UnicodeEncodeError.  Other possible values are 'ignore', 'replace' and\n",
      " |        'xmlcharrefreplace' as well as any other name registered with\n",
      " |        codecs.register_error that can handle UnicodeEncodeErrors.\n",
      " |  \n",
      " |  endswith(...)\n",
      " |      S.endswith(suffix[, start[, end]]) -> bool\n",
      " |      \n",
      " |      Return True if S ends with the specified suffix, False otherwise.\n",
      " |      With optional start, test S beginning at that position.\n",
      " |      With optional end, stop comparing S at that position.\n",
      " |      suffix can also be a tuple of strings to try.\n",
      " |  \n",
      " |  expandtabs(self, /, tabsize=8)\n",
      " |      Return a copy where all tab characters are expanded using spaces.\n",
      " |      \n",
      " |      If tabsize is not given, a tab size of 8 characters is assumed.\n",
      " |  \n",
      " |  find(...)\n",
      " |      S.find(sub[, start[, end]]) -> int\n",
      " |      \n",
      " |      Return the lowest index in S where substring sub is found,\n",
      " |      such that sub is contained within S[start:end].  Optional\n",
      " |      arguments start and end are interpreted as in slice notation.\n",
      " |      \n",
      " |      Return -1 on failure.\n",
      " |  \n",
      " |  format(...)\n",
      " |      S.format(*args, **kwargs) -> str\n",
      " |      \n",
      " |      Return a formatted version of S, using substitutions from args and kwargs.\n",
      " |      The substitutions are identified by braces ('{' and '}').\n",
      " |  \n",
      " |  format_map(...)\n",
      " |      S.format_map(mapping) -> str\n",
      " |      \n",
      " |      Return a formatted version of S, using substitutions from mapping.\n",
      " |      The substitutions are identified by braces ('{' and '}').\n",
      " |  \n",
      " |  index(...)\n",
      " |      S.index(sub[, start[, end]]) -> int\n",
      " |      \n",
      " |      Return the lowest index in S where substring sub is found,\n",
      " |      such that sub is contained within S[start:end].  Optional\n",
      " |      arguments start and end are interpreted as in slice notation.\n",
      " |      \n",
      " |      Raises ValueError when the substring is not found.\n",
      " |  \n",
      " |  isalnum(self, /)\n",
      " |      Return True if the string is an alpha-numeric string, False otherwise.\n",
      " |      \n",
      " |      A string is alpha-numeric if all characters in the string are alpha-numeric and\n",
      " |      there is at least one character in the string.\n",
      " |  \n",
      " |  isalpha(self, /)\n",
      " |      Return True if the string is an alphabetic string, False otherwise.\n",
      " |      \n",
      " |      A string is alphabetic if all characters in the string are alphabetic and there\n",
      " |      is at least one character in the string.\n",
      " |  \n",
      " |  isascii(self, /)\n",
      " |      Return True if all characters in the string are ASCII, False otherwise.\n",
      " |      \n",
      " |      ASCII characters have code points in the range U+0000-U+007F.\n",
      " |      Empty string is ASCII too.\n",
      " |  \n",
      " |  isdecimal(self, /)\n",
      " |      Return True if the string is a decimal string, False otherwise.\n",
      " |      \n",
      " |      A string is a decimal string if all characters in the string are decimal and\n",
      " |      there is at least one character in the string.\n",
      " |  \n",
      " |  isdigit(self, /)\n",
      " |      Return True if the string is a digit string, False otherwise.\n",
      " |      \n",
      " |      A string is a digit string if all characters in the string are digits and there\n",
      " |      is at least one character in the string.\n",
      " |  \n",
      " |  isidentifier(self, /)\n",
      " |      Return True if the string is a valid Python identifier, False otherwise.\n",
      " |      \n",
      " |      Call keyword.iskeyword(s) to test whether string s is a reserved identifier,\n",
      " |      such as \"def\" or \"class\".\n",
      " |  \n",
      " |  islower(self, /)\n",
      " |      Return True if the string is a lowercase string, False otherwise.\n",
      " |      \n",
      " |      A string is lowercase if all cased characters in the string are lowercase and\n",
      " |      there is at least one cased character in the string.\n",
      " |  \n",
      " |  isnumeric(self, /)\n",
      " |      Return True if the string is a numeric string, False otherwise.\n",
      " |      \n",
      " |      A string is numeric if all characters in the string are numeric and there is at\n",
      " |      least one character in the string.\n",
      " |  \n",
      " |  isprintable(self, /)\n",
      " |      Return True if the string is printable, False otherwise.\n",
      " |      \n",
      " |      A string is printable if all of its characters are considered printable in\n",
      " |      repr() or if it is empty.\n",
      " |  \n",
      " |  isspace(self, /)\n",
      " |      Return True if the string is a whitespace string, False otherwise.\n",
      " |      \n",
      " |      A string is whitespace if all characters in the string are whitespace and there\n",
      " |      is at least one character in the string.\n",
      " |  \n",
      " |  istitle(self, /)\n",
      " |      Return True if the string is a title-cased string, False otherwise.\n",
      " |      \n",
      " |      In a title-cased string, upper- and title-case characters may only\n",
      " |      follow uncased characters and lowercase characters only cased ones.\n",
      " |  \n",
      " |  isupper(self, /)\n",
      " |      Return True if the string is an uppercase string, False otherwise.\n",
      " |      \n",
      " |      A string is uppercase if all cased characters in the string are uppercase and\n",
      " |      there is at least one cased character in the string.\n",
      " |  \n",
      " |  join(self, iterable, /)\n",
      " |      Concatenate any number of strings.\n",
      " |      \n",
      " |      The string whose method is called is inserted in between each given string.\n",
      " |      The result is returned as a new string.\n",
      " |      \n",
      " |      Example: '.'.join(['ab', 'pq', 'rs']) -> 'ab.pq.rs'\n",
      " |  \n",
      " |  ljust(self, width, fillchar=' ', /)\n",
      " |      Return a left-justified string of length width.\n",
      " |      \n",
      " |      Padding is done using the specified fill character (default is a space).\n",
      " |  \n",
      " |  lower(self, /)\n",
      " |      Return a copy of the string converted to lowercase.\n",
      " |  \n",
      " |  lstrip(self, chars=None, /)\n",
      " |      Return a copy of the string with leading whitespace removed.\n",
      " |      \n",
      " |      If chars is given and not None, remove characters in chars instead.\n",
      " |  \n",
      " |  partition(self, sep, /)\n",
      " |      Partition the string into three parts using the given separator.\n",
      " |      \n",
      " |      This will search for the separator in the string.  If the separator is found,\n",
      " |      returns a 3-tuple containing the part before the separator, the separator\n",
      " |      itself, and the part after it.\n",
      " |      \n",
      " |      If the separator is not found, returns a 3-tuple containing the original string\n",
      " |      and two empty strings.\n",
      " |  \n",
      " |  removeprefix(self, prefix, /)\n",
      " |      Return a str with the given prefix string removed if present.\n",
      " |      \n",
      " |      If the string starts with the prefix string, return string[len(prefix):].\n",
      " |      Otherwise, return a copy of the original string.\n",
      " |  \n",
      " |  removesuffix(self, suffix, /)\n",
      " |      Return a str with the given suffix string removed if present.\n",
      " |      \n",
      " |      If the string ends with the suffix string and that suffix is not empty,\n",
      " |      return string[:-len(suffix)]. Otherwise, return a copy of the original\n",
      " |      string.\n",
      " |  \n",
      " |  replace(self, old, new, count=-1, /)\n",
      " |      Return a copy with all occurrences of substring old replaced by new.\n",
      " |      \n",
      " |        count\n",
      " |          Maximum number of occurrences to replace.\n",
      " |          -1 (the default value) means replace all occurrences.\n",
      " |      \n",
      " |      If the optional argument count is given, only the first count occurrences are\n",
      " |      replaced.\n",
      " |  \n",
      " |  rfind(...)\n",
      " |      S.rfind(sub[, start[, end]]) -> int\n",
      " |      \n",
      " |      Return the highest index in S where substring sub is found,\n",
      " |      such that sub is contained within S[start:end].  Optional\n",
      " |      arguments start and end are interpreted as in slice notation.\n",
      " |      \n",
      " |      Return -1 on failure.\n",
      " |  \n",
      " |  rindex(...)\n",
      " |      S.rindex(sub[, start[, end]]) -> int\n",
      " |      \n",
      " |      Return the highest index in S where substring sub is found,\n",
      " |      such that sub is contained within S[start:end].  Optional\n",
      " |      arguments start and end are interpreted as in slice notation.\n",
      " |      \n",
      " |      Raises ValueError when the substring is not found.\n",
      " |  \n",
      " |  rjust(self, width, fillchar=' ', /)\n",
      " |      Return a right-justified string of length width.\n",
      " |      \n",
      " |      Padding is done using the specified fill character (default is a space).\n",
      " |  \n",
      " |  rpartition(self, sep, /)\n",
      " |      Partition the string into three parts using the given separator.\n",
      " |      \n",
      " |      This will search for the separator in the string, starting at the end. If\n",
      " |      the separator is found, returns a 3-tuple containing the part before the\n",
      " |      separator, the separator itself, and the part after it.\n",
      " |      \n",
      " |      If the separator is not found, returns a 3-tuple containing two empty strings\n",
      " |      and the original string.\n",
      " |  \n",
      " |  rsplit(self, /, sep=None, maxsplit=-1)\n",
      " |      Return a list of the words in the string, using sep as the delimiter string.\n",
      " |      \n",
      " |        sep\n",
      " |          The delimiter according which to split the string.\n",
      " |          None (the default value) means split according to any whitespace,\n",
      " |          and discard empty strings from the result.\n",
      " |        maxsplit\n",
      " |          Maximum number of splits to do.\n",
      " |          -1 (the default value) means no limit.\n",
      " |      \n",
      " |      Splits are done starting at the end of the string and working to the front.\n",
      " |  \n",
      " |  rstrip(self, chars=None, /)\n",
      " |      Return a copy of the string with trailing whitespace removed.\n",
      " |      \n",
      " |      If chars is given and not None, remove characters in chars instead.\n",
      " |  \n",
      " |  split(self, /, sep=None, maxsplit=-1)\n",
      " |      Return a list of the words in the string, using sep as the delimiter string.\n",
      " |      \n",
      " |      sep\n",
      " |        The delimiter according which to split the string.\n",
      " |        None (the default value) means split according to any whitespace,\n",
      " |        and discard empty strings from the result.\n",
      " |      maxsplit\n",
      " |        Maximum number of splits to do.\n",
      " |        -1 (the default value) means no limit.\n",
      " |  \n",
      " |  splitlines(self, /, keepends=False)\n",
      " |      Return a list of the lines in the string, breaking at line boundaries.\n",
      " |      \n",
      " |      Line breaks are not included in the resulting list unless keepends is given and\n",
      " |      true.\n",
      " |  \n",
      " |  startswith(...)\n",
      " |      S.startswith(prefix[, start[, end]]) -> bool\n",
      " |      \n",
      " |      Return True if S starts with the specified prefix, False otherwise.\n",
      " |      With optional start, test S beginning at that position.\n",
      " |      With optional end, stop comparing S at that position.\n",
      " |      prefix can also be a tuple of strings to try.\n",
      " |  \n",
      " |  strip(self, chars=None, /)\n",
      " |      Return a copy of the string with leading and trailing whitespace removed.\n",
      " |      \n",
      " |      If chars is given and not None, remove characters in chars instead.\n",
      " |  \n",
      " |  swapcase(self, /)\n",
      " |      Convert uppercase characters to lowercase and lowercase characters to uppercase.\n",
      " |  \n",
      " |  title(self, /)\n",
      " |      Return a version of the string where each word is titlecased.\n",
      " |      \n",
      " |      More specifically, words start with uppercased characters and all remaining\n",
      " |      cased characters have lower case.\n",
      " |  \n",
      " |  translate(self, table, /)\n",
      " |      Replace each character in the string using the given translation table.\n",
      " |      \n",
      " |        table\n",
      " |          Translation table, which must be a mapping of Unicode ordinals to\n",
      " |          Unicode ordinals, strings, or None.\n",
      " |      \n",
      " |      The table must implement lookup/indexing via __getitem__, for instance a\n",
      " |      dictionary or list.  If this operation raises LookupError, the character is\n",
      " |      left untouched.  Characters mapped to None are deleted.\n",
      " |  \n",
      " |  upper(self, /)\n",
      " |      Return a copy of the string converted to uppercase.\n",
      " |  \n",
      " |  zfill(self, width, /)\n",
      " |      Pad a numeric string with zeros on the left, to fill a field of the given width.\n",
      " |      \n",
      " |      The string is never truncated.\n",
      " |  \n",
      " |  ----------------------------------------------------------------------\n",
      " |  Static methods defined here:\n",
      " |  \n",
      " |  __new__(*args, **kwargs) from builtins.type\n",
      " |      Create and return a new object.  See help(type) for accurate signature.\n",
      " |  \n",
      " |  maketrans(...)\n",
      " |      Return a translation table usable for str.translate().\n",
      " |      \n",
      " |      If there is only one argument, it must be a dictionary mapping Unicode\n",
      " |      ordinals (integers) or characters to Unicode ordinals, strings or None.\n",
      " |      Character keys will be then converted to ordinals.\n",
      " |      If there are two arguments, they must be strings of equal length, and\n",
      " |      in the resulting dictionary, each character in x will be mapped to the\n",
      " |      character at the same position in y. If there is a third argument, it\n",
      " |      must be a string, whose characters will be mapped to None in the result.\n",
      "\n"
     ]
    }
   ],
   "source": [
    "help(str)  # str is class"
   ]
  },
  {
   "cell_type": "code",
   "execution_count": 9,
   "id": "f3d3ae81",
   "metadata": {},
   "outputs": [
    {
     "name": "stdout",
     "output_type": "stream",
     "text": [
      "['__add__', '__class__', '__contains__', '__delattr__', '__dir__', '__doc__', '__eq__', '__format__', '__ge__', '__getattribute__', '__getitem__', '__getnewargs__', '__gt__', '__hash__', '__init__', '__init_subclass__', '__iter__', '__le__', '__len__', '__lt__', '__mod__', '__mul__', '__ne__', '__new__', '__reduce__', '__reduce_ex__', '__repr__', '__rmod__', '__rmul__', '__setattr__', '__sizeof__', '__str__', '__subclasshook__', 'capitalize', 'casefold', 'center', 'count', 'encode', 'endswith', 'expandtabs', 'find', 'format', 'format_map', 'index', 'isalnum', 'isalpha', 'isascii', 'isdecimal', 'isdigit', 'isidentifier', 'islower', 'isnumeric', 'isprintable', 'isspace', 'istitle', 'isupper', 'join', 'ljust', 'lower', 'lstrip', 'maketrans', 'partition', 'removeprefix', 'removesuffix', 'replace', 'rfind', 'rindex', 'rjust', 'rpartition', 'rsplit', 'rstrip', 'split', 'splitlines', 'startswith', 'strip', 'swapcase', 'title', 'translate', 'upper', 'zfill']\n"
     ]
    }
   ],
   "source": [
    "# str - string class'ının \n",
    "# attribute'larını  (python variable - class içinde attribute) ve \n",
    "# method'larını     (python fonksiyonlar - class içinde metod) gösterir.\n",
    "print(dir(str))"
   ]
  },
  {
   "cell_type": "code",
   "execution_count": 14,
   "id": "552e81c1",
   "metadata": {},
   "outputs": [
    {
     "name": "stdout",
     "output_type": "stream",
     "text": [
      "Help on class str in module builtins:\n",
      "\n",
      "class str(object)\n",
      " |  str(object='') -> str\n",
      " |  str(bytes_or_buffer[, encoding[, errors]]) -> str\n",
      " |  \n",
      " |  Create a new string object from the given object. If encoding or\n",
      " |  errors is specified, then the object must expose a data buffer\n",
      " |  that will be decoded using the given encoding and error handler.\n",
      " |  Otherwise, returns the result of object.__str__() (if defined)\n",
      " |  or repr(object).\n",
      " |  encoding defaults to sys.getdefaultencoding().\n",
      " |  errors defaults to 'strict'.\n",
      " |  \n",
      " |  Methods defined here:\n",
      " |  \n",
      " |  __add__(self, value, /)\n",
      " |      Return self+value.\n",
      " |  \n",
      " |  __contains__(self, key, /)\n",
      " |      Return key in self.\n",
      " |  \n",
      " |  __eq__(self, value, /)\n",
      " |      Return self==value.\n",
      " |  \n",
      " |  __format__(self, format_spec, /)\n",
      " |      Return a formatted version of the string as described by format_spec.\n",
      " |  \n",
      " |  __ge__(self, value, /)\n",
      " |      Return self>=value.\n",
      " |  \n",
      " |  __getattribute__(self, name, /)\n",
      " |      Return getattr(self, name).\n",
      " |  \n",
      " |  __getitem__(self, key, /)\n",
      " |      Return self[key].\n",
      " |  \n",
      " |  __getnewargs__(...)\n",
      " |  \n",
      " |  __gt__(self, value, /)\n",
      " |      Return self>value.\n",
      " |  \n",
      " |  __hash__(self, /)\n",
      " |      Return hash(self).\n",
      " |  \n",
      " |  __iter__(self, /)\n",
      " |      Implement iter(self).\n",
      " |  \n",
      " |  __le__(self, value, /)\n",
      " |      Return self<=value.\n",
      " |  \n",
      " |  __len__(self, /)\n",
      " |      Return len(self).\n",
      " |  \n",
      " |  __lt__(self, value, /)\n",
      " |      Return self<value.\n",
      " |  \n",
      " |  __mod__(self, value, /)\n",
      " |      Return self%value.\n",
      " |  \n",
      " |  __mul__(self, value, /)\n",
      " |      Return self*value.\n",
      " |  \n",
      " |  __ne__(self, value, /)\n",
      " |      Return self!=value.\n",
      " |  \n",
      " |  __repr__(self, /)\n",
      " |      Return repr(self).\n",
      " |  \n",
      " |  __rmod__(self, value, /)\n",
      " |      Return value%self.\n",
      " |  \n",
      " |  __rmul__(self, value, /)\n",
      " |      Return value*self.\n",
      " |  \n",
      " |  __sizeof__(self, /)\n",
      " |      Return the size of the string in memory, in bytes.\n",
      " |  \n",
      " |  __str__(self, /)\n",
      " |      Return str(self).\n",
      " |  \n",
      " |  capitalize(self, /)\n",
      " |      Return a capitalized version of the string.\n",
      " |      \n",
      " |      More specifically, make the first character have upper case and the rest lower\n",
      " |      case.\n",
      " |  \n",
      " |  casefold(self, /)\n",
      " |      Return a version of the string suitable for caseless comparisons.\n",
      " |  \n",
      " |  center(self, width, fillchar=' ', /)\n",
      " |      Return a centered string of length width.\n",
      " |      \n",
      " |      Padding is done using the specified fill character (default is a space).\n",
      " |  \n",
      " |  count(...)\n",
      " |      S.count(sub[, start[, end]]) -> int\n",
      " |      \n",
      " |      Return the number of non-overlapping occurrences of substring sub in\n",
      " |      string S[start:end].  Optional arguments start and end are\n",
      " |      interpreted as in slice notation.\n",
      " |  \n",
      " |  encode(self, /, encoding='utf-8', errors='strict')\n",
      " |      Encode the string using the codec registered for encoding.\n",
      " |      \n",
      " |      encoding\n",
      " |        The encoding in which to encode the string.\n",
      " |      errors\n",
      " |        The error handling scheme to use for encoding errors.\n",
      " |        The default is 'strict' meaning that encoding errors raise a\n",
      " |        UnicodeEncodeError.  Other possible values are 'ignore', 'replace' and\n",
      " |        'xmlcharrefreplace' as well as any other name registered with\n",
      " |        codecs.register_error that can handle UnicodeEncodeErrors.\n",
      " |  \n",
      " |  endswith(...)\n",
      " |      S.endswith(suffix[, start[, end]]) -> bool\n",
      " |      \n",
      " |      Return True if S ends with the specified suffix, False otherwise.\n",
      " |      With optional start, test S beginning at that position.\n",
      " |      With optional end, stop comparing S at that position.\n",
      " |      suffix can also be a tuple of strings to try.\n",
      " |  \n",
      " |  expandtabs(self, /, tabsize=8)\n",
      " |      Return a copy where all tab characters are expanded using spaces.\n",
      " |      \n",
      " |      If tabsize is not given, a tab size of 8 characters is assumed.\n",
      " |  \n",
      " |  find(...)\n",
      " |      S.find(sub[, start[, end]]) -> int\n",
      " |      \n",
      " |      Return the lowest index in S where substring sub is found,\n",
      " |      such that sub is contained within S[start:end].  Optional\n",
      " |      arguments start and end are interpreted as in slice notation.\n",
      " |      \n",
      " |      Return -1 on failure.\n",
      " |  \n",
      " |  format(...)\n",
      " |      S.format(*args, **kwargs) -> str\n",
      " |      \n",
      " |      Return a formatted version of S, using substitutions from args and kwargs.\n",
      " |      The substitutions are identified by braces ('{' and '}').\n",
      " |  \n",
      " |  format_map(...)\n",
      " |      S.format_map(mapping) -> str\n",
      " |      \n",
      " |      Return a formatted version of S, using substitutions from mapping.\n",
      " |      The substitutions are identified by braces ('{' and '}').\n",
      " |  \n",
      " |  index(...)\n",
      " |      S.index(sub[, start[, end]]) -> int\n",
      " |      \n",
      " |      Return the lowest index in S where substring sub is found,\n",
      " |      such that sub is contained within S[start:end].  Optional\n",
      " |      arguments start and end are interpreted as in slice notation.\n",
      " |      \n",
      " |      Raises ValueError when the substring is not found.\n",
      " |  \n",
      " |  isalnum(self, /)\n",
      " |      Return True if the string is an alpha-numeric string, False otherwise.\n",
      " |      \n",
      " |      A string is alpha-numeric if all characters in the string are alpha-numeric and\n",
      " |      there is at least one character in the string.\n",
      " |  \n",
      " |  isalpha(self, /)\n",
      " |      Return True if the string is an alphabetic string, False otherwise.\n",
      " |      \n",
      " |      A string is alphabetic if all characters in the string are alphabetic and there\n",
      " |      is at least one character in the string.\n",
      " |  \n",
      " |  isascii(self, /)\n",
      " |      Return True if all characters in the string are ASCII, False otherwise.\n",
      " |      \n",
      " |      ASCII characters have code points in the range U+0000-U+007F.\n",
      " |      Empty string is ASCII too.\n",
      " |  \n",
      " |  isdecimal(self, /)\n",
      " |      Return True if the string is a decimal string, False otherwise.\n",
      " |      \n",
      " |      A string is a decimal string if all characters in the string are decimal and\n",
      " |      there is at least one character in the string.\n",
      " |  \n",
      " |  isdigit(self, /)\n",
      " |      Return True if the string is a digit string, False otherwise.\n",
      " |      \n",
      " |      A string is a digit string if all characters in the string are digits and there\n",
      " |      is at least one character in the string.\n",
      " |  \n",
      " |  isidentifier(self, /)\n",
      " |      Return True if the string is a valid Python identifier, False otherwise.\n",
      " |      \n",
      " |      Call keyword.iskeyword(s) to test whether string s is a reserved identifier,\n",
      " |      such as \"def\" or \"class\".\n",
      " |  \n",
      " |  islower(self, /)\n",
      " |      Return True if the string is a lowercase string, False otherwise.\n",
      " |      \n",
      " |      A string is lowercase if all cased characters in the string are lowercase and\n",
      " |      there is at least one cased character in the string.\n",
      " |  \n",
      " |  isnumeric(self, /)\n",
      " |      Return True if the string is a numeric string, False otherwise.\n",
      " |      \n",
      " |      A string is numeric if all characters in the string are numeric and there is at\n",
      " |      least one character in the string.\n",
      " |  \n",
      " |  isprintable(self, /)\n",
      " |      Return True if the string is printable, False otherwise.\n",
      " |      \n",
      " |      A string is printable if all of its characters are considered printable in\n",
      " |      repr() or if it is empty.\n",
      " |  \n",
      " |  isspace(self, /)\n",
      " |      Return True if the string is a whitespace string, False otherwise.\n",
      " |      \n",
      " |      A string is whitespace if all characters in the string are whitespace and there\n",
      " |      is at least one character in the string.\n",
      " |  \n",
      " |  istitle(self, /)\n",
      " |      Return True if the string is a title-cased string, False otherwise.\n",
      " |      \n",
      " |      In a title-cased string, upper- and title-case characters may only\n",
      " |      follow uncased characters and lowercase characters only cased ones.\n",
      " |  \n",
      " |  isupper(self, /)\n",
      " |      Return True if the string is an uppercase string, False otherwise.\n",
      " |      \n",
      " |      A string is uppercase if all cased characters in the string are uppercase and\n",
      " |      there is at least one cased character in the string.\n",
      " |  \n",
      " |  join(self, iterable, /)\n",
      " |      Concatenate any number of strings.\n",
      " |      \n",
      " |      The string whose method is called is inserted in between each given string.\n",
      " |      The result is returned as a new string.\n",
      " |      \n",
      " |      Example: '.'.join(['ab', 'pq', 'rs']) -> 'ab.pq.rs'\n",
      " |  \n",
      " |  ljust(self, width, fillchar=' ', /)\n",
      " |      Return a left-justified string of length width.\n",
      " |      \n",
      " |      Padding is done using the specified fill character (default is a space).\n",
      " |  \n",
      " |  lower(self, /)\n",
      " |      Return a copy of the string converted to lowercase.\n",
      " |  \n",
      " |  lstrip(self, chars=None, /)\n",
      " |      Return a copy of the string with leading whitespace removed.\n",
      " |      \n",
      " |      If chars is given and not None, remove characters in chars instead.\n",
      " |  \n",
      " |  partition(self, sep, /)\n",
      " |      Partition the string into three parts using the given separator.\n",
      " |      \n",
      " |      This will search for the separator in the string.  If the separator is found,\n",
      " |      returns a 3-tuple containing the part before the separator, the separator\n",
      " |      itself, and the part after it.\n",
      " |      \n",
      " |      If the separator is not found, returns a 3-tuple containing the original string\n",
      " |      and two empty strings.\n",
      " |  \n",
      " |  removeprefix(self, prefix, /)\n",
      " |      Return a str with the given prefix string removed if present.\n",
      " |      \n",
      " |      If the string starts with the prefix string, return string[len(prefix):].\n",
      " |      Otherwise, return a copy of the original string.\n",
      " |  \n",
      " |  removesuffix(self, suffix, /)\n",
      " |      Return a str with the given suffix string removed if present.\n",
      " |      \n",
      " |      If the string ends with the suffix string and that suffix is not empty,\n",
      " |      return string[:-len(suffix)]. Otherwise, return a copy of the original\n",
      " |      string.\n",
      " |  \n",
      " |  replace(self, old, new, count=-1, /)\n",
      " |      Return a copy with all occurrences of substring old replaced by new.\n",
      " |      \n",
      " |        count\n",
      " |          Maximum number of occurrences to replace.\n",
      " |          -1 (the default value) means replace all occurrences.\n",
      " |      \n",
      " |      If the optional argument count is given, only the first count occurrences are\n",
      " |      replaced.\n",
      " |  \n",
      " |  rfind(...)\n",
      " |      S.rfind(sub[, start[, end]]) -> int\n",
      " |      \n",
      " |      Return the highest index in S where substring sub is found,\n",
      " |      such that sub is contained within S[start:end].  Optional\n",
      " |      arguments start and end are interpreted as in slice notation.\n",
      " |      \n",
      " |      Return -1 on failure.\n",
      " |  \n",
      " |  rindex(...)\n",
      " |      S.rindex(sub[, start[, end]]) -> int\n",
      " |      \n",
      " |      Return the highest index in S where substring sub is found,\n",
      " |      such that sub is contained within S[start:end].  Optional\n",
      " |      arguments start and end are interpreted as in slice notation.\n",
      " |      \n",
      " |      Raises ValueError when the substring is not found.\n",
      " |  \n",
      " |  rjust(self, width, fillchar=' ', /)\n",
      " |      Return a right-justified string of length width.\n",
      " |      \n",
      " |      Padding is done using the specified fill character (default is a space).\n",
      " |  \n",
      " |  rpartition(self, sep, /)\n",
      " |      Partition the string into three parts using the given separator.\n",
      " |      \n",
      " |      This will search for the separator in the string, starting at the end. If\n",
      " |      the separator is found, returns a 3-tuple containing the part before the\n",
      " |      separator, the separator itself, and the part after it.\n",
      " |      \n",
      " |      If the separator is not found, returns a 3-tuple containing two empty strings\n",
      " |      and the original string.\n",
      " |  \n",
      " |  rsplit(self, /, sep=None, maxsplit=-1)\n",
      " |      Return a list of the words in the string, using sep as the delimiter string.\n",
      " |      \n",
      " |        sep\n",
      " |          The delimiter according which to split the string.\n",
      " |          None (the default value) means split according to any whitespace,\n",
      " |          and discard empty strings from the result.\n",
      " |        maxsplit\n",
      " |          Maximum number of splits to do.\n",
      " |          -1 (the default value) means no limit.\n",
      " |      \n",
      " |      Splits are done starting at the end of the string and working to the front.\n",
      " |  \n",
      " |  rstrip(self, chars=None, /)\n",
      " |      Return a copy of the string with trailing whitespace removed.\n",
      " |      \n",
      " |      If chars is given and not None, remove characters in chars instead.\n",
      " |  \n",
      " |  split(self, /, sep=None, maxsplit=-1)\n",
      " |      Return a list of the words in the string, using sep as the delimiter string.\n",
      " |      \n",
      " |      sep\n",
      " |        The delimiter according which to split the string.\n",
      " |        None (the default value) means split according to any whitespace,\n",
      " |        and discard empty strings from the result.\n",
      " |      maxsplit\n",
      " |        Maximum number of splits to do.\n",
      " |        -1 (the default value) means no limit.\n",
      " |  \n",
      " |  splitlines(self, /, keepends=False)\n",
      " |      Return a list of the lines in the string, breaking at line boundaries.\n",
      " |      \n",
      " |      Line breaks are not included in the resulting list unless keepends is given and\n",
      " |      true.\n",
      " |  \n",
      " |  startswith(...)\n",
      " |      S.startswith(prefix[, start[, end]]) -> bool\n",
      " |      \n",
      " |      Return True if S starts with the specified prefix, False otherwise.\n",
      " |      With optional start, test S beginning at that position.\n",
      " |      With optional end, stop comparing S at that position.\n",
      " |      prefix can also be a tuple of strings to try.\n",
      " |  \n",
      " |  strip(self, chars=None, /)\n",
      " |      Return a copy of the string with leading and trailing whitespace removed.\n",
      " |      \n",
      " |      If chars is given and not None, remove characters in chars instead.\n",
      " |  \n",
      " |  swapcase(self, /)\n",
      " |      Convert uppercase characters to lowercase and lowercase characters to uppercase.\n",
      " |  \n",
      " |  title(self, /)\n",
      " |      Return a version of the string where each word is titlecased.\n",
      " |      \n",
      " |      More specifically, words start with uppercased characters and all remaining\n",
      " |      cased characters have lower case.\n",
      " |  \n",
      " |  translate(self, table, /)\n",
      " |      Replace each character in the string using the given translation table.\n",
      " |      \n",
      " |        table\n",
      " |          Translation table, which must be a mapping of Unicode ordinals to\n",
      " |          Unicode ordinals, strings, or None.\n",
      " |      \n",
      " |      The table must implement lookup/indexing via __getitem__, for instance a\n",
      " |      dictionary or list.  If this operation raises LookupError, the character is\n",
      " |      left untouched.  Characters mapped to None are deleted.\n",
      " |  \n",
      " |  upper(self, /)\n",
      " |      Return a copy of the string converted to uppercase.\n",
      " |  \n",
      " |  zfill(self, width, /)\n",
      " |      Pad a numeric string with zeros on the left, to fill a field of the given width.\n",
      " |      \n",
      " |      The string is never truncated.\n",
      " |  \n",
      " |  ----------------------------------------------------------------------\n",
      " |  Static methods defined here:\n",
      " |  \n",
      " |  __new__(*args, **kwargs) from builtins.type\n",
      " |      Create and return a new object.  See help(type) for accurate signature.\n",
      " |  \n",
      " |  maketrans(...)\n",
      " |      Return a translation table usable for str.translate().\n",
      " |      \n",
      " |      If there is only one argument, it must be a dictionary mapping Unicode\n",
      " |      ordinals (integers) or characters to Unicode ordinals, strings or None.\n",
      " |      Character keys will be then converted to ordinals.\n",
      " |      If there are two arguments, they must be strings of equal length, and\n",
      " |      in the resulting dictionary, each character in x will be mapped to the\n",
      " |      character at the same position in y. If there is a third argument, it\n",
      " |      must be a string, whose characters will be mapped to None in the result.\n",
      "\n"
     ]
    }
   ],
   "source": [
    "help(str.__name__)"
   ]
  },
  {
   "cell_type": "code",
   "execution_count": 13,
   "id": "754a2cf2",
   "metadata": {},
   "outputs": [
    {
     "name": "stdout",
     "output_type": "stream",
     "text": [
      "Help on method_descriptor:\n",
      "\n",
      "capitalize(self, /)\n",
      "    Return a capitalized version of the string.\n",
      "    \n",
      "    More specifically, make the first character have upper case and the rest lower\n",
      "    case.\n",
      "\n"
     ]
    }
   ],
   "source": [
    "help(str.capitalize)"
   ]
  },
  {
   "cell_type": "code",
   "execution_count": null,
   "id": "088844dc",
   "metadata": {},
   "outputs": [],
   "source": []
  },
  {
   "cell_type": "markdown",
   "id": "852806f7",
   "metadata": {},
   "source": [
    "# list of Build in Functions"
   ]
  },
  {
   "cell_type": "code",
   "execution_count": 24,
   "id": "0095a85b",
   "metadata": {},
   "outputs": [
    {
     "name": "stdout",
     "output_type": "stream",
     "text": [
      "['ArithmeticError', 'AssertionError', 'AttributeError', 'BaseException', 'BlockingIOError', 'BrokenPipeError', 'BufferError', 'BytesWarning', 'ChildProcessError', 'ConnectionAbortedError', 'ConnectionError', 'ConnectionRefusedError', 'ConnectionResetError', 'DeprecationWarning', 'EOFError', 'Ellipsis', 'EncodingWarning', 'EnvironmentError', 'Exception', 'False', 'FileExistsError', 'FileNotFoundError', 'FloatingPointError', 'FutureWarning', 'GeneratorExit', 'IOError', 'ImportError', 'ImportWarning', 'IndentationError', 'IndexError', 'InterruptedError', 'IsADirectoryError', 'KeyError', 'KeyboardInterrupt', 'LookupError', 'MemoryError', 'ModuleNotFoundError', 'NameError', 'None', 'NotADirectoryError', 'NotImplemented', 'NotImplementedError', 'OSError', 'OverflowError', 'PendingDeprecationWarning', 'PermissionError', 'ProcessLookupError', 'RecursionError', 'ReferenceError', 'ResourceWarning', 'RuntimeError', 'RuntimeWarning', 'StopAsyncIteration', 'StopIteration', 'SyntaxError', 'SyntaxWarning', 'SystemError', 'SystemExit', 'TabError', 'TimeoutError', 'True', 'TypeError', 'UnboundLocalError', 'UnicodeDecodeError', 'UnicodeEncodeError', 'UnicodeError', 'UnicodeTranslateError', 'UnicodeWarning', 'UserWarning', 'ValueError', 'Warning', 'WindowsError', 'ZeroDivisionError', '__IPYTHON__', '__build_class__', '__debug__', '__doc__', '__import__', '__loader__', '__name__', '__package__', '__spec__', 'abs', 'aiter', 'all', 'anext', 'any', 'ascii', 'bin', 'bool', 'breakpoint', 'bytearray', 'bytes', 'callable', 'chr', 'classmethod', 'compile', 'complex', 'copyright', 'credits', 'delattr', 'dict', 'dir', 'display', 'divmod', 'enumerate', 'eval', 'exec', 'execfile', 'filter', 'float', 'format', 'frozenset', 'get_ipython', 'getattr', 'globals', 'hasattr', 'hash', 'help', 'hex', 'id', 'input', 'int', 'isinstance', 'issubclass', 'iter', 'len', 'license', 'list', 'locals', 'map', 'max', 'memoryview', 'min', 'next', 'object', 'oct', 'open', 'ord', 'pow', 'print', 'property', 'range', 'repr', 'reversed', 'round', 'runfile', 'set', 'setattr', 'slice', 'sorted', 'staticmethod', 'str', 'sum', 'super', 'tuple', 'type', 'vars', 'zip']\n"
     ]
    }
   ],
   "source": [
    "print(dir(__builtins__))"
   ]
  },
  {
   "cell_type": "code",
   "execution_count": null,
   "id": "350f80a1",
   "metadata": {},
   "outputs": [],
   "source": []
  },
  {
   "cell_type": "markdown",
   "id": "7a080cb3",
   "metadata": {},
   "source": [
    "# Print lists in Python (4 Different Ways Line by Line)"
   ]
  },
  {
   "cell_type": "code",
   "execution_count": 1,
   "id": "702492e7",
   "metadata": {},
   "outputs": [
    {
     "data": {
      "text/plain": [
       "[11, 45, 8, 11, 23, 45, 23, 45, 89]"
      ]
     },
     "execution_count": 1,
     "metadata": {},
     "output_type": "execute_result"
    }
   ],
   "source": [
    "liste = [11, 45, 8, 11, 23, 45, 23, 45, 89]\n",
    "liste"
   ]
  },
  {
   "cell_type": "code",
   "execution_count": 2,
   "id": "d0c2e4ae",
   "metadata": {},
   "outputs": [
    {
     "name": "stdout",
     "output_type": "stream",
     "text": [
      "[11, 45, 8, 11, 23, 45, 23, 45, 89]\n"
     ]
    }
   ],
   "source": [
    "print(liste)"
   ]
  },
  {
   "cell_type": "code",
   "execution_count": null,
   "id": "b76a9659",
   "metadata": {},
   "outputs": [],
   "source": []
  },
  {
   "cell_type": "markdown",
   "id": "67faac1b",
   "metadata": {},
   "source": [
    "## Using for loop :  write line by line"
   ]
  },
  {
   "cell_type": "code",
   "execution_count": 3,
   "id": "d36164e1",
   "metadata": {},
   "outputs": [
    {
     "name": "stdout",
     "output_type": "stream",
     "text": [
      "11\n",
      "45\n",
      "8\n",
      "11\n",
      "23\n",
      "45\n",
      "23\n",
      "45\n",
      "89\n"
     ]
    }
   ],
   "source": [
    "for x in range(len(liste)):\n",
    "    print(liste[x])"
   ]
  },
  {
   "cell_type": "code",
   "execution_count": 30,
   "id": "c2b7ca2f",
   "metadata": {},
   "outputs": [
    {
     "name": "stdout",
     "output_type": "stream",
     "text": [
      "11\n",
      "8\n",
      "23\n",
      "23\n"
     ]
    }
   ],
   "source": [
    "for x in range(len(liste)//2):\n",
    "    print(liste[x*2])"
   ]
  },
  {
   "cell_type": "markdown",
   "id": "c9e68773",
   "metadata": {},
   "source": [
    "## Without using loops: * symbol  :  write line by line"
   ]
  },
  {
   "cell_type": "code",
   "execution_count": null,
   "id": "02e431d5",
   "metadata": {},
   "outputs": [],
   "source": [
    "liste = [11, 45, 8, 11, 23, 45, 23, 45, 89]"
   ]
  },
  {
   "cell_type": "code",
   "execution_count": 8,
   "id": "5ee901e8",
   "metadata": {},
   "outputs": [
    {
     "ename": "SyntaxError",
     "evalue": "can't use starred expression here (102785490.py, line 1)",
     "output_type": "error",
     "traceback": [
      "\u001b[1;36m  Input \u001b[1;32mIn [8]\u001b[1;36m\u001b[0m\n\u001b[1;33m    *liste\u001b[0m\n\u001b[1;37m    ^\u001b[0m\n\u001b[1;31mSyntaxError\u001b[0m\u001b[1;31m:\u001b[0m can't use starred expression here\n"
     ]
    }
   ],
   "source": [
    "*liste"
   ]
  },
  {
   "cell_type": "code",
   "execution_count": 12,
   "id": "a456c957",
   "metadata": {},
   "outputs": [
    {
     "name": "stdout",
     "output_type": "stream",
     "text": [
      "11 45 8 11 23 45 23 45 89\n"
     ]
    }
   ],
   "source": [
    "print(*liste)"
   ]
  },
  {
   "cell_type": "code",
   "execution_count": 10,
   "id": "071316b1",
   "metadata": {},
   "outputs": [
    {
     "name": "stdout",
     "output_type": "stream",
     "text": [
      "11 45 8 11 23 45 23 45 89\n"
     ]
    }
   ],
   "source": [
    "print(11, 45, 8, 11, 23, 45, 23, 45, 89)"
   ]
  },
  {
   "cell_type": "code",
   "execution_count": 15,
   "id": "3ddd430b",
   "metadata": {},
   "outputs": [
    {
     "name": "stdout",
     "output_type": "stream",
     "text": [
      "11\n",
      "45\n",
      "8\n",
      "11\n",
      "23\n",
      "45\n",
      "23\n",
      "45\n",
      "89\n"
     ]
    }
   ],
   "source": [
    "print(11, 45, 8, 11, 23, 45, 23, 45, 89, sep='\\n')"
   ]
  },
  {
   "cell_type": "code",
   "execution_count": 14,
   "id": "338a3453",
   "metadata": {},
   "outputs": [
    {
     "name": "stdout",
     "output_type": "stream",
     "text": [
      "11\n",
      "45\n",
      "8\n",
      "11\n",
      "23\n",
      "45\n",
      "23\n",
      "45\n",
      "89\n"
     ]
    }
   ],
   "source": [
    "print(*liste, sep='\\n')"
   ]
  },
  {
   "cell_type": "code",
   "execution_count": null,
   "id": "e98f261a",
   "metadata": {},
   "outputs": [],
   "source": []
  },
  {
   "cell_type": "code",
   "execution_count": 16,
   "id": "ccc00234",
   "metadata": {},
   "outputs": [
    {
     "ename": "SyntaxError",
     "evalue": "can't use starred expression here (2969166982.py, line 1)",
     "output_type": "error",
     "traceback": [
      "\u001b[1;36m  Input \u001b[1;32mIn [16]\u001b[1;36m\u001b[0m\n\u001b[1;33m    *'deneme'\u001b[0m\n\u001b[1;37m    ^\u001b[0m\n\u001b[1;31mSyntaxError\u001b[0m\u001b[1;31m:\u001b[0m can't use starred expression here\n"
     ]
    }
   ],
   "source": [
    "*'deneme'"
   ]
  },
  {
   "cell_type": "code",
   "execution_count": 1,
   "id": "ae013f5e",
   "metadata": {},
   "outputs": [
    {
     "name": "stdout",
     "output_type": "stream",
     "text": [
      "d\te\tn\te\tm\te\n"
     ]
    }
   ],
   "source": [
    "print(*'deneme', sep='\\t')"
   ]
  },
  {
   "cell_type": "code",
   "execution_count": 3,
   "id": "9f8beb5a",
   "metadata": {},
   "outputs": [
    {
     "data": {
      "text/plain": [
       "['d', 'e', 'n', 'e', 'm', 'e']"
      ]
     },
     "execution_count": 3,
     "metadata": {},
     "output_type": "execute_result"
    }
   ],
   "source": [
    "list3 = [*'deneme']\n",
    "list3"
   ]
  },
  {
   "cell_type": "code",
   "execution_count": null,
   "id": "ac3d0198",
   "metadata": {},
   "outputs": [],
   "source": []
  },
  {
   "cell_type": "code",
   "execution_count": 4,
   "id": "67738e9a",
   "metadata": {},
   "outputs": [
    {
     "name": "stdout",
     "output_type": "stream",
     "text": [
      "d\te\tn\te\tm\te\n"
     ]
    }
   ],
   "source": [
    "print(*list3, sep='\\t')"
   ]
  },
  {
   "cell_type": "code",
   "execution_count": 51,
   "id": "c8158120",
   "metadata": {},
   "outputs": [
    {
     "name": "stdout",
     "output_type": "stream",
     "text": [
      "11 + 45 + 8 + 11 + 23 + 45 + 23 + 45 + 89\n"
     ]
    }
   ],
   "source": [
    "print(*liste, sep=' + ')"
   ]
  },
  {
   "cell_type": "code",
   "execution_count": null,
   "id": "630caae4",
   "metadata": {},
   "outputs": [],
   "source": [
    "liste = [11, 45, 8, 11, 23, 45, 23, 45, 89]"
   ]
  },
  {
   "cell_type": "code",
   "execution_count": null,
   "id": "d34ff19c",
   "metadata": {},
   "outputs": [],
   "source": []
  },
  {
   "cell_type": "markdown",
   "id": "2d08a822",
   "metadata": {},
   "source": [
    "## '\\n'.join(iterable)  :  write line by line"
   ]
  },
  {
   "cell_type": "markdown",
   "id": "517f896b",
   "metadata": {},
   "source": [
    "### split() nedir?"
   ]
  },
  {
   "cell_type": "code",
   "execution_count": 18,
   "id": "004fad1f",
   "metadata": {},
   "outputs": [
    {
     "data": {
      "text/plain": [
       "['d', 'e', 'n', 'e', 'm', 'e']"
      ]
     },
     "execution_count": 18,
     "metadata": {},
     "output_type": "execute_result"
    }
   ],
   "source": [
    "list1 = 'd e n e m e'.split()  #  (' ')  list() - []\n",
    "list1"
   ]
  },
  {
   "cell_type": "code",
   "execution_count": 20,
   "id": "f53176bc",
   "metadata": {},
   "outputs": [
    {
     "data": {
      "text/plain": [
       "['d ', ' n ', ' m ', '']"
      ]
     },
     "execution_count": 20,
     "metadata": {},
     "output_type": "execute_result"
    }
   ],
   "source": [
    "list1 = 'd e n e m e'.split('e')  #  (' ')  list() - []\n",
    "list1"
   ]
  },
  {
   "cell_type": "code",
   "execution_count": 21,
   "id": "cb14d5b8",
   "metadata": {},
   "outputs": [
    {
     "data": {
      "text/plain": [
       "['deneme']"
      ]
     },
     "execution_count": 21,
     "metadata": {},
     "output_type": "execute_result"
    }
   ],
   "source": [
    "list1 = 'deneme'.split()  #  (' ')  list() - []\n",
    "list1"
   ]
  },
  {
   "cell_type": "code",
   "execution_count": 19,
   "id": "e2ea7f5c",
   "metadata": {},
   "outputs": [
    {
     "data": {
      "text/plain": [
       "list"
      ]
     },
     "execution_count": 19,
     "metadata": {},
     "output_type": "execute_result"
    }
   ],
   "source": [
    "type(list1)"
   ]
  },
  {
   "cell_type": "code",
   "execution_count": 64,
   "id": "497c6d8f",
   "metadata": {},
   "outputs": [
    {
     "data": {
      "text/plain": [
       "['d', 'e n e m', 'e']"
      ]
     },
     "execution_count": 64,
     "metadata": {},
     "output_type": "execute_result"
    }
   ],
   "source": [
    "list1 = 'd+e n e m+e'.split('+')  #  (' ')\n",
    "list1"
   ]
  },
  {
   "cell_type": "code",
   "execution_count": 65,
   "id": "42177b70",
   "metadata": {},
   "outputs": [
    {
     "data": {
      "text/plain": [
       "['de n', 'e me']"
      ]
     },
     "execution_count": 65,
     "metadata": {},
     "output_type": "execute_result"
    }
   ],
   "source": [
    "list1 = 'de n4e me'.split('4')  #  (' ')\n",
    "list1"
   ]
  },
  {
   "cell_type": "markdown",
   "id": "6d22212b",
   "metadata": {},
   "source": [
    "### ''.join(iterable)  # 'arası',  (iterable-string)  nedir?"
   ]
  },
  {
   "cell_type": "code",
   "execution_count": 22,
   "id": "9b0720d5",
   "metadata": {},
   "outputs": [
    {
     "data": {
      "text/plain": [
       "'deneme'"
      ]
     },
     "execution_count": 22,
     "metadata": {},
     "output_type": "execute_result"
    }
   ],
   "source": [
    "list1 = ''.join('deneme')\n",
    "list1"
   ]
  },
  {
   "cell_type": "code",
   "execution_count": 23,
   "id": "9af39de8",
   "metadata": {},
   "outputs": [
    {
     "data": {
      "text/plain": [
       "'d+e+n+e+m+e'"
      ]
     },
     "execution_count": 23,
     "metadata": {},
     "output_type": "execute_result"
    }
   ],
   "source": [
    "list1 = '+'.join('deneme')\n",
    "list1"
   ]
  },
  {
   "cell_type": "code",
   "execution_count": 3,
   "id": "f217769f",
   "metadata": {},
   "outputs": [
    {
     "data": {
      "text/plain": [
       "'d\\ne\\nn\\ne\\nm\\ne'"
      ]
     },
     "execution_count": 3,
     "metadata": {},
     "output_type": "execute_result"
    }
   ],
   "source": [
    "list1 = '\\n'.join('deneme')\n",
    "list1"
   ]
  },
  {
   "cell_type": "code",
   "execution_count": 4,
   "id": "50b0dde8",
   "metadata": {},
   "outputs": [
    {
     "name": "stdout",
     "output_type": "stream",
     "text": [
      "d\n",
      "e\n",
      "n\n",
      "e\n",
      "m\n",
      "e\n"
     ]
    }
   ],
   "source": [
    "print(list1)"
   ]
  },
  {
   "cell_type": "markdown",
   "id": "4fcd5ecb",
   "metadata": {},
   "source": [
    "```\n",
    "'deneme' den liste metodu kullanmadan harf listesi olusturma  \n",
    "1- * ile \n",
    "2- strip ve join ile\n",
    "\n",
    "```"
   ]
  },
  {
   "cell_type": "code",
   "execution_count": 6,
   "id": "6fd20dde",
   "metadata": {},
   "outputs": [
    {
     "data": {
      "text/plain": [
       "['d', 'e', 'n', 'e', 'm', 'e']"
      ]
     },
     "execution_count": 6,
     "metadata": {},
     "output_type": "execute_result"
    }
   ],
   "source": [
    "list1 = [*'deneme']\n",
    "list1"
   ]
  },
  {
   "cell_type": "code",
   "execution_count": 5,
   "id": "15d25c50",
   "metadata": {},
   "outputs": [
    {
     "data": {
      "text/plain": [
       "['d', 'e', 'n', 'e', 'm', 'e']"
      ]
     },
     "execution_count": 5,
     "metadata": {},
     "output_type": "execute_result"
    }
   ],
   "source": [
    "list1 = ' '.join('deneme').split()\n",
    "list1"
   ]
  },
  {
   "cell_type": "code",
   "execution_count": 11,
   "id": "f9b0943d",
   "metadata": {},
   "outputs": [],
   "source": [
    "liste = [11, 45, 8, 11, 23, 45, 23, 45, 89]"
   ]
  },
  {
   "cell_type": "code",
   "execution_count": 12,
   "id": "04788873",
   "metadata": {},
   "outputs": [
    {
     "ename": "TypeError",
     "evalue": "sequence item 0: expected str instance, int found",
     "output_type": "error",
     "traceback": [
      "\u001b[1;31m---------------------------------------------------------------------------\u001b[0m",
      "\u001b[1;31mTypeError\u001b[0m                                 Traceback (most recent call last)",
      "\u001b[1;32md:\\Masaüstü\\Yeni klasör (2)\\GTekrar-2022-04-03-print-Asteriks-yertut-yield-listComp-lambda.ipynb Cell 38'\u001b[0m in \u001b[0;36m<cell line: 1>\u001b[1;34m()\u001b[0m\n\u001b[1;32m----> <a href='vscode-notebook-cell:/d%3A/Masa%C3%BCst%C3%BC/Yeni%20klas%C3%B6r%20%282%29/GTekrar-2022-04-03-print-Asteriks-yertut-yield-listComp-lambda.ipynb#ch0000192?line=0'>1</a>\u001b[0m \u001b[39m'\u001b[39;49m\u001b[39m'\u001b[39;49m\u001b[39m.\u001b[39;49mjoin(liste)\n",
      "\u001b[1;31mTypeError\u001b[0m: sequence item 0: expected str instance, int found"
     ]
    }
   ],
   "source": [
    "''.join(liste)  # join strin alır"
   ]
  },
  {
   "cell_type": "code",
   "execution_count": 35,
   "id": "0eeec7c7",
   "metadata": {},
   "outputs": [],
   "source": [
    "liste = ['11', '45', '8', '11', '23', '45', '23', '45', '89']"
   ]
  },
  {
   "cell_type": "code",
   "execution_count": 36,
   "id": "99c68139",
   "metadata": {},
   "outputs": [
    {
     "data": {
      "text/plain": [
       "'11 45 8 11 23 45 23 45 89'"
      ]
     },
     "execution_count": 36,
     "metadata": {},
     "output_type": "execute_result"
    }
   ],
   "source": [
    "ilk_hali = ' '.join(liste)  # like 'd e n e m e'\n",
    "ilk_hali "
   ]
  },
  {
   "cell_type": "code",
   "execution_count": 37,
   "id": "683f76f9",
   "metadata": {},
   "outputs": [
    {
     "name": "stdout",
     "output_type": "stream",
     "text": [
      "11\t45\t8\t11\t23\t45\t23\t45\t89\n"
     ]
    }
   ],
   "source": [
    "print('\\t'.join(liste))"
   ]
  },
  {
   "cell_type": "code",
   "execution_count": 38,
   "id": "bbff8dca",
   "metadata": {},
   "outputs": [
    {
     "name": "stdout",
     "output_type": "stream",
     "text": [
      "11\n",
      "45\n",
      "8\n",
      "11\n",
      "23\n",
      "45\n",
      "23\n",
      "45\n",
      "89\n"
     ]
    }
   ],
   "source": [
    "print('\\n'.join(liste))"
   ]
  },
  {
   "cell_type": "code",
   "execution_count": null,
   "id": "7b019aef",
   "metadata": {},
   "outputs": [],
   "source": []
  },
  {
   "cell_type": "markdown",
   "id": "a4fe56f3",
   "metadata": {},
   "source": [
    "## '\\n'.join(iterable) use map(str, iterable)  :  write line by line"
   ]
  },
  {
   "cell_type": "code",
   "execution_count": null,
   "id": "82f14c95",
   "metadata": {},
   "outputs": [],
   "source": []
  },
  {
   "cell_type": "code",
   "execution_count": 13,
   "id": "31c112d8",
   "metadata": {},
   "outputs": [
    {
     "data": {
      "text/plain": [
       "(['11', '45', '8', '11', '23', '45', '23', '45', '89'], <map at 0x1a6fa63b130>)"
      ]
     },
     "execution_count": 13,
     "metadata": {},
     "output_type": "execute_result"
    }
   ],
   "source": [
    "liste = [11, 45, 8, 11, 23, 45, 23, 45, 89]\n",
    "\n",
    "list(map(str, liste)), map(str, liste)"
   ]
  },
  {
   "cell_type": "code",
   "execution_count": 43,
   "id": "034ad11c",
   "metadata": {},
   "outputs": [
    {
     "name": "stdout",
     "output_type": "stream",
     "text": [
      "11\n",
      "45\n",
      "8\n",
      "11\n",
      "23\n",
      "45\n",
      "23\n",
      "45\n",
      "89\n"
     ]
    }
   ],
   "source": [
    "print('\\n'.join(map(str, liste)))"
   ]
  },
  {
   "cell_type": "code",
   "execution_count": null,
   "id": "bd422847",
   "metadata": {},
   "outputs": [],
   "source": []
  },
  {
   "cell_type": "markdown",
   "id": "c5e975c0",
   "metadata": {},
   "source": [
    "# değişken atama - yer tutucu(_) ve (*) asteriks ve (,)tuple kullanımı"
   ]
  },
  {
   "cell_type": "code",
   "execution_count": 47,
   "id": "c3e2a293",
   "metadata": {},
   "outputs": [
    {
     "data": {
      "text/plain": [
       "'12'"
      ]
     },
     "execution_count": 47,
     "metadata": {},
     "output_type": "execute_result"
    }
   ],
   "source": [
    "a = '12'\n",
    "a"
   ]
  },
  {
   "cell_type": "code",
   "execution_count": 30,
   "id": "40371ab1",
   "metadata": {},
   "outputs": [
    {
     "data": {
      "text/plain": [
       "'12'"
      ]
     },
     "execution_count": 30,
     "metadata": {},
     "output_type": "execute_result"
    }
   ],
   "source": [
    "a = b = '12'\n",
    "a = '123'\n",
    "b"
   ]
  },
  {
   "cell_type": "code",
   "execution_count": 31,
   "id": "ecf01ca0",
   "metadata": {},
   "outputs": [
    {
     "data": {
      "text/plain": [
       "'123'"
      ]
     },
     "execution_count": 31,
     "metadata": {},
     "output_type": "execute_result"
    }
   ],
   "source": [
    "a"
   ]
  },
  {
   "cell_type": "code",
   "execution_count": 32,
   "id": "f56c6e54",
   "metadata": {},
   "outputs": [
    {
     "data": {
      "text/plain": [
       "'12'"
      ]
     },
     "execution_count": 32,
     "metadata": {},
     "output_type": "execute_result"
    }
   ],
   "source": [
    "b"
   ]
  },
  {
   "cell_type": "code",
   "execution_count": 38,
   "id": "22fab329",
   "metadata": {},
   "outputs": [
    {
     "data": {
      "text/plain": [
       "['xyz']"
      ]
     },
     "execution_count": 38,
     "metadata": {},
     "output_type": "execute_result"
    }
   ],
   "source": [
    "a = b = []  # aynı list objesi a ya append ettik b de cıktı aldık\n",
    "a.append('xyz')\n",
    "b"
   ]
  },
  {
   "cell_type": "code",
   "execution_count": 39,
   "id": "1960ea5d",
   "metadata": {},
   "outputs": [
    {
     "data": {
      "text/plain": [
       "['xyz']"
      ]
     },
     "execution_count": 39,
     "metadata": {},
     "output_type": "execute_result"
    }
   ],
   "source": [
    "a"
   ]
  },
  {
   "cell_type": "code",
   "execution_count": 40,
   "id": "0bc82027",
   "metadata": {},
   "outputs": [
    {
     "data": {
      "text/plain": [
       "['xyz']"
      ]
     },
     "execution_count": 40,
     "metadata": {},
     "output_type": "execute_result"
    }
   ],
   "source": [
    "b"
   ]
  },
  {
   "cell_type": "code",
   "execution_count": 11,
   "id": "55638411",
   "metadata": {},
   "outputs": [
    {
     "data": {
      "text/plain": [
       "('1', '2')"
      ]
     },
     "execution_count": 11,
     "metadata": {},
     "output_type": "execute_result"
    }
   ],
   "source": [
    "a, b = '1', '2'\n",
    "a,b"
   ]
  },
  {
   "cell_type": "code",
   "execution_count": 12,
   "id": "d6bcdb13",
   "metadata": {},
   "outputs": [
    {
     "data": {
      "text/plain": [
       "('1', '2')"
      ]
     },
     "execution_count": 12,
     "metadata": {},
     "output_type": "execute_result"
    }
   ],
   "source": [
    "x, y = '12'\n",
    "x,y"
   ]
  },
  {
   "cell_type": "code",
   "execution_count": 13,
   "id": "37a963ab",
   "metadata": {},
   "outputs": [
    {
     "data": {
      "text/plain": [
       "(1, 2)"
      ]
     },
     "execution_count": 13,
     "metadata": {},
     "output_type": "execute_result"
    }
   ],
   "source": [
    "x, y, z = [1, 2, 3]\n",
    "x,y"
   ]
  },
  {
   "cell_type": "code",
   "execution_count": 14,
   "id": "f26539b9",
   "metadata": {},
   "outputs": [
    {
     "ename": "ValueError",
     "evalue": "too many values to unpack (expected 2)",
     "output_type": "error",
     "traceback": [
      "\u001b[1;31m---------------------------------------------------------------------------\u001b[0m",
      "\u001b[1;31mValueError\u001b[0m                                Traceback (most recent call last)",
      "\u001b[1;32m~\\AppData\\Local\\Temp/ipykernel_18464/2855634281.py\u001b[0m in \u001b[0;36m<module>\u001b[1;34m\u001b[0m\n\u001b[1;32m----> 1\u001b[1;33m \u001b[0ma\u001b[0m\u001b[1;33m,\u001b[0m \u001b[0mb\u001b[0m \u001b[1;33m=\u001b[0m \u001b[1;34m'12345'\u001b[0m\u001b[1;33m\u001b[0m\u001b[1;33m\u001b[0m\u001b[0m\n\u001b[0m\u001b[0;32m      2\u001b[0m \u001b[0ma\u001b[0m\u001b[1;33m,\u001b[0m\u001b[0mb\u001b[0m\u001b[1;33m\u001b[0m\u001b[1;33m\u001b[0m\u001b[0m\n",
      "\u001b[1;31mValueError\u001b[0m: too many values to unpack (expected 2)"
     ]
    }
   ],
   "source": [
    "a, b = '12345'\n",
    "a,b"
   ]
  },
  {
   "cell_type": "code",
   "execution_count": 15,
   "id": "b107f9d9",
   "metadata": {},
   "outputs": [
    {
     "data": {
      "text/plain": [
       "('1', '2', ['3', '4', '5'])"
      ]
     },
     "execution_count": 15,
     "metadata": {},
     "output_type": "execute_result"
    }
   ],
   "source": [
    "a, b, *c = '12345'\n",
    "a, b, c"
   ]
  },
  {
   "cell_type": "code",
   "execution_count": 58,
   "id": "62c0324f",
   "metadata": {
    "scrolled": true
   },
   "outputs": [
    {
     "data": {
      "text/plain": [
       "('1', '2')"
      ]
     },
     "execution_count": 58,
     "metadata": {},
     "output_type": "execute_result"
    }
   ],
   "source": [
    "a, b, _ = '123'\n",
    "a,b"
   ]
  },
  {
   "cell_type": "code",
   "execution_count": 59,
   "id": "0927eff3",
   "metadata": {},
   "outputs": [
    {
     "data": {
      "text/plain": [
       "('1', '2', '3')"
      ]
     },
     "execution_count": 59,
     "metadata": {},
     "output_type": "execute_result"
    }
   ],
   "source": [
    "a, b, _ = '123'\n",
    "a,b, _"
   ]
  },
  {
   "cell_type": "code",
   "execution_count": 62,
   "id": "2db86c17",
   "metadata": {},
   "outputs": [
    {
     "data": {
      "text/plain": [
       "('b', 'o')"
      ]
     },
     "execution_count": 62,
     "metadata": {},
     "output_type": "execute_result"
    }
   ],
   "source": [
    "a, s, d = 'bos'\n",
    "a,s"
   ]
  },
  {
   "cell_type": "code",
   "execution_count": 82,
   "id": "51d0b7a8",
   "metadata": {},
   "outputs": [
    {
     "data": {
      "text/plain": [
       "('1', '2', ['3', '4', '5'])"
      ]
     },
     "execution_count": 82,
     "metadata": {},
     "output_type": "execute_result"
    }
   ],
   "source": [
    "a, b, *_ = '12345'\n",
    "a,b, _"
   ]
  },
  {
   "cell_type": "code",
   "execution_count": 83,
   "id": "462b342d",
   "metadata": {},
   "outputs": [
    {
     "data": {
      "text/plain": [
       "('1', '3')"
      ]
     },
     "execution_count": 83,
     "metadata": {},
     "output_type": "execute_result"
    }
   ],
   "source": [
    "a, b, b = '123'\n",
    "a,b"
   ]
  },
  {
   "cell_type": "code",
   "execution_count": 84,
   "id": "eb9cb7d7",
   "metadata": {},
   "outputs": [
    {
     "data": {
      "text/plain": [
       "1"
      ]
     },
     "execution_count": 84,
     "metadata": {},
     "output_type": "execute_result"
    }
   ],
   "source": [
    "a = 1\n",
    "a"
   ]
  },
  {
   "cell_type": "code",
   "execution_count": 86,
   "id": "4ec715e5",
   "metadata": {},
   "outputs": [
    {
     "name": "stdout",
     "output_type": "stream",
     "text": [
      "(1,) <class 'tuple'>\n"
     ]
    }
   ],
   "source": [
    "a = 1,\n",
    "print(a, type(a))"
   ]
  },
  {
   "cell_type": "code",
   "execution_count": null,
   "id": "4c59899c",
   "metadata": {},
   "outputs": [],
   "source": []
  },
  {
   "cell_type": "markdown",
   "id": "c06a8a59",
   "metadata": {},
   "source": [
    "# list().count()"
   ]
  },
  {
   "cell_type": "code",
   "execution_count": 63,
   "id": "bfed3447",
   "metadata": {},
   "outputs": [],
   "source": [
    "liste = [11, 45, 8, 11, 23, 45, 23, 45, 89]"
   ]
  },
  {
   "cell_type": "code",
   "execution_count": 64,
   "id": "790fab56",
   "metadata": {},
   "outputs": [
    {
     "data": {
      "text/plain": [
       "2"
      ]
     },
     "execution_count": 64,
     "metadata": {},
     "output_type": "execute_result"
    }
   ],
   "source": [
    "liste.count(11)"
   ]
  },
  {
   "cell_type": "markdown",
   "id": "cdf67379",
   "metadata": {},
   "source": [
    "```count metodu olmadan liste içindeki elemanların sayısı```"
   ]
  },
  {
   "cell_type": "code",
   "execution_count": 18,
   "id": "5c02df42",
   "metadata": {},
   "outputs": [
    {
     "name": "stdout",
     "output_type": "stream",
     "text": [
      "{11: 2, 45: 3, 8: 1, 23: 2, 89: 1}\n"
     ]
    }
   ],
   "source": [
    "# for döngüsü ve dict() ile\n",
    "liste = [11, 45, 8, 11, 23, 45, 23, 45, 89]\n",
    "\n",
    "result2 = {}  # liste elemanı key olsun yanın da sayısı olsun\n",
    "\n",
    "for i in liste:\n",
    "    if i in result2:\n",
    "        result2[i] += 1\n",
    "    else:  # {key:value} atama\n",
    "        result2[i] = 1  \n",
    "        \n",
    "print(result2)"
   ]
  },
  {
   "cell_type": "markdown",
   "id": "9bd81427",
   "metadata": {},
   "source": [
    "```count metodu ile liste içindeki elemanların sayısı```"
   ]
  },
  {
   "cell_type": "code",
   "execution_count": 15,
   "id": "c69e7441",
   "metadata": {},
   "outputs": [
    {
     "name": "stdout",
     "output_type": "stream",
     "text": [
      "{11: 2, 45: 3, 8: 1, 23: 2, 89: 1}\n"
     ]
    }
   ],
   "source": [
    "liste = [11, 45, 8, 11, 23, 45, 23, 45, 89]  \n",
    "result = {}\n",
    "for i in liste:  # 9 feda döngü\n",
    "    result[i] = liste.count(i)  \n",
    "print(result)"
   ]
  },
  {
   "cell_type": "markdown",
   "id": "44f2c99f",
   "metadata": {},
   "source": [
    "```EN HIZLI ÇOZUM \n",
    "count metodu ile set() kullanarak döngü sayısını azaltıp liste içindeki elemanların sayısını buluyoruz```"
   ]
  },
  {
   "cell_type": "code",
   "execution_count": 17,
   "id": "ef8cce3b",
   "metadata": {},
   "outputs": [
    {
     "name": "stdout",
     "output_type": "stream",
     "text": [
      "{8: 1, 11: 2, 45: 3, 23: 2, 89: 1}\n"
     ]
    }
   ],
   "source": [
    "liste = [11, 45, 8, 11, 23, 45, 23, 45, 89]\n",
    "result = {}\n",
    "for i in set(liste):  # set-daha hızlı liste de 9 feda döngü\n",
    "    result[i] = liste.count(i)  \n",
    "print(result)"
   ]
  },
  {
   "cell_type": "code",
   "execution_count": null,
   "id": "ff04c7fb",
   "metadata": {},
   "outputs": [],
   "source": []
  },
  {
   "cell_type": "markdown",
   "id": "d8f866ac",
   "metadata": {},
   "source": [
    "# {}.fromkeys(tipler)"
   ]
  },
  {
   "cell_type": "markdown",
   "id": "c77df41a",
   "metadata": {},
   "source": [
    "```count metodu olmadan fromkeys ile liste içindeki elemanların sayısı```"
   ]
  },
  {
   "cell_type": "code",
   "execution_count": 21,
   "id": "5bf88fdf",
   "metadata": {},
   "outputs": [
    {
     "name": "stdout",
     "output_type": "stream",
     "text": [
      "{11: 0, 45: 0, 8: 0, 23: 0, 89: 0}\n",
      "{11: 2, 45: 3, 8: 1, 23: 2, 89: 1}\n"
     ]
    }
   ],
   "source": [
    "liste = [11, 45, 8, 11, 23, 45, 23, 45, 89]\n",
    "\n",
    "dic = dict().fromkeys(liste, 0) # atama gerekiyor key listeden value = 0 , {}.fromkeys(liste, 0)\n",
    "print(dic)\n",
    "\n",
    "for i in liste:  # 9 defa\n",
    "    dic[i]+=1  # dic[i]= dic[i] + 1\n",
    "print(dic)"
   ]
  },
  {
   "cell_type": "code",
   "execution_count": null,
   "id": "11a0d8cf",
   "metadata": {},
   "outputs": [],
   "source": []
  },
  {
   "cell_type": "markdown",
   "id": "e18017c3",
   "metadata": {},
   "source": [
    "# zip()  - generator"
   ]
  },
  {
   "cell_type": "code",
   "execution_count": 23,
   "id": "ab0e1319",
   "metadata": {},
   "outputs": [],
   "source": [
    "first_list = [2, 3, 5]\n",
    "second_list = [4, 9]"
   ]
  },
  {
   "cell_type": "code",
   "execution_count": 24,
   "id": "563f7428",
   "metadata": {},
   "outputs": [
    {
     "data": {
      "text/plain": [
       "((2, 4), (3, 9))"
      ]
     },
     "execution_count": 24,
     "metadata": {},
     "output_type": "execute_result"
    }
   ],
   "source": [
    "zipp = zip(first_list, second_list)\n",
    "# print(*zipp)\n",
    "*zipp,"
   ]
  },
  {
   "cell_type": "code",
   "execution_count": 25,
   "id": "24bbac91",
   "metadata": {},
   "outputs": [
    {
     "data": {
      "text/plain": [
       "()"
      ]
     },
     "execution_count": 25,
     "metadata": {},
     "output_type": "execute_result"
    }
   ],
   "source": [
    "*zipp,  # generator bir defalık üretiyor"
   ]
  },
  {
   "cell_type": "code",
   "execution_count": 26,
   "id": "580b9446",
   "metadata": {},
   "outputs": [
    {
     "name": "stdout",
     "output_type": "stream",
     "text": [
      "[(2, 4), (3, 9)]\n"
     ]
    }
   ],
   "source": [
    "last = list(zip(first_list, second_list))  # sürekli kullanmak için bir değişkene atıyoruz\n",
    "print(last)"
   ]
  },
  {
   "cell_type": "code",
   "execution_count": 27,
   "id": "20bbf9dd",
   "metadata": {},
   "outputs": [
    {
     "data": {
      "text/plain": [
       "[(2, 4), (3, 9)]"
      ]
     },
     "execution_count": 27,
     "metadata": {},
     "output_type": "execute_result"
    }
   ],
   "source": [
    "last"
   ]
  },
  {
   "cell_type": "code",
   "execution_count": null,
   "id": "4376e384",
   "metadata": {},
   "outputs": [],
   "source": []
  },
  {
   "cell_type": "markdown",
   "id": "d420cb7f",
   "metadata": {},
   "source": [
    "# emumarate() - generator"
   ]
  },
  {
   "cell_type": "code",
   "execution_count": 97,
   "id": "caf35e97",
   "metadata": {},
   "outputs": [],
   "source": [
    "liste = [11, 45, 8, 11, 23, 45, 23, 45, 89]"
   ]
  },
  {
   "cell_type": "code",
   "execution_count": 85,
   "id": "b1e4ee92",
   "metadata": {},
   "outputs": [
    {
     "data": {
      "text/plain": [
       "<enumerate at 0x21c5e147b80>"
      ]
     },
     "execution_count": 85,
     "metadata": {},
     "output_type": "execute_result"
    }
   ],
   "source": [
    "enumerate(liste)"
   ]
  },
  {
   "cell_type": "code",
   "execution_count": 86,
   "id": "13c38568",
   "metadata": {},
   "outputs": [
    {
     "data": {
      "text/plain": [
       "((0, 11),\n",
       " (1, 45),\n",
       " (2, 8),\n",
       " (3, 11),\n",
       " (4, 23),\n",
       " (5, 45),\n",
       " (6, 23),\n",
       " (7, 45),\n",
       " (8, 89))"
      ]
     },
     "execution_count": 86,
     "metadata": {},
     "output_type": "execute_result"
    }
   ],
   "source": [
    "*enumerate(liste),"
   ]
  },
  {
   "cell_type": "code",
   "execution_count": 113,
   "id": "86c6ee0e",
   "metadata": {},
   "outputs": [
    {
     "data": {
      "text/plain": [
       "((100, 11),\n",
       " (101, 45),\n",
       " (102, 8),\n",
       " (103, 11),\n",
       " (104, 23),\n",
       " (105, 45),\n",
       " (106, 23),\n",
       " (107, 45),\n",
       " (108, 89))"
      ]
     },
     "execution_count": 113,
     "metadata": {},
     "output_type": "execute_result"
    }
   ],
   "source": [
    "*enumerate(liste, 100),"
   ]
  },
  {
   "cell_type": "code",
   "execution_count": 87,
   "id": "0813a504",
   "metadata": {},
   "outputs": [
    {
     "name": "stdout",
     "output_type": "stream",
     "text": [
      "(0, 11) (1, 45) (2, 8) (3, 11) (4, 23) (5, 45) (6, 23) (7, 45) (8, 89)\n"
     ]
    }
   ],
   "source": [
    "print(*enumerate(liste))"
   ]
  },
  {
   "cell_type": "code",
   "execution_count": 88,
   "id": "18795c5c",
   "metadata": {},
   "outputs": [
    {
     "name": "stdout",
     "output_type": "stream",
     "text": [
      "(0, 11)\n",
      "(1, 45)\n",
      "(2, 8)\n",
      "(3, 11)\n",
      "(4, 23)\n",
      "(5, 45)\n",
      "(6, 23)\n",
      "(7, 45)\n",
      "(8, 89)\n"
     ]
    }
   ],
   "source": [
    "print(*enumerate(liste), sep='\\n')"
   ]
  },
  {
   "cell_type": "code",
   "execution_count": 115,
   "id": "da7e91cc",
   "metadata": {},
   "outputs": [
    {
     "data": {
      "text/plain": [
       "((100, 11),\n",
       " (101, 45),\n",
       " (102, 8),\n",
       " (103, 11),\n",
       " (104, 23),\n",
       " (105, 45),\n",
       " (106, 23),\n",
       " (107, 45),\n",
       " (108, 89))"
      ]
     },
     "execution_count": 115,
     "metadata": {},
     "output_type": "execute_result"
    }
   ],
   "source": [
    "en = enumerate(liste, 100)\n",
    "*en,"
   ]
  },
  {
   "cell_type": "code",
   "execution_count": 116,
   "id": "6e2e773a",
   "metadata": {},
   "outputs": [
    {
     "data": {
      "text/plain": [
       "()"
      ]
     },
     "execution_count": 116,
     "metadata": {},
     "output_type": "execute_result"
    }
   ],
   "source": [
    "*en,"
   ]
  },
  {
   "cell_type": "code",
   "execution_count": 94,
   "id": "58f45acd",
   "metadata": {},
   "outputs": [
    {
     "name": "stdout",
     "output_type": "stream",
     "text": [
      "3\n"
     ]
    }
   ],
   "source": [
    "print(3)"
   ]
  },
  {
   "cell_type": "code",
   "execution_count": 95,
   "id": "b316fc53",
   "metadata": {},
   "outputs": [
    {
     "name": "stdout",
     "output_type": "stream",
     "text": [
      "3\n"
     ]
    }
   ],
   "source": [
    "print(3,)"
   ]
  },
  {
   "cell_type": "code",
   "execution_count": 29,
   "id": "7718eb07",
   "metadata": {},
   "outputs": [
    {
     "name": "stdout",
     "output_type": "stream",
     "text": [
      "[(0, 11), (1, 45), (2, 8), (3, 11), (4, 23), (5, 45), (6, 23), (7, 45), (8, 89)]\n"
     ]
    }
   ],
   "source": [
    "print(list(enumerate(liste)), sep='\\n')"
   ]
  },
  {
   "cell_type": "code",
   "execution_count": 41,
   "id": "620a0a1f",
   "metadata": {},
   "outputs": [
    {
     "name": "stdout",
     "output_type": "stream",
     "text": [
      "(0, 11)\n",
      "(1, 45)\n",
      "(2, 8)\n",
      "(3, 11)\n",
      "(4, 23)\n",
      "(5, 45)\n",
      "(6, 23)\n",
      "(7, 45)\n",
      "(8, 89)\n"
     ]
    }
   ],
   "source": [
    "print(*list(enumerate(liste)), sep='\\n')"
   ]
  },
  {
   "cell_type": "code",
   "execution_count": 42,
   "id": "db698f55",
   "metadata": {},
   "outputs": [
    {
     "name": "stdout",
     "output_type": "stream",
     "text": [
      "(0, 11)\n",
      "(1, 45)\n",
      "(2, 8)\n",
      "(3, 11)\n",
      "(4, 23)\n",
      "(5, 45)\n",
      "(6, 23)\n",
      "(7, 45)\n",
      "(8, 89)\n"
     ]
    }
   ],
   "source": [
    "print(*enumerate(liste), sep='\\n')"
   ]
  },
  {
   "cell_type": "code",
   "execution_count": null,
   "id": "faf6d6c0",
   "metadata": {},
   "outputs": [],
   "source": []
  },
  {
   "cell_type": "code",
   "execution_count": 37,
   "id": "6a713f70",
   "metadata": {},
   "outputs": [
    {
     "data": {
      "text/plain": [
       "['deneme']"
      ]
     },
     "execution_count": 37,
     "metadata": {},
     "output_type": "execute_result"
    }
   ],
   "source": [
    "liste = ['deneme']\n",
    "liste"
   ]
  },
  {
   "cell_type": "code",
   "execution_count": 38,
   "id": "d9754511",
   "metadata": {},
   "outputs": [
    {
     "data": {
      "text/plain": [
       "['d', 'e', 'n', 'e', 'm', 'e']"
      ]
     },
     "execution_count": 38,
     "metadata": {},
     "output_type": "execute_result"
    }
   ],
   "source": [
    "liste = list('deneme')\n",
    "liste"
   ]
  },
  {
   "cell_type": "code",
   "execution_count": 101,
   "id": "062f5094",
   "metadata": {},
   "outputs": [
    {
     "data": {
      "text/plain": [
       "['d', 'e', 'n', 'e', 'm', 'e']"
      ]
     },
     "execution_count": 101,
     "metadata": {},
     "output_type": "execute_result"
    }
   ],
   "source": [
    "liste = [*'deneme']\n",
    "liste"
   ]
  },
  {
   "cell_type": "code",
   "execution_count": 106,
   "id": "f79598d9",
   "metadata": {},
   "outputs": [
    {
     "data": {
      "text/plain": [
       "(str, 'deneme')"
      ]
     },
     "execution_count": 106,
     "metadata": {},
     "output_type": "execute_result"
    }
   ],
   "source": [
    "tuple1 = ('deneme')\n",
    "type(tuple1), tuple1"
   ]
  },
  {
   "cell_type": "code",
   "execution_count": 31,
   "id": "c3d79853",
   "metadata": {},
   "outputs": [
    {
     "data": {
      "text/plain": [
       "(tuple, ('deneme',))"
      ]
     },
     "execution_count": 31,
     "metadata": {},
     "output_type": "execute_result"
    }
   ],
   "source": [
    "tuple1 = 'deneme',\n",
    "type(tuple1), tuple1"
   ]
  },
  {
   "cell_type": "code",
   "execution_count": 32,
   "id": "28f934c2",
   "metadata": {},
   "outputs": [
    {
     "data": {
      "text/plain": [
       "('d', 'e', 'n', 'e', 'm', 'e')"
      ]
     },
     "execution_count": 32,
     "metadata": {},
     "output_type": "execute_result"
    }
   ],
   "source": [
    "tuple2 = *'deneme',\n",
    "tuple2"
   ]
  },
  {
   "cell_type": "code",
   "execution_count": 33,
   "id": "230819ce",
   "metadata": {},
   "outputs": [
    {
     "data": {
      "text/plain": [
       "('d', 'e', 'n', 'e', 'm', 'e')"
      ]
     },
     "execution_count": 33,
     "metadata": {},
     "output_type": "execute_result"
    }
   ],
   "source": [
    "tuple3 = (*'deneme',)\n",
    "tuple3"
   ]
  },
  {
   "cell_type": "code",
   "execution_count": 42,
   "id": "08508a9d",
   "metadata": {},
   "outputs": [
    {
     "data": {
      "text/plain": [
       "{'d', 'e', 'm', 'n'}"
      ]
     },
     "execution_count": 42,
     "metadata": {},
     "output_type": "execute_result"
    }
   ],
   "source": [
    "set1 = set('deneme')\n",
    "set1"
   ]
  },
  {
   "cell_type": "code",
   "execution_count": 43,
   "id": "d99cb110",
   "metadata": {},
   "outputs": [
    {
     "data": {
      "text/plain": [
       "{'deneme'}"
      ]
     },
     "execution_count": 43,
     "metadata": {},
     "output_type": "execute_result"
    }
   ],
   "source": [
    "set2 = set(['deneme'])\n",
    "set2"
   ]
  },
  {
   "cell_type": "code",
   "execution_count": 43,
   "id": "57f64d79",
   "metadata": {},
   "outputs": [
    {
     "data": {
      "text/plain": [
       "{'d', 'e', 'm', 'n'}"
      ]
     },
     "execution_count": 43,
     "metadata": {},
     "output_type": "execute_result"
    }
   ],
   "source": [
    "set3 = set([*'deneme'])\n",
    "set3"
   ]
  },
  {
   "cell_type": "code",
   "execution_count": 44,
   "id": "66721f24",
   "metadata": {},
   "outputs": [
    {
     "data": {
      "text/plain": [
       "{'d', 'e', 'm', 'n'}"
      ]
     },
     "execution_count": 44,
     "metadata": {},
     "output_type": "execute_result"
    }
   ],
   "source": [
    "set4 = set('deneme',)\n",
    "set4"
   ]
  },
  {
   "cell_type": "code",
   "execution_count": null,
   "id": "6b31f405",
   "metadata": {},
   "outputs": [],
   "source": []
  },
  {
   "cell_type": "markdown",
   "id": "e59923ba",
   "metadata": {},
   "source": [
    "# retun - yield"
   ]
  },
  {
   "cell_type": "code",
   "execution_count": 45,
   "id": "71f18d60",
   "metadata": {},
   "outputs": [
    {
     "data": {
      "text/plain": [
       "0"
      ]
     },
     "execution_count": 45,
     "metadata": {},
     "output_type": "execute_result"
    }
   ],
   "source": [
    "# döngü ilk return ettiği yerde durur\n",
    "\n",
    "def num_list(num):\n",
    "    for i in range(num):  # 0 durdu - 1 defa calıstı\n",
    "        return i\n",
    "\n",
    "num_list(10)"
   ]
  },
  {
   "cell_type": "code",
   "execution_count": 46,
   "id": "775bf5c6",
   "metadata": {},
   "outputs": [
    {
     "name": "stdout",
     "output_type": "stream",
     "text": [
      "<generator object num_list at 0x0000022EBAE8ABA0>\n",
      "0 1 2 3 4 5 6 7 8 9\n"
     ]
    }
   ],
   "source": [
    "# döngü sonuna kadar calısır ve bütün değerler toplu return olmus gibi olur\n",
    "\n",
    "def num_list(num):\n",
    "    for i in range(num):  # num kadar calıstı\n",
    "        yield i\n",
    "\n",
    "result = num_list(10)  # generator \n",
    "\n",
    "print(result)\n",
    "print(*result)"
   ]
  },
  {
   "cell_type": "code",
   "execution_count": 49,
   "id": "053b9fa5",
   "metadata": {},
   "outputs": [
    {
     "name": "stdout",
     "output_type": "stream",
     "text": [
      "[0, 1, 2, 3, 4, 5, 6, 7, 8, 9]\n"
     ]
    }
   ],
   "source": [
    "def num_list(num):\n",
    "    for i in range(num):  # num kadar calıstı\n",
    "        yield i\n",
    "\n",
    "result = num_list(10)  # generator \n",
    "print(list(result))"
   ]
  },
  {
   "cell_type": "code",
   "execution_count": null,
   "id": "87ed3f1c",
   "metadata": {},
   "outputs": [],
   "source": []
  },
  {
   "cell_type": "markdown",
   "id": "e806f35e",
   "metadata": {},
   "source": [
    "# chr(), ord()"
   ]
  },
  {
   "cell_type": "code",
   "execution_count": 21,
   "id": "b97bf9d4",
   "metadata": {},
   "outputs": [
    {
     "name": "stdout",
     "output_type": "stream",
     "text": [
      "<class 'list'> A B C D E F G H I J K L M N O P Q R S T U V W X Y Z\n"
     ]
    }
   ],
   "source": [
    "def num_list(start, stop):\n",
    "    for i in range(start, stop):  \n",
    "        yield chr(i)\n",
    "\n",
    "result_list = list(num_list(65, 91))\n",
    "\n",
    "print(type(result_list), *result_list)"
   ]
  },
  {
   "cell_type": "code",
   "execution_count": null,
   "id": "6178eb5c",
   "metadata": {},
   "outputs": [],
   "source": []
  },
  {
   "cell_type": "code",
   "execution_count": 22,
   "id": "f4bd896a",
   "metadata": {},
   "outputs": [
    {
     "name": "stdout",
     "output_type": "stream",
     "text": [
      "<class 'list'> 65 66 67 68 69 70 71 72 73 74 75 76 77 78 79 80 81 82 83 84 85 86 87 88 89 90\n"
     ]
    }
   ],
   "source": [
    "def num_list(str_list):\n",
    "    for i in str_list:  \n",
    "        yield ord(i)\n",
    "\n",
    "result_num = num_list(result_list)\n",
    "print(type(result_list), *result_num)"
   ]
  },
  {
   "cell_type": "code",
   "execution_count": null,
   "id": "e156935a",
   "metadata": {},
   "outputs": [],
   "source": []
  },
  {
   "cell_type": "markdown",
   "id": "908fce5c",
   "metadata": {},
   "source": [
    "# list Comprehension (list com oluşturma) - (list-tuple-set-dict kullanımı)"
   ]
  },
  {
   "cell_type": "markdown",
   "id": "3b627c16",
   "metadata": {},
   "source": [
    "```\n",
    "1. newlist = [x for x in fruits]\n",
    "\n",
    "2. newlist = [x for x in fruits if x != \"apple\"]\n",
    "\n",
    "3. newlist = [x if x != \"banana\" else \"orange\" for x in fruits]\n",
    "\n",
    "```"
   ]
  },
  {
   "cell_type": "markdown",
   "id": "bf727aa0",
   "metadata": {},
   "source": [
    "```python\n",
    "\n",
    "for item in iterable :\n",
    "    expression\n",
    "   \n",
    "    \n",
    "[expression for item in iterable]    \n",
    "    \n",
    "```"
   ]
  },
  {
   "cell_type": "code",
   "execution_count": 135,
   "id": "38ac4aac",
   "metadata": {},
   "outputs": [
    {
     "data": {
      "text/plain": [
       "[0, 1, 2, 3, 4, 5, 6, 7, 8, 9]"
      ]
     },
     "execution_count": 135,
     "metadata": {},
     "output_type": "execute_result"
    }
   ],
   "source": [
    "liste = [*range(10)]\n",
    "liste"
   ]
  },
  {
   "cell_type": "code",
   "execution_count": 141,
   "id": "7ca779ad",
   "metadata": {},
   "outputs": [
    {
     "data": {
      "text/plain": [
       "[0, 1, 2, 3, 4, 5, 6, 7, 8, 9]"
      ]
     },
     "execution_count": 141,
     "metadata": {},
     "output_type": "execute_result"
    }
   ],
   "source": [
    "bos = []\n",
    "\n",
    "for x in liste:\n",
    "    bos.append(x)\n",
    "\n",
    "bos"
   ]
  },
  {
   "cell_type": "code",
   "execution_count": 142,
   "id": "ae9324a2",
   "metadata": {},
   "outputs": [
    {
     "data": {
      "text/plain": [
       "[0, 1, 2, 3, 4, 5, 6, 7, 8, 9]"
      ]
     },
     "execution_count": 142,
     "metadata": {},
     "output_type": "execute_result"
    }
   ],
   "source": [
    "newlist = [x for x in liste]\n",
    "newlist"
   ]
  },
  {
   "cell_type": "code",
   "execution_count": 156,
   "id": "c087b8ea",
   "metadata": {},
   "outputs": [
    {
     "name": "stdout",
     "output_type": "stream",
     "text": [
      "deneme\tde2\n",
      "deneme\tde2deneme\n",
      "de2"
     ]
    }
   ],
   "source": [
    "print(end='deneme\\tde2\\n')  # list comp alakası yok\n",
    "print(end='deneme\\tde2')\n",
    "print(end='deneme\\nde2')"
   ]
  },
  {
   "cell_type": "code",
   "execution_count": 160,
   "id": "0a0996a0",
   "metadata": {},
   "outputs": [
    {
     "name": "stdout",
     "output_type": "stream",
     "text": [
      "['0 str', '1 str', '2 str', '3 str', '4 str', '5 str', '6 str', '7 str', '8 str', '9 str']\n"
     ]
    }
   ],
   "source": [
    "newlist = [f'{x} str' for x in liste]\n",
    "print(newlist)"
   ]
  },
  {
   "cell_type": "markdown",
   "id": "65abeeac",
   "metadata": {},
   "source": [
    "# 2. newlist = [x for x in fruits if x != \"apple\"]"
   ]
  },
  {
   "cell_type": "code",
   "execution_count": 161,
   "id": "5ec2334a",
   "metadata": {},
   "outputs": [
    {
     "data": {
      "text/plain": [
       "[0, 1, 2, 3, 4, 5, 6, 7, 8, 9]"
      ]
     },
     "execution_count": 161,
     "metadata": {},
     "output_type": "execute_result"
    }
   ],
   "source": [
    "liste = [*range(10)]\n",
    "liste"
   ]
  },
  {
   "cell_type": "code",
   "execution_count": 163,
   "id": "c3ac5f8b",
   "metadata": {},
   "outputs": [
    {
     "data": {
      "text/plain": [
       "[0, 2, 4, 6, 8]"
      ]
     },
     "execution_count": 163,
     "metadata": {},
     "output_type": "execute_result"
    }
   ],
   "source": [
    "citlist = []\n",
    "\n",
    "for i in liste:\n",
    "    if i%2 == 0:\n",
    "        citlist.append(i)\n",
    "\n",
    "citlist"
   ]
  },
  {
   "cell_type": "code",
   "execution_count": 165,
   "id": "8b3f4b9f",
   "metadata": {},
   "outputs": [
    {
     "data": {
      "text/plain": [
       "[0, 2, 4, 6, 8]"
      ]
     },
     "execution_count": 165,
     "metadata": {},
     "output_type": "execute_result"
    }
   ],
   "source": [
    "[i for i in liste if i%2 == 0]"
   ]
  },
  {
   "cell_type": "code",
   "execution_count": 168,
   "id": "9ab18008",
   "metadata": {},
   "outputs": [
    {
     "data": {
      "text/plain": [
       "[1, 3, 5, 7, 9]"
      ]
     },
     "execution_count": 168,
     "metadata": {},
     "output_type": "execute_result"
    }
   ],
   "source": [
    "citlist = []\n",
    "\n",
    "for x in liste:\n",
    "    if x%2 == 1:  # \n",
    "        citlist.append(x)\n",
    "\n",
    "citlist"
   ]
  },
  {
   "cell_type": "code",
   "execution_count": 169,
   "id": "a1bab437",
   "metadata": {},
   "outputs": [
    {
     "data": {
      "text/plain": [
       "[1, 3, 5, 7, 9]"
      ]
     },
     "execution_count": 169,
     "metadata": {},
     "output_type": "execute_result"
    }
   ],
   "source": [
    "[x for x in liste if x%2 == 1]"
   ]
  },
  {
   "cell_type": "markdown",
   "id": "bb590624",
   "metadata": {},
   "source": [
    "# 3. newlist = [x if x != \"banana\" else \"orange\" for x in fruits]"
   ]
  },
  {
   "cell_type": "code",
   "execution_count": 49,
   "id": "ea403dc2",
   "metadata": {},
   "outputs": [
    {
     "data": {
      "text/plain": [
       "[0, 1, 2, 3, 4, 5, 6, 7, 8, 9]"
      ]
     },
     "execution_count": 49,
     "metadata": {},
     "output_type": "execute_result"
    }
   ],
   "source": [
    "liste = [0, 1, 2, 3, 4, 5, 6, 7, 8, 9]\n",
    "liste"
   ]
  },
  {
   "cell_type": "code",
   "execution_count": 51,
   "id": "a4a2336b",
   "metadata": {},
   "outputs": [],
   "source": [
    "c_list = []\n",
    "t_list = []"
   ]
  },
  {
   "cell_type": "code",
   "execution_count": 52,
   "id": "8f7a830a",
   "metadata": {},
   "outputs": [
    {
     "data": {
      "text/plain": [
       "([0, 2, 4, 6, 8], [1, 3, 5, 7, 9])"
      ]
     },
     "execution_count": 52,
     "metadata": {},
     "output_type": "execute_result"
    }
   ],
   "source": [
    "for i in liste:\n",
    "    if i%2 == 0:  # çift\n",
    "        c_list.append(i) \n",
    "\n",
    "    else: # tek\n",
    "        t_list.append(i)\n",
    "        \n",
    "c_list, t_list"
   ]
  },
  {
   "cell_type": "code",
   "execution_count": 50,
   "id": "2c5505c9",
   "metadata": {},
   "outputs": [
    {
     "data": {
      "text/plain": [
       "[0, 'tek', 2, 'tek', 4, 'tek', 6, 'tek', 8, 'tek']"
      ]
     },
     "execution_count": 50,
     "metadata": {},
     "output_type": "execute_result"
    }
   ],
   "source": [
    "[i if i%2 == 0  else 'tek' for i in liste]"
   ]
  },
  {
   "cell_type": "code",
   "execution_count": 53,
   "id": "7ebc6e5a",
   "metadata": {},
   "outputs": [
    {
     "data": {
      "text/plain": [
       "([0, 2, 4, 6, 8], [1, 3, 5, 7, 9])"
      ]
     },
     "execution_count": 53,
     "metadata": {},
     "output_type": "execute_result"
    }
   ],
   "source": [
    "c_list = []\n",
    "t_list = []\n",
    "\n",
    "[c_list.append(i) if i%2 == 0  else t_list.append(i) for i in liste]\n",
    "c_list, t_list\n"
   ]
  },
  {
   "cell_type": "code",
   "execution_count": null,
   "id": "59d9a16a",
   "metadata": {},
   "outputs": [],
   "source": []
  },
  {
   "cell_type": "code",
   "execution_count": 5,
   "id": "a5626326",
   "metadata": {},
   "outputs": [
    {
     "data": {
      "text/plain": [
       "['eleman', 'eleman']"
      ]
     },
     "execution_count": 5,
     "metadata": {},
     "output_type": "execute_result"
    }
   ],
   "source": [
    "['eleman' for i in range(2)]"
   ]
  },
  {
   "cell_type": "code",
   "execution_count": 6,
   "id": "abb43dbc",
   "metadata": {},
   "outputs": [
    {
     "data": {
      "text/plain": [
       "[[], []]"
      ]
     },
     "execution_count": 6,
     "metadata": {},
     "output_type": "execute_result"
    }
   ],
   "source": [
    "[[]  for i in range(2)]"
   ]
  },
  {
   "cell_type": "code",
   "execution_count": null,
   "id": "ccf912cb",
   "metadata": {},
   "outputs": [],
   "source": []
  },
  {
   "cell_type": "code",
   "execution_count": 8,
   "id": "a23615fb",
   "metadata": {},
   "outputs": [
    {
     "data": {
      "text/plain": [
       "[[0, 2, 4, 6, 8, 10, 12, 14, 16, 18], [1, 3, 5, 7, 9, 11, 13, 15, 17, 19]]"
      ]
     },
     "execution_count": 8,
     "metadata": {},
     "output_type": "execute_result"
    }
   ],
   "source": [
    "z = [[i for i in range(20) if i%2 == 0] , [i for i in range(20) if i%2 != 0]]\n",
    "z\n"
   ]
  },
  {
   "cell_type": "code",
   "execution_count": 9,
   "id": "fb8ba666",
   "metadata": {},
   "outputs": [
    {
     "data": {
      "text/plain": [
       "[[0, 2, 4, 6, 8, 10, 12, 14, 16, 18, 1, 3, 5, 7, 9, 11, 13, 15, 17, 19]]"
      ]
     },
     "execution_count": 9,
     "metadata": {},
     "output_type": "execute_result"
    }
   ],
   "source": [
    "z = [[i for i in range(20) if i%2 == 0] + [i for i in range(20) if i%2 != 0]]\n",
    "z"
   ]
  },
  {
   "cell_type": "markdown",
   "id": "74329497",
   "metadata": {},
   "source": [
    "```z = ['1.liste create' if i%2 == 0 else '2.liste create' for i in range(2)]```"
   ]
  },
  {
   "cell_type": "code",
   "execution_count": 7,
   "id": "cc4770ff",
   "metadata": {},
   "outputs": [
    {
     "data": {
      "text/plain": [
       "[[1, 3, 5, 7, 9, 11, 13, 15, 17, 19], [0, 2, 4, 6, 8, 10, 12, 14, 16, 18]]"
      ]
     },
     "execution_count": 7,
     "metadata": {},
     "output_type": "execute_result"
    }
   ],
   "source": [
    "z = [[i for i in range(20) if i%2 == 0] if i else [i for i in range(20) if i%2 != 0] for i in range(2)]\n",
    "z"
   ]
  },
  {
   "cell_type": "code",
   "execution_count": null,
   "id": "5a4a7480",
   "metadata": {},
   "outputs": [],
   "source": []
  },
  {
   "cell_type": "markdown",
   "id": "187cdf8c",
   "metadata": {},
   "source": [
    "# soru?"
   ]
  },
  {
   "cell_type": "code",
   "execution_count": 23,
   "id": "c1732bb5",
   "metadata": {},
   "outputs": [
    {
     "name": "stdout",
     "output_type": "stream",
     "text": [
      "{'b': 1, 'u': 1, 'g': 1, 'ü': 5, 'n': 4, ' ': 7, 'ç': 1, 'o': 2, 'k': 3, 'h': 1, 'z': 1, 'l': 2, 'y': 3, 'm': 1, '.': 2, 'a': 2, 'r': 1, 'ı': 3, '2': 1, 's': 3, 'e': 1, 'i': 1}\n"
     ]
    }
   ],
   "source": [
    "string = 'bugün çok hüzünlüyüm. ayrılık yakın. 2 session '\n",
    "\n",
    "word_dict = {}\n",
    "\n",
    "for n in string:\n",
    "    if n in word_dict:\n",
    "        word_dict[n] += 1\n",
    "    else:\n",
    "        word_dict[n] = 1\n",
    "        \n",
    "print(word_dict)"
   ]
  },
  {
   "cell_type": "code",
   "execution_count": 24,
   "id": "34967cab",
   "metadata": {},
   "outputs": [
    {
     "name": "stdout",
     "output_type": "stream",
     "text": [
      "{'int': 2, 'str': 3, 'bool': 1, 'list': 1, 'tuple': 1, 'dict': 2, 'set': 1}\n"
     ]
    }
   ],
   "source": [
    "veri = [\"a\", \"b\", True, (False, 1), {\"1\" : 2}, [1,2], {\"2\" : \"two\"}, {2, \"3\"}, \"c\", 23, 0]\n",
    "\n",
    "tipler = [\"int\", \"str\", \"bool\", \"list\", \"tuple\", \"dict\", \"set\"]\n",
    "\n",
    "toplam={}.fromkeys(tipler,0)\n",
    "\n",
    "for i in range(len(veri)):\n",
    "    if type(veri[i])==int :toplam[\"int\"]+=1\n",
    "    elif type(veri[i])==str :toplam[\"str\"]+=1\n",
    "    elif type(veri[i])==bool :toplam[\"bool\"]+=1\n",
    "    elif type(veri[i])==list :toplam[\"list\"]+=1\n",
    "    elif type(veri[i])==tuple :toplam[\"tuple\"]+=1\n",
    "    elif type(veri[i])==dict :toplam[\"dict\"]+=1\n",
    "    elif type(veri[i])==set :toplam[\"set\"]+=1\n",
    "print(toplam)"
   ]
  },
  {
   "cell_type": "code",
   "execution_count": 25,
   "id": "086a23c7",
   "metadata": {},
   "outputs": [
    {
     "name": "stdout",
     "output_type": "stream",
     "text": [
      "{'int': 2, 'str': 3, 'bool': 1, 'list': 1, 'tuple': 1, 'dict': 2, 'set': 1}\n"
     ]
    }
   ],
   "source": [
    "veri = [\"a\", \"b\", True, (False, 1), {\"1\" : 2}, [1,2], {\"2\" : \"two\"}, {2, \"3\"}, \"c\", 23, 0]\n",
    "\n",
    "tipler = [\"int\", \"str\", \"bool\", \"list\", \"tuple\", \"dict\", \"set\"]\n",
    "\n",
    "toplam = {}.fromkeys(tipler,0)\n",
    "\n",
    "for i in range(len(veri)):   \n",
    "    # type(veri[i]).__name__ MAKE \"<class 'int'>\" to 'int' \n",
    "    if type(veri[i]).__name__ in list(toplam.keys()): \n",
    "        toplam[type(veri[i]).__name__] += 1 \n",
    "print(toplam)"
   ]
  },
  {
   "cell_type": "code",
   "execution_count": null,
   "id": "589665e9",
   "metadata": {},
   "outputs": [],
   "source": []
  },
  {
   "cell_type": "code",
   "execution_count": null,
   "id": "b4c87b64",
   "metadata": {},
   "outputs": [],
   "source": []
  },
  {
   "cell_type": "markdown",
   "id": "3b754fc7",
   "metadata": {},
   "source": [
    "# for çoklu if statement - like and"
   ]
  },
  {
   "cell_type": "code",
   "execution_count": null,
   "id": "e9cb19f5",
   "metadata": {},
   "outputs": [],
   "source": [
    "liste = [0, 1, 2, 3, 4, 5, 6, 7, 8, 9]\n",
    "liste"
   ]
  },
  {
   "cell_type": "code",
   "execution_count": 184,
   "id": "75d98207",
   "metadata": {},
   "outputs": [
    {
     "data": {
      "text/plain": [
       "[0, 30]"
      ]
     },
     "execution_count": 184,
     "metadata": {},
     "output_type": "execute_result"
    }
   ],
   "source": [
    "z = [i for i in range(41) if i%3==0 and i%5==0 and i%2==0]\n",
    "z"
   ]
  },
  {
   "cell_type": "code",
   "execution_count": 183,
   "id": "59825276",
   "metadata": {},
   "outputs": [
    {
     "data": {
      "text/plain": [
       "[0, 30]"
      ]
     },
     "execution_count": 183,
     "metadata": {},
     "output_type": "execute_result"
    }
   ],
   "source": [
    "z = [i for i in range(41) if i%3==0 if i%5==0 if i%2==0]\n",
    "z"
   ]
  },
  {
   "cell_type": "code",
   "execution_count": null,
   "id": "58af8a11",
   "metadata": {},
   "outputs": [],
   "source": []
  },
  {
   "cell_type": "markdown",
   "id": "7351fa8d",
   "metadata": {},
   "source": [
    "# iç içe for"
   ]
  },
  {
   "cell_type": "code",
   "execution_count": 74,
   "id": "550fa06f",
   "metadata": {},
   "outputs": [],
   "source": [
    "liste = ['orange', 'apple']"
   ]
  },
  {
   "cell_type": "code",
   "execution_count": 71,
   "id": "87ceab1b",
   "metadata": {},
   "outputs": [
    {
     "data": {
      "text/plain": [
       "['o', 'r', 'a', 'n', 'g', 'e', 'a', 'p', 'p', 'l', 'e']"
      ]
     },
     "execution_count": 71,
     "metadata": {},
     "output_type": "execute_result"
    }
   ],
   "source": [
    "harf_lis = []\n",
    "\n",
    "for i in liste:\n",
    "    for j in i:\n",
    "        harf_lis.append(j)\n",
    "        \n",
    "harf_lis"
   ]
  },
  {
   "cell_type": "code",
   "execution_count": 72,
   "id": "91efed64",
   "metadata": {},
   "outputs": [
    {
     "data": {
      "text/plain": [
       "['o', 'r', 'a', 'n', 'g', 'e', 'a', 'p', 'p', 'l', 'e']"
      ]
     },
     "execution_count": 72,
     "metadata": {},
     "output_type": "execute_result"
    }
   ],
   "source": [
    "liste = ['orange', 'apple']  # bütün harfler tek liste (for - if) mantığı\n",
    "[j for i in liste for j in i]"
   ]
  },
  {
   "cell_type": "code",
   "execution_count": 75,
   "id": "d3a63472",
   "metadata": {},
   "outputs": [
    {
     "data": {
      "text/plain": [
       "['a', 'a', 'p', 'p', 'p', 'p', 'l', 'l', 'e', 'e']"
      ]
     },
     "execution_count": 75,
     "metadata": {},
     "output_type": "execute_result"
    }
   ],
   "source": [
    "liste = ['orange', 'apple']\n",
    "[j for j in i for i in liste]  # hatalı"
   ]
  },
  {
   "cell_type": "code",
   "execution_count": null,
   "id": "bd93fa92",
   "metadata": {},
   "outputs": [],
   "source": []
  },
  {
   "cell_type": "code",
   "execution_count": 77,
   "id": "30ff5a65",
   "metadata": {},
   "outputs": [],
   "source": [
    "liste = ['orange', 'apple']"
   ]
  },
  {
   "cell_type": "code",
   "execution_count": 78,
   "id": "cb94ba07",
   "metadata": {},
   "outputs": [
    {
     "data": {
      "text/plain": [
       "['o', 'r', 'a', 'n', 'g', 'e', 'a', 'l', 'e']"
      ]
     },
     "execution_count": 78,
     "metadata": {},
     "output_type": "execute_result"
    }
   ],
   "source": [
    "[j  for i in liste for j in i if j !='p' ]  # p olmayan bütün harfler tek liste"
   ]
  },
  {
   "cell_type": "code",
   "execution_count": 4,
   "id": "c233ce9d",
   "metadata": {},
   "outputs": [
    {
     "data": {
      "text/plain": [
       "[1, 1, 1, 1, 1, 1, 1, 1]"
      ]
     },
     "execution_count": 4,
     "metadata": {},
     "output_type": "execute_result"
    }
   ],
   "source": [
    "[1 for i in range(8)]"
   ]
  },
  {
   "cell_type": "code",
   "execution_count": 5,
   "id": "a6187d37",
   "metadata": {},
   "outputs": [
    {
     "data": {
      "text/plain": [
       "[[], [], [], [], [], [], [], []]"
      ]
     },
     "execution_count": 5,
     "metadata": {},
     "output_type": "execute_result"
    }
   ],
   "source": [
    "[[] for i in range(8)]"
   ]
  },
  {
   "cell_type": "code",
   "execution_count": 79,
   "id": "d1d68479",
   "metadata": {},
   "outputs": [
    {
     "data": {
      "text/plain": [
       "[['o', 'r', 'a', 'n', 'g', 'e'], ['a', 'p', 'p', 'l', 'e']]"
      ]
     },
     "execution_count": 79,
     "metadata": {},
     "output_type": "execute_result"
    }
   ],
   "source": [
    "liste = ['orange', 'apple']\n",
    "[[j  for j in i] for i in liste]  # iki ayrı liste"
   ]
  },
  {
   "cell_type": "code",
   "execution_count": null,
   "id": "9cf24459",
   "metadata": {},
   "outputs": [],
   "source": []
  },
  {
   "cell_type": "code",
   "execution_count": 4,
   "id": "7488e48f",
   "metadata": {},
   "outputs": [],
   "source": [
    "int_list = [11, 12]"
   ]
  },
  {
   "cell_type": "code",
   "execution_count": 6,
   "id": "7d3025e9",
   "metadata": {},
   "outputs": [
    {
     "data": {
      "text/plain": [
       "[[0, 1, 2, 3, 4, 5, 6, 7, 8, 9, 10], [0, 1, 2, 3, 4, 5, 6, 7, 8, 9, 10, 11]]"
      ]
     },
     "execution_count": 6,
     "metadata": {},
     "output_type": "execute_result"
    }
   ],
   "source": [
    "[[j  for j in range(i)] for i in int_list]  # iki ayrı liste"
   ]
  },
  {
   "cell_type": "code",
   "execution_count": null,
   "id": "61f6bf77",
   "metadata": {},
   "outputs": [],
   "source": []
  },
  {
   "cell_type": "code",
   "execution_count": 26,
   "id": "662ad5d9",
   "metadata": {},
   "outputs": [
    {
     "name": "stdout",
     "output_type": "stream",
     "text": [
      "10 5\n"
     ]
    }
   ],
   "source": [
    "a = b = 5\n",
    "a = a+b\n",
    "print(a, b)"
   ]
  },
  {
   "cell_type": "code",
   "execution_count": 29,
   "id": "0957be53",
   "metadata": {},
   "outputs": [
    {
     "data": {
      "text/plain": [
       "<enumerate at 0x1d9fbec8d40>"
      ]
     },
     "execution_count": 29,
     "metadata": {},
     "output_type": "execute_result"
    }
   ],
   "source": [
    "enumerate('a')"
   ]
  },
  {
   "cell_type": "code",
   "execution_count": 80,
   "id": "75b69621",
   "metadata": {},
   "outputs": [],
   "source": [
    "bos_tek = bos_cif = []  # aynı bellek - yer\n",
    "\n",
    "bos_tek = []  # yeni bellek - yer\n",
    "bos_cif = []  # yeni bellek - yer\n"
   ]
  },
  {
   "cell_type": "code",
   "execution_count": 81,
   "id": "a8f6b33c",
   "metadata": {},
   "outputs": [
    {
     "name": "stdout",
     "output_type": "stream",
     "text": [
      "[0, 2, 4, 6, 8, 10, 12, 14, 16, 18]\n",
      "[1, 3, 5, 7, 9, 11, 13, 15, 17, 19]\n"
     ]
    }
   ],
   "source": [
    "for i in range(2):  # 0, 1\n",
    "    if i:\n",
    "        for j in range(20):\n",
    "            if j%2 == 0:\n",
    "                bos_cif.append(j)\n",
    "    else:\n",
    "        for k in range(20):\n",
    "            if k%2 != 0:\n",
    "                bos_tek.append(k)\n",
    "\n",
    "print(bos_cif)\n",
    "print(bos_tek)"
   ]
  },
  {
   "cell_type": "code",
   "execution_count": 82,
   "id": "63491f65",
   "metadata": {},
   "outputs": [
    {
     "name": "stdout",
     "output_type": "stream",
     "text": [
      "[0, 2, 4, 6, 8, 10, 12, 14, 16, 18]\n",
      "[1, 3, 5, 7, 9, 11, 13, 15, 17, 19]\n"
     ]
    }
   ],
   "source": [
    "for i in range(2):\n",
    "    if i:\n",
    "        bos_cif = [i for i in range(20) if i%2 == 0]\n",
    "    else:\n",
    "        bos_tek = [i for i in range(20) if i%2 != 0]\n",
    "\n",
    "print(bos_cif)\n",
    "print(bos_tek)"
   ]
  },
  {
   "cell_type": "code",
   "execution_count": 4,
   "id": "1260d4b0",
   "metadata": {},
   "outputs": [
    {
     "data": {
      "text/plain": [
       "[[1, 3, 5, 7, 9, 11, 13, 15, 17, 19], [0, 2, 4, 6, 8, 10, 12, 14, 16, 18]]"
      ]
     },
     "execution_count": 4,
     "metadata": {},
     "output_type": "execute_result"
    }
   ],
   "source": [
    "z = [[i for i in range(20) if i%2 == 0] if i else [i for i in range(20) if i%2 != 0] for i in range(2)]\n",
    "z"
   ]
  },
  {
   "cell_type": "code",
   "execution_count": null,
   "id": "85f7ea29",
   "metadata": {},
   "outputs": [],
   "source": []
  },
  {
   "cell_type": "markdown",
   "id": "f8e94cbb",
   "metadata": {},
   "source": [
    "# list - tuple - set - dict ile (list comprehension)"
   ]
  },
  {
   "cell_type": "code",
   "execution_count": 15,
   "id": "1864d0a8",
   "metadata": {},
   "outputs": [
    {
     "data": {
      "text/plain": [
       "[0, 1, 2, 3, 4, 5, 6, 7, 8, 9]"
      ]
     },
     "execution_count": 15,
     "metadata": {},
     "output_type": "execute_result"
    }
   ],
   "source": [
    "a = [i for i in range(10)]\n",
    "a"
   ]
  },
  {
   "cell_type": "markdown",
   "id": "ac5f9933",
   "metadata": {},
   "source": [
    "## tuple list Comp"
   ]
  },
  {
   "cell_type": "code",
   "execution_count": 86,
   "id": "cee896bf",
   "metadata": {},
   "outputs": [
    {
     "name": "stdout",
     "output_type": "stream",
     "text": [
      "(0, 1, 2, 3, 4, 5, 6, 7, 8, 9)\n"
     ]
    },
    {
     "data": {
      "text/plain": [
       "tuple"
      ]
     },
     "execution_count": 86,
     "metadata": {},
     "output_type": "execute_result"
    }
   ],
   "source": [
    "a = *range(10),\n",
    "print(a)\n",
    "type(a)"
   ]
  },
  {
   "cell_type": "code",
   "execution_count": 85,
   "id": "9a65aeeb",
   "metadata": {},
   "outputs": [
    {
     "name": "stdout",
     "output_type": "stream",
     "text": [
      "(0, 1, 2, 3, 4, 5, 6, 7, 8, 9)\n"
     ]
    },
    {
     "data": {
      "text/plain": [
       "tuple"
      ]
     },
     "execution_count": 85,
     "metadata": {},
     "output_type": "execute_result"
    }
   ],
   "source": [
    "b = *(i for i in range(10)),\n",
    "print(b)\n",
    "type(b)"
   ]
  },
  {
   "cell_type": "code",
   "execution_count": 87,
   "id": "82359f82",
   "metadata": {},
   "outputs": [
    {
     "name": "stdout",
     "output_type": "stream",
     "text": [
      "([0], [1], [2], [3], [4], [5], [6], [7], [8], [9])\n"
     ]
    },
    {
     "data": {
      "text/plain": [
       "tuple"
      ]
     },
     "execution_count": 87,
     "metadata": {},
     "output_type": "execute_result"
    }
   ],
   "source": [
    "b = *([i] for i in range(10)),\n",
    "print(b)\n",
    "type(b)"
   ]
  },
  {
   "cell_type": "code",
   "execution_count": null,
   "id": "92e8b89c",
   "metadata": {},
   "outputs": [],
   "source": []
  },
  {
   "cell_type": "markdown",
   "id": "d3291b2f",
   "metadata": {},
   "source": [
    "## set list Comp"
   ]
  },
  {
   "cell_type": "code",
   "execution_count": 89,
   "id": "3f211f65",
   "metadata": {},
   "outputs": [
    {
     "name": "stdout",
     "output_type": "stream",
     "text": [
      "{'m', 'e', 'n', 'd'}\n"
     ]
    },
    {
     "data": {
      "text/plain": [
       "set"
      ]
     },
     "execution_count": 89,
     "metadata": {},
     "output_type": "execute_result"
    }
   ],
   "source": [
    "c = set('deneme')  \n",
    "print(c)\n",
    "type(c)"
   ]
  },
  {
   "cell_type": "code",
   "execution_count": 90,
   "id": "293a0616",
   "metadata": {},
   "outputs": [
    {
     "name": "stdout",
     "output_type": "stream",
     "text": [
      "{0, 1, 2, 3, 4, 5, 6, 7, 8, 9}\n"
     ]
    },
    {
     "data": {
      "text/plain": [
       "set"
      ]
     },
     "execution_count": 90,
     "metadata": {},
     "output_type": "execute_result"
    }
   ],
   "source": [
    "set_oldu = {i for i in range(10)}\n",
    "print(set_oldu)\n",
    "type(set_oldu)"
   ]
  },
  {
   "cell_type": "code",
   "execution_count": 91,
   "id": "52256c88",
   "metadata": {},
   "outputs": [
    {
     "name": "stdout",
     "output_type": "stream",
     "text": [
      "{'m', 'e', 'n', 'd'}\n"
     ]
    },
    {
     "data": {
      "text/plain": [
       "set"
      ]
     },
     "execution_count": 91,
     "metadata": {},
     "output_type": "execute_result"
    }
   ],
   "source": [
    "set_oldu = {i for i in 'deneme'}\n",
    "print(set_oldu)\n",
    "type(set_oldu)"
   ]
  },
  {
   "cell_type": "markdown",
   "id": "f52b0432",
   "metadata": {},
   "source": [
    "## dict list Comprehension  - key, value (zip, enumarete, etc)"
   ]
  },
  {
   "cell_type": "code",
   "execution_count": 92,
   "id": "3dfe87f9",
   "metadata": {},
   "outputs": [
    {
     "name": "stdout",
     "output_type": "stream",
     "text": [
      "{}\n"
     ]
    },
    {
     "data": {
      "text/plain": [
       "dict"
      ]
     },
     "execution_count": 92,
     "metadata": {},
     "output_type": "execute_result"
    }
   ],
   "source": [
    "dic = {}\n",
    "print(dic)\n",
    "type(dic)"
   ]
  },
  {
   "cell_type": "code",
   "execution_count": 34,
   "id": "e61b94a4",
   "metadata": {},
   "outputs": [
    {
     "data": {
      "text/plain": [
       "dict"
      ]
     },
     "execution_count": 34,
     "metadata": {},
     "output_type": "execute_result"
    }
   ],
   "source": [
    "dic = dict()\n",
    "print(dic)\n",
    "type(dic)"
   ]
  },
  {
   "cell_type": "code",
   "execution_count": 38,
   "id": "b9f8923c",
   "metadata": {},
   "outputs": [
    {
     "data": {
      "text/plain": [
       "(dict, {'a': 1, 12: 2})"
      ]
     },
     "execution_count": 38,
     "metadata": {},
     "output_type": "execute_result"
    }
   ],
   "source": [
    "dic = { 'a' : 1, 12 : 2 }\n",
    "print(dic)\n",
    "type(dic)"
   ]
  },
  {
   "cell_type": "code",
   "execution_count": 43,
   "id": "22862ab6",
   "metadata": {},
   "outputs": [
    {
     "data": {
      "text/plain": [
       "(dict, {'a': 1, 'banana': 2})"
      ]
     },
     "execution_count": 43,
     "metadata": {},
     "output_type": "execute_result"
    }
   ],
   "source": [
    "dic = dict( a = 1, banana = 2 )\n",
    "print(dic)\n",
    "type(dic)"
   ]
  },
  {
   "cell_type": "code",
   "execution_count": null,
   "id": "9d092153",
   "metadata": {},
   "outputs": [],
   "source": []
  },
  {
   "cell_type": "code",
   "execution_count": 23,
   "id": "fb985a5d",
   "metadata": {},
   "outputs": [
    {
     "data": {
      "text/plain": [
       "[0, 1, 2, 3, 4, 5, 6, 7, 8, 9]"
      ]
     },
     "execution_count": 23,
     "metadata": {},
     "output_type": "execute_result"
    }
   ],
   "source": [
    "a = [i for i in range(10)]\n",
    "a"
   ]
  },
  {
   "cell_type": "code",
   "execution_count": 33,
   "id": "5d74bc96",
   "metadata": {},
   "outputs": [
    {
     "name": "stdout",
     "output_type": "stream",
     "text": [
      "<class 'dict'> {0: 0, 1: 1, 2: 2, 3: 3, 4: 4, 5: 5, 6: 6, 7: 7, 8: 8, 9: 9}\n"
     ]
    }
   ],
   "source": [
    "dic_oldu = {i:i for i in range(10)}\n",
    "print(dic_oldu)\n",
    "type(dic_oldu)"
   ]
  },
  {
   "cell_type": "code",
   "execution_count": null,
   "id": "5231be45",
   "metadata": {},
   "outputs": [],
   "source": []
  },
  {
   "cell_type": "code",
   "execution_count": 37,
   "id": "b7049ad1",
   "metadata": {},
   "outputs": [
    {
     "data": {
      "text/plain": [
       "{1: 0, 2: 0, 3: 0, 4: 0, 5: 0, 6: 0, 7: 0, 8: 0, 9: 0}"
      ]
     },
     "execution_count": 37,
     "metadata": {},
     "output_type": "execute_result"
    }
   ],
   "source": [
    "liste = [1, 2, 3, 4, 5, 6, 7, 8, 9]\n",
    "dic = dict().fromkeys(liste, 0) \n",
    "print(dic)\n",
    "type(dic)"
   ]
  },
  {
   "cell_type": "code",
   "execution_count": 38,
   "id": "e3e32c66",
   "metadata": {},
   "outputs": [
    {
     "data": {
      "text/plain": [
       "(dict, {1: 0, 2: 0, 3: 0, 4: 0, 5: 0, 6: 0, 7: 0, 8: 0, 9: 0})"
      ]
     },
     "execution_count": 38,
     "metadata": {},
     "output_type": "execute_result"
    }
   ],
   "source": [
    "dic = {i:0 for i in liste}\n",
    "print(dic)\n",
    "type(dic)"
   ]
  },
  {
   "cell_type": "code",
   "execution_count": 93,
   "id": "4b19e30e",
   "metadata": {},
   "outputs": [
    {
     "name": "stdout",
     "output_type": "stream",
     "text": [
      "{0: 0, 1: 0, 2: 0, 3: 0, 4: 0, 5: 0, 6: 0, 7: 0, 8: 0, 9: 0}\n"
     ]
    },
    {
     "data": {
      "text/plain": [
       "dict"
      ]
     },
     "execution_count": 93,
     "metadata": {},
     "output_type": "execute_result"
    }
   ],
   "source": [
    "dic = {i:0 for i in range(10)}\n",
    "print(dic)\n",
    "type(dic)"
   ]
  },
  {
   "cell_type": "code",
   "execution_count": 94,
   "id": "9bb6290c",
   "metadata": {},
   "outputs": [
    {
     "name": "stdout",
     "output_type": "stream",
     "text": [
      "{'d': 0, 'e': 0, 'n': 0, 'm': 0}\n"
     ]
    },
    {
     "data": {
      "text/plain": [
       "dict"
      ]
     },
     "execution_count": 94,
     "metadata": {},
     "output_type": "execute_result"
    }
   ],
   "source": [
    "dic = {i:0 for i in 'deneme'}\n",
    "print(dic)\n",
    "type(dic)"
   ]
  },
  {
   "cell_type": "code",
   "execution_count": null,
   "id": "ee33ca6e",
   "metadata": {},
   "outputs": [],
   "source": []
  },
  {
   "cell_type": "markdown",
   "id": "ef137de0",
   "metadata": {},
   "source": [
    "# ternary if"
   ]
  },
  {
   "cell_type": "markdown",
   "id": "d975cde9",
   "metadata": {},
   "source": [
    "Ternary Yapıların formulasyonu :\n",
    "\n",
    "```python\n",
    "\n",
    "if condition :\n",
    "    execute-body1\n",
    "else :\n",
    "    execute-body2\n",
    "   \n",
    "    \n",
    "execute-body1 if condition else execute-body2    \n",
    "```"
   ]
  },
  {
   "cell_type": "markdown",
   "id": "f690b8e5",
   "metadata": {},
   "source": [
    "```\n",
    "Klavyeden girilen 0 ile 999 arasındaki sayıların basamak sayısını ekrana yazdıran algoritma ?  - stringe cevirmeden"
   ]
  },
  {
   "cell_type": "code",
   "execution_count": 58,
   "id": "38783994",
   "metadata": {},
   "outputs": [
    {
     "name": "stdout",
     "output_type": "stream",
     "text": [
      "1 basamak\n"
     ]
    }
   ],
   "source": [
    "input_al = 9    \n",
    "\n",
    "# condition-koşulların yerleri değişirse hata oluşur sıralama önemli\n",
    "\n",
    "if 0 <= input_al < 10:     # 0 <= input_al and input_al < 10\n",
    "    print('1 basamak')\n",
    "elif input_al < 100:     \n",
    "    print('2 basamak')\n",
    "elif input_al < 1000:     \n",
    "    print('3 basamak')\n",
    "else:\n",
    "    print('error')"
   ]
  },
  {
   "cell_type": "code",
   "execution_count": 62,
   "id": "3adb35bf",
   "metadata": {},
   "outputs": [
    {
     "name": "stdout",
     "output_type": "stream",
     "text": [
      "2 basamak\n"
     ]
    }
   ],
   "source": [
    "input_al = 994\n",
    "\n",
    "# condition sıralama önemli değil\n",
    "\n",
    "if 0 <= input_al < 10:     # 0 <= input_al and input_al < 10\n",
    "    print('1 basamak')\n",
    "elif 10 <= input_al < 100:     \n",
    "    print('2 basamak')\n",
    "elif 100 <= input_al < 1000:    \n",
    "    print('3 basamak')\n",
    "else:\n",
    "    print('error')"
   ]
  },
  {
   "cell_type": "code",
   "execution_count": null,
   "id": "81f64d52",
   "metadata": {},
   "outputs": [],
   "source": [
    "input_al = 994\n",
    "\n",
    "# basit ternary if\n",
    "\n",
    "if 0 <= input_al < 10:     # 0 <= input_al and input_al < 10\n",
    "    print('1 basamak')\n",
    "else:\n",
    "    print('error')"
   ]
  },
  {
   "cell_type": "code",
   "execution_count": 64,
   "id": "f55241fc",
   "metadata": {},
   "outputs": [
    {
     "name": "stdout",
     "output_type": "stream",
     "text": [
      "error\n"
     ]
    }
   ],
   "source": [
    "input_al = 99\n",
    "\n",
    "print('1 basamak') if 0 <= input_al < 10 else print('error')"
   ]
  },
  {
   "cell_type": "code",
   "execution_count": null,
   "id": "601543d7",
   "metadata": {},
   "outputs": [],
   "source": [
    "input_al = 994\n",
    "\n",
    "if 0 <= input_al < 10:     # 0 <= input_al and input_al < 10\n",
    "    print('1 basamak')\n",
    "elif 10 <= input_al < 100:     \n",
    "    print('2 basamak')\n",
    "elif 100 <= input_al < 1000:    \n",
    "    print('3 basamak')\n",
    "else:\n",
    "    print('error')"
   ]
  },
  {
   "cell_type": "code",
   "execution_count": 71,
   "id": "9bdf34a7",
   "metadata": {},
   "outputs": [
    {
     "name": "stdout",
     "output_type": "stream",
     "text": [
      "3 basamak\n"
     ]
    }
   ],
   "source": [
    "# bütün kosullar ternary i statement\n",
    "input_al = 555\n",
    "print('1 basamak') if 0 <= input_al < 10 else print('2 basamak') if 10 <= input_al < 100 else print('3 basamak') if 100 <= input_al < 1000 else print('error')"
   ]
  },
  {
   "cell_type": "code",
   "execution_count": null,
   "id": "6c1e24db",
   "metadata": {},
   "outputs": [],
   "source": []
  },
  {
   "cell_type": "markdown",
   "id": "a364b5c2",
   "metadata": {},
   "source": [
    "# fonksiyon nedir"
   ]
  },
  {
   "cell_type": "markdown",
   "id": "ef86aef7",
   "metadata": {},
   "source": [
    "```\n",
    "Functions are python objects that facilitates re-usability of a program/code. They allow you to write\n",
    "smarter, neater codes that will increase your code efficiency.\n",
    "DRY: Do not rpeat yourself.... A function run when you call it....\n",
    "The general format of a function is:\n",
    "\n",
    "def function_name(inputs):\n",
    " \"\"\"\n",
    " docstrings\n",
    " \"\"\"\n",
    " instructions to execute\n",
    " return output\n",
    "```"
   ]
  },
  {
   "cell_type": "markdown",
   "id": "3d18bb9b",
   "metadata": {},
   "source": [
    "## No input"
   ]
  },
  {
   "cell_type": "code",
   "execution_count": 5,
   "id": "b8d71d9d",
   "metadata": {},
   "outputs": [],
   "source": [
    "def hello_function():\n",
    " print (\"Helloe everyone\")"
   ]
  },
  {
   "cell_type": "code",
   "execution_count": 6,
   "id": "9066a712",
   "metadata": {},
   "outputs": [
    {
     "data": {
      "text/plain": [
       "<function __main__.hello_function()>"
      ]
     },
     "execution_count": 6,
     "metadata": {},
     "output_type": "execute_result"
    }
   ],
   "source": [
    "hello_function"
   ]
  },
  {
   "cell_type": "code",
   "execution_count": 7,
   "id": "df255916",
   "metadata": {},
   "outputs": [
    {
     "name": "stdout",
     "output_type": "stream",
     "text": [
      "Helloe everyone\n"
     ]
    }
   ],
   "source": [
    "hello_function()"
   ]
  },
  {
   "cell_type": "code",
   "execution_count": null,
   "id": "ffac97ed",
   "metadata": {},
   "outputs": [],
   "source": []
  },
  {
   "cell_type": "markdown",
   "id": "dfae13bf",
   "metadata": {},
   "source": [
    "## One input"
   ]
  },
  {
   "cell_type": "code",
   "execution_count": 8,
   "id": "2aadc0e5",
   "metadata": {},
   "outputs": [],
   "source": [
    "def equ_function(x):\n",
    " y=x+1\n",
    " return y"
   ]
  },
  {
   "cell_type": "code",
   "execution_count": 9,
   "id": "3971641f",
   "metadata": {},
   "outputs": [
    {
     "data": {
      "text/plain": [
       "4"
      ]
     },
     "execution_count": 9,
     "metadata": {},
     "output_type": "execute_result"
    }
   ],
   "source": [
    "equ_function(3)"
   ]
  },
  {
   "cell_type": "code",
   "execution_count": 18,
   "id": "a74145e3",
   "metadata": {},
   "outputs": [
    {
     "name": "stdout",
     "output_type": "stream",
     "text": [
      "Python is the best codding language\n"
     ]
    }
   ],
   "source": [
    "a, b, c = 'Python', \"Matlab\", \"MathCad\"\n",
    "\n",
    "def sw_function(x):\n",
    "    print (x, \"is the best codding language\")\n",
    "\n",
    "sw_function(a)"
   ]
  },
  {
   "cell_type": "code",
   "execution_count": null,
   "id": "220891c5",
   "metadata": {},
   "outputs": [],
   "source": []
  },
  {
   "cell_type": "markdown",
   "id": "50f958b8",
   "metadata": {},
   "source": [
    "## Many inputs"
   ]
  },
  {
   "cell_type": "code",
   "execution_count": 16,
   "id": "aadf080b",
   "metadata": {},
   "outputs": [],
   "source": [
    "def add_function(x1,x2):\n",
    "    y=x1+x2\n",
    "    return y"
   ]
  },
  {
   "cell_type": "code",
   "execution_count": 17,
   "id": "44988f4b",
   "metadata": {},
   "outputs": [
    {
     "data": {
      "text/plain": [
       "90"
      ]
     },
     "execution_count": 17,
     "metadata": {},
     "output_type": "execute_result"
    }
   ],
   "source": [
    "add_function(50,40)"
   ]
  },
  {
   "cell_type": "code",
   "execution_count": 15,
   "id": "863b3d19",
   "metadata": {},
   "outputs": [
    {
     "name": "stdout",
     "output_type": "stream",
     "text": [
      "Error: only integer allowed\n"
     ]
    },
    {
     "ename": "UnboundLocalError",
     "evalue": "local variable 'y' referenced before assignment",
     "output_type": "error",
     "traceback": [
      "\u001b[1;31m---------------------------------------------------------------------------\u001b[0m",
      "\u001b[1;31mUnboundLocalError\u001b[0m                         Traceback (most recent call last)",
      "\u001b[1;32m~\\AppData\\Local\\Temp/ipykernel_8248/3587018185.py\u001b[0m in \u001b[0;36m<module>\u001b[1;34m\u001b[0m\n\u001b[0;32m      6\u001b[0m     \u001b[0mprint\u001b[0m \u001b[1;33m(\u001b[0m\u001b[0my\u001b[0m\u001b[1;33m)\u001b[0m\u001b[1;33m\u001b[0m\u001b[1;33m\u001b[0m\u001b[0m\n\u001b[0;32m      7\u001b[0m \u001b[1;33m\u001b[0m\u001b[0m\n\u001b[1;32m----> 8\u001b[1;33m \u001b[0madd3_function\u001b[0m\u001b[1;33m(\u001b[0m\u001b[0mx1\u001b[0m\u001b[1;33m=\u001b[0m\u001b[1;34m'3'\u001b[0m\u001b[1;33m,\u001b[0m\u001b[0mx2\u001b[0m\u001b[1;33m=\u001b[0m\u001b[1;36m4\u001b[0m\u001b[1;33m)\u001b[0m\u001b[1;33m\u001b[0m\u001b[1;33m\u001b[0m\u001b[0m\n\u001b[0m",
      "\u001b[1;32m~\\AppData\\Local\\Temp/ipykernel_8248/3587018185.py\u001b[0m in \u001b[0;36madd3_function\u001b[1;34m(x1, x2)\u001b[0m\n\u001b[0;32m      4\u001b[0m     \u001b[1;32melse\u001b[0m\u001b[1;33m:\u001b[0m\u001b[1;33m\u001b[0m\u001b[1;33m\u001b[0m\u001b[0m\n\u001b[0;32m      5\u001b[0m         \u001b[0my\u001b[0m\u001b[1;33m=\u001b[0m\u001b[0mx1\u001b[0m\u001b[1;33m+\u001b[0m\u001b[0mx2\u001b[0m\u001b[1;33m\u001b[0m\u001b[1;33m\u001b[0m\u001b[0m\n\u001b[1;32m----> 6\u001b[1;33m     \u001b[0mprint\u001b[0m \u001b[1;33m(\u001b[0m\u001b[0my\u001b[0m\u001b[1;33m)\u001b[0m\u001b[1;33m\u001b[0m\u001b[1;33m\u001b[0m\u001b[0m\n\u001b[0m\u001b[0;32m      7\u001b[0m \u001b[1;33m\u001b[0m\u001b[0m\n\u001b[0;32m      8\u001b[0m \u001b[0madd3_function\u001b[0m\u001b[1;33m(\u001b[0m\u001b[0mx1\u001b[0m\u001b[1;33m=\u001b[0m\u001b[1;34m'3'\u001b[0m\u001b[1;33m,\u001b[0m\u001b[0mx2\u001b[0m\u001b[1;33m=\u001b[0m\u001b[1;36m4\u001b[0m\u001b[1;33m)\u001b[0m\u001b[1;33m\u001b[0m\u001b[1;33m\u001b[0m\u001b[0m\n",
      "\u001b[1;31mUnboundLocalError\u001b[0m: local variable 'y' referenced before assignment"
     ]
    }
   ],
   "source": [
    "def add3_function(x1,x2):\n",
    "    if type(x1) != int or type(x2) != int:\n",
    "        print(\"Error: only integer allowed\")\n",
    "    else: \n",
    "        y=x1+x2\n",
    "    print (y) \n",
    "\n",
    "add3_function(x1='3',x2=4)"
   ]
  },
  {
   "cell_type": "code",
   "execution_count": 23,
   "id": "0786b9be",
   "metadata": {},
   "outputs": [],
   "source": [
    "def full_name(first, middle, last):\n",
    "    print (f'{first.strip().capitalize()} {middle.upper():.1s} {last.capitalize()}')"
   ]
  },
  {
   "cell_type": "code",
   "execution_count": 25,
   "id": "305c4c3d",
   "metadata": {},
   "outputs": [
    {
     "name": "stdout",
     "output_type": "stream",
     "text": [
      "Ali V Deli\n"
     ]
    }
   ],
   "source": [
    "full_name(\" ali \", 'veli', 'deli')"
   ]
  },
  {
   "cell_type": "code",
   "execution_count": null,
   "id": "af4e5a67",
   "metadata": {},
   "outputs": [],
   "source": []
  },
  {
   "cell_type": "markdown",
   "id": "60ff0b9d",
   "metadata": {},
   "source": [
    "## Unkown inputs: Packing, Unpacking"
   ]
  },
  {
   "cell_type": "markdown",
   "id": "bb76da87",
   "metadata": {},
   "source": [
    "### Tuple inputs"
   ]
  },
  {
   "cell_type": "code",
   "execution_count": 27,
   "id": "1658d0ea",
   "metadata": {},
   "outputs": [],
   "source": [
    "def say_Hi1(a, b):\n",
    "    people=[a, b]\n",
    "    for name in people:\n",
    "        print(f\"Hi {name}\")"
   ]
  },
  {
   "cell_type": "code",
   "execution_count": 28,
   "id": "d647c509",
   "metadata": {},
   "outputs": [
    {
     "name": "stdout",
     "output_type": "stream",
     "text": [
      "Hi Ali\n",
      "Hi Veli\n"
     ]
    }
   ],
   "source": [
    "say_Hi1('Ali', \"Veli\") "
   ]
  },
  {
   "cell_type": "code",
   "execution_count": 29,
   "id": "72a277f4",
   "metadata": {},
   "outputs": [
    {
     "ename": "TypeError",
     "evalue": "say_Hi1() takes 2 positional arguments but 3 were given",
     "output_type": "error",
     "traceback": [
      "\u001b[1;31m---------------------------------------------------------------------------\u001b[0m",
      "\u001b[1;31mTypeError\u001b[0m                                 Traceback (most recent call last)",
      "\u001b[1;32m~\\AppData\\Local\\Temp/ipykernel_8248/1681682522.py\u001b[0m in \u001b[0;36m<module>\u001b[1;34m\u001b[0m\n\u001b[1;32m----> 1\u001b[1;33m \u001b[0msay_Hi1\u001b[0m\u001b[1;33m(\u001b[0m\u001b[1;34m'ali'\u001b[0m\u001b[1;33m,\u001b[0m \u001b[1;34m'veli'\u001b[0m\u001b[1;33m,\u001b[0m \u001b[1;34m'deli'\u001b[0m\u001b[1;33m)\u001b[0m \u001b[1;31m# 3 names cause error\u001b[0m\u001b[1;33m\u001b[0m\u001b[1;33m\u001b[0m\u001b[0m\n\u001b[0m",
      "\u001b[1;31mTypeError\u001b[0m: say_Hi1() takes 2 positional arguments but 3 were given"
     ]
    }
   ],
   "source": [
    "say_Hi1('ali', 'veli', 'deli') # 3 names cause error"
   ]
  },
  {
   "cell_type": "code",
   "execution_count": 31,
   "id": "b42a0066",
   "metadata": {},
   "outputs": [],
   "source": [
    "def say_Hi2(*people):\n",
    "    for name in people:\n",
    "        print(f\"Hi {name}\")"
   ]
  },
  {
   "cell_type": "code",
   "execution_count": 32,
   "id": "1b023460",
   "metadata": {},
   "outputs": [
    {
     "name": "stdout",
     "output_type": "stream",
     "text": [
      "Hi ali\n",
      "Hi veli\n",
      "Hi deli\n"
     ]
    }
   ],
   "source": [
    "say_Hi2('ali', 'veli', 'deli')"
   ]
  },
  {
   "cell_type": "code",
   "execution_count": 33,
   "id": "6977d016",
   "metadata": {},
   "outputs": [],
   "source": [
    "def student(uni, *people):\n",
    "    for name in people:\n",
    "        print(f\"{name} studies at {uni}\")"
   ]
  },
  {
   "cell_type": "code",
   "execution_count": 34,
   "id": "2308e334",
   "metadata": {},
   "outputs": [
    {
     "name": "stdout",
     "output_type": "stream",
     "text": [
      "Jhon studies at Curtin University\n",
      "Sam studies at Curtin University\n",
      "kaf studies at Curtin University\n",
      "Jaf studies at Curtin University\n",
      "Naf studies at Curtin University\n"
     ]
    }
   ],
   "source": [
    "student('Curtin University','Jhon', \"Sam\", \"kaf\", \"Jaf\", \"Naf\")"
   ]
  },
  {
   "cell_type": "code",
   "execution_count": 35,
   "id": "a89b95ea",
   "metadata": {},
   "outputs": [],
   "source": [
    "def show_skills(name, *skills):\n",
    "    \n",
    "    print (f\"{name} \\n - skills without progress:\") \n",
    "    for skill in skills:\n",
    "        print (f\" -- {skill}\")"
   ]
  },
  {
   "cell_type": "code",
   "execution_count": 36,
   "id": "b50cf328",
   "metadata": {},
   "outputs": [
    {
     "name": "stdout",
     "output_type": "stream",
     "text": [
      "Sam \n",
      " - skills without progress:\n",
      " -- Python\n",
      " -- Matlab\n",
      " -- VB\n"
     ]
    }
   ],
   "source": [
    "show_skills(\"Sam\", \"Python\", \"Matlab\", \"VB\")"
   ]
  },
  {
   "cell_type": "code",
   "execution_count": 37,
   "id": "4c56e09b",
   "metadata": {},
   "outputs": [
    {
     "name": "stdout",
     "output_type": "stream",
     "text": [
      "Sam \n",
      " - skills without progress:\n",
      " -- Python\n",
      " -- Matlab\n",
      " -- VB\n",
      " -- Mathcad\n"
     ]
    }
   ],
   "source": [
    "show_skills(\"Sam\", \"Python\", \"Matlab\", \"VB\", \"Mathcad\")\n"
   ]
  },
  {
   "cell_type": "code",
   "execution_count": null,
   "id": "618418fb",
   "metadata": {},
   "outputs": [],
   "source": []
  },
  {
   "cell_type": "markdown",
   "id": "995aa364",
   "metadata": {},
   "source": [
    "### Dictionery inputs"
   ]
  },
  {
   "cell_type": "code",
   "execution_count": 43,
   "id": "6c3fb43e",
   "metadata": {},
   "outputs": [],
   "source": [
    "def people_info(**info): \n",
    "    for name, age in info.items():\n",
    "        print (f\"{name} is {age} year old\")"
   ]
  },
  {
   "cell_type": "code",
   "execution_count": 44,
   "id": "7c2cca85",
   "metadata": {},
   "outputs": [
    {
     "name": "stdout",
     "output_type": "stream",
     "text": [
      "Sam is 28 year old\n",
      "Kaf is 25 year old\n"
     ]
    }
   ],
   "source": [
    "# Method 1:\n",
    "people_info(Sam= 28, Kaf= 25)"
   ]
  },
  {
   "cell_type": "code",
   "execution_count": 45,
   "id": "04b4f899",
   "metadata": {},
   "outputs": [
    {
     "name": "stdout",
     "output_type": "stream",
     "text": [
      "Sam is 28 year old\n",
      "Kaf is 25 year old\n"
     ]
    }
   ],
   "source": [
    "# Method 2:\n",
    "my_info={\"Sam\": 28, \"Kaf\": 25}\n",
    "people_info(**my_info)"
   ]
  },
  {
   "cell_type": "code",
   "execution_count": null,
   "id": "2a727993",
   "metadata": {},
   "outputs": [],
   "source": []
  },
  {
   "cell_type": "markdown",
   "id": "93014ad5",
   "metadata": {},
   "source": [
    "### Tuple & Dictionery inputs "
   ]
  },
  {
   "cell_type": "code",
   "execution_count": 46,
   "id": "be98b63f",
   "metadata": {},
   "outputs": [],
   "source": [
    "def show_skills2(name, *skills, ** skills_with_progress):\n",
    "    \n",
    "    print (f\"{name} \\n 1- Skills without progress:\") \n",
    "    for skill in skills:\n",
    "        print (f\" --- {skill}\")\n",
    "    \n",
    "    print (f\" \\n 2- Skills with progress:\")\n",
    "    for skill_key, skill_value in skills_with_progress.items():\n",
    "        print (f\" --- {skill_key} : {skill_value}\") "
   ]
  },
  {
   "cell_type": "code",
   "execution_count": 47,
   "id": "7f139008",
   "metadata": {},
   "outputs": [
    {
     "name": "stdout",
     "output_type": "stream",
     "text": [
      "Sam \n",
      " 1- Skills without progress:\n",
      " --- Python\n",
      " --- Matlab\n",
      " --- VB\n",
      " \n",
      " 2- Skills with progress:\n",
      " --- MathCad : 60\n"
     ]
    }
   ],
   "source": [
    "show_skills2(\"Sam\", \"Python\", \"Matlab\", \"VB\", MathCad=\"60\")"
   ]
  },
  {
   "cell_type": "code",
   "execution_count": 48,
   "id": "aa5ea69c",
   "metadata": {},
   "outputs": [
    {
     "name": "stdout",
     "output_type": "stream",
     "text": [
      "Sam \n",
      " 1- Skills without progress:\n",
      " \n",
      " 2- Skills with progress:\n",
      " --- MathCad : 60\n"
     ]
    }
   ],
   "source": [
    "show_skills2(\"Sam\", MathCad=\"60\")\n"
   ]
  },
  {
   "cell_type": "code",
   "execution_count": 49,
   "id": "6fa6c4c2",
   "metadata": {},
   "outputs": [
    {
     "name": "stdout",
     "output_type": "stream",
     "text": [
      "Sam \n",
      " 1- Skills without progress:\n",
      " --- Python\n",
      " --- Matlab\n",
      " \n",
      " 2- Skills with progress:\n"
     ]
    }
   ],
   "source": [
    "show_skills2(\"Sam\", \"Python\", \"Matlab\")"
   ]
  },
  {
   "cell_type": "code",
   "execution_count": 51,
   "id": "0cb3db49",
   "metadata": {},
   "outputs": [
    {
     "name": "stdout",
     "output_type": "stream",
     "text": [
      "Sam \n",
      " 1- Skills without progress:\n",
      " --- Python\n",
      " --- Matlab\n",
      " --- VB\n",
      " \n",
      " 2- Skills with progress:\n",
      " --- MathCad : 60\n"
     ]
    }
   ],
   "source": [
    "myTuple=(\"Python\", \"Matlab\", \"VB\")\n",
    "\n",
    "show_skills2(\"Sam\",*myTuple, MathCad=\"60\")"
   ]
  },
  {
   "cell_type": "code",
   "execution_count": 52,
   "id": "bfafd6e4",
   "metadata": {},
   "outputs": [],
   "source": [
    "myTuple=(\"Python\", \"Matlab\", \"VB\")\n",
    "my_Dict={\"MathCad\": 28, \"SQL\": 25}"
   ]
  },
  {
   "cell_type": "code",
   "execution_count": 53,
   "id": "f1b22e23",
   "metadata": {},
   "outputs": [
    {
     "name": "stdout",
     "output_type": "stream",
     "text": [
      "Sam \n",
      " 1- Skills without progress:\n",
      " --- Python\n",
      " --- Matlab\n",
      " --- VB\n",
      " \n",
      " 2- Skills with progress:\n",
      " --- MathCad : 28\n",
      " --- SQL : 25\n"
     ]
    }
   ],
   "source": [
    "show_skills2(\"Sam\",*myTuple, **my_Dict)\n"
   ]
  },
  {
   "cell_type": "code",
   "execution_count": null,
   "id": "c7ff5b17",
   "metadata": {},
   "outputs": [],
   "source": []
  },
  {
   "cell_type": "markdown",
   "id": "cf910da9",
   "metadata": {},
   "source": [
    "## Default inputs:"
   ]
  },
  {
   "cell_type": "code",
   "execution_count": 54,
   "id": "9ee15f5d",
   "metadata": {},
   "outputs": [],
   "source": [
    "def info(name, age, country):\n",
    "    print (f\"{name} is {age} year old from {country}\")"
   ]
  },
  {
   "cell_type": "code",
   "execution_count": 55,
   "id": "4db543a3",
   "metadata": {},
   "outputs": [
    {
     "name": "stdout",
     "output_type": "stream",
     "text": [
      "Sam is 28 year old from Australia\n"
     ]
    }
   ],
   "source": [
    "info(\"Sam\", 28, \"Australia\")"
   ]
  },
  {
   "cell_type": "code",
   "execution_count": 56,
   "id": "6b16b315",
   "metadata": {},
   "outputs": [
    {
     "ename": "TypeError",
     "evalue": "info() missing 1 required positional argument: 'country'",
     "output_type": "error",
     "traceback": [
      "\u001b[1;31m---------------------------------------------------------------------------\u001b[0m",
      "\u001b[1;31mTypeError\u001b[0m                                 Traceback (most recent call last)",
      "\u001b[1;32m~\\AppData\\Local\\Temp/ipykernel_8248/25283511.py\u001b[0m in \u001b[0;36m<module>\u001b[1;34m\u001b[0m\n\u001b[1;32m----> 1\u001b[1;33m \u001b[0minfo\u001b[0m\u001b[1;33m(\u001b[0m\u001b[1;34m\"Sam\"\u001b[0m\u001b[1;33m,\u001b[0m \u001b[1;36m28\u001b[0m\u001b[1;33m)\u001b[0m \u001b[1;31m# This will result in error\u001b[0m\u001b[1;33m\u001b[0m\u001b[1;33m\u001b[0m\u001b[0m\n\u001b[0m",
      "\u001b[1;31mTypeError\u001b[0m: info() missing 1 required positional argument: 'country'"
     ]
    }
   ],
   "source": [
    "info(\"Sam\", 28) # This will result in error"
   ]
  },
  {
   "cell_type": "code",
   "execution_count": 57,
   "id": "3145ee57",
   "metadata": {},
   "outputs": [],
   "source": [
    "def info(name, age, country=\"Unknown\"): # Default input should be the last\n",
    "    print (f\"{name} is {age} year old from {country}\")"
   ]
  },
  {
   "cell_type": "code",
   "execution_count": 58,
   "id": "567a524b",
   "metadata": {},
   "outputs": [
    {
     "name": "stdout",
     "output_type": "stream",
     "text": [
      "Sam is 28 year old from Unknown\n"
     ]
    }
   ],
   "source": [
    "info(\"Sam\", 28)"
   ]
  },
  {
   "cell_type": "code",
   "execution_count": 60,
   "id": "017af41b",
   "metadata": {},
   "outputs": [],
   "source": [
    "def info(name, age=\"Unknown\", country=\"Australia\"): # Default input2 should \n",
    "    print (f\"{name} is {age} year old from {country}\")"
   ]
  },
  {
   "cell_type": "code",
   "execution_count": 61,
   "id": "d0da378f",
   "metadata": {},
   "outputs": [
    {
     "name": "stdout",
     "output_type": "stream",
     "text": [
      "Sam is Unknown year old from Australia\n"
     ]
    }
   ],
   "source": [
    "info(\"Sam\")"
   ]
  },
  {
   "cell_type": "code",
   "execution_count": null,
   "id": "4357449d",
   "metadata": {},
   "outputs": [],
   "source": []
  },
  {
   "cell_type": "markdown",
   "id": "66dc376f",
   "metadata": {},
   "source": [
    "## Many outputs"
   ]
  },
  {
   "cell_type": "code",
   "execution_count": 63,
   "id": "502372fe",
   "metadata": {},
   "outputs": [],
   "source": [
    "def many_outputs(a, b):\n",
    "    x=a**2\n",
    "    y=b**2\n",
    "    return x, y"
   ]
  },
  {
   "cell_type": "code",
   "execution_count": 64,
   "id": "4e080a46",
   "metadata": {},
   "outputs": [
    {
     "data": {
      "text/plain": [
       "(9, 16)"
      ]
     },
     "execution_count": 64,
     "metadata": {},
     "output_type": "execute_result"
    }
   ],
   "source": [
    "many_outputs(3, 4)"
   ]
  },
  {
   "cell_type": "code",
   "execution_count": 65,
   "id": "ab3589e7",
   "metadata": {},
   "outputs": [
    {
     "name": "stdout",
     "output_type": "stream",
     "text": [
      "x= 4\n",
      "y= 25\n"
     ]
    }
   ],
   "source": [
    "x,y=many_outputs(2, 5)\n",
    "print (\"x=\", x)\n",
    "print (\"y=\", y)"
   ]
  },
  {
   "cell_type": "code",
   "execution_count": null,
   "id": "7f8d0cd6",
   "metadata": {},
   "outputs": [],
   "source": []
  },
  {
   "cell_type": "markdown",
   "id": "532d4f6f",
   "metadata": {},
   "source": [
    "## Variable scope"
   ]
  },
  {
   "cell_type": "markdown",
   "id": "525881d0",
   "metadata": {},
   "source": [
    "```\n",
    "Global variables\n",
    "Function variables\n",
    "```"
   ]
  },
  {
   "cell_type": "code",
   "execution_count": 68,
   "id": "5b063f8f",
   "metadata": {},
   "outputs": [],
   "source": [
    "n= 1 # Global variable\n",
    "def var_scope1():\n",
    "    print (f\" Print the global variable from the function scope: {n}\")"
   ]
  },
  {
   "cell_type": "code",
   "execution_count": 69,
   "id": "9dbd420a",
   "metadata": {},
   "outputs": [
    {
     "name": "stdout",
     "output_type": "stream",
     "text": [
      " Print the global variable from the global scope: 1\n"
     ]
    }
   ],
   "source": [
    "print (f\" Print the global variable from the global scope: {n}\")"
   ]
  },
  {
   "cell_type": "code",
   "execution_count": 67,
   "id": "05ffa6cf",
   "metadata": {},
   "outputs": [
    {
     "name": "stdout",
     "output_type": "stream",
     "text": [
      " Print the global variable from the function scope: 1\n"
     ]
    }
   ],
   "source": [
    "var_scope1()"
   ]
  },
  {
   "cell_type": "code",
   "execution_count": null,
   "id": "fd6fda1f",
   "metadata": {},
   "outputs": [],
   "source": []
  },
  {
   "cell_type": "code",
   "execution_count": 8,
   "id": "301be90b",
   "metadata": {},
   "outputs": [],
   "source": [
    "m= 1 # Global variable. Try to disable it, this will cause error\n",
    "\n",
    "def var_scope2():\n",
    "    m=999 # Function scope\n",
    "    print (f\" Print the variable from the function scope {m} : What happens is?\")"
   ]
  },
  {
   "cell_type": "code",
   "execution_count": 9,
   "id": "369d73d2",
   "metadata": {},
   "outputs": [
    {
     "name": "stdout",
     "output_type": "stream",
     "text": [
      " Print the variable from the global scope 1\n"
     ]
    }
   ],
   "source": [
    "print (f\" Print the variable from the global scope {m}\")"
   ]
  },
  {
   "cell_type": "code",
   "execution_count": 10,
   "id": "b66fb95f",
   "metadata": {},
   "outputs": [
    {
     "name": "stdout",
     "output_type": "stream",
     "text": [
      " Print the variable from the function scope 999 : What happens is?\n"
     ]
    }
   ],
   "source": [
    "var_scope2()"
   ]
  },
  {
   "cell_type": "code",
   "execution_count": null,
   "id": "2c50814e",
   "metadata": {},
   "outputs": [],
   "source": []
  },
  {
   "cell_type": "code",
   "execution_count": 4,
   "id": "5616593c",
   "metadata": {},
   "outputs": [],
   "source": [
    "# Convert fucntion scope to Global scope\n",
    "\n",
    "k= 1 #Global_1\n",
    "\n",
    "def var_scope3():\n",
    "    global k #Global_2\n",
    "    k=999 # Function scope\n",
    "    print (f\" Print the variable from the function scope {k} : What happens is?\")"
   ]
  },
  {
   "cell_type": "code",
   "execution_count": 5,
   "id": "93b69f87",
   "metadata": {},
   "outputs": [
    {
     "name": "stdout",
     "output_type": "stream",
     "text": [
      " Print the variable from the global_1: 1\n"
     ]
    }
   ],
   "source": [
    "print (f\" Print the variable from the global_1: {k}\")\n"
   ]
  },
  {
   "cell_type": "code",
   "execution_count": 6,
   "id": "7980d0e6",
   "metadata": {},
   "outputs": [
    {
     "name": "stdout",
     "output_type": "stream",
     "text": [
      " Print the variable from the function scope 999 : What happens is?\n"
     ]
    }
   ],
   "source": [
    "var_scope3()"
   ]
  },
  {
   "cell_type": "code",
   "execution_count": 7,
   "id": "1cbf9f92",
   "metadata": {},
   "outputs": [
    {
     "name": "stdout",
     "output_type": "stream",
     "text": [
      " Print the variable from the global_1: 999\n"
     ]
    }
   ],
   "source": [
    "print (f\" Print the variable from the global_1: {k}\")"
   ]
  },
  {
   "cell_type": "code",
   "execution_count": null,
   "id": "20c310ac",
   "metadata": {},
   "outputs": [],
   "source": []
  },
  {
   "cell_type": "markdown",
   "id": "7b15315c",
   "metadata": {},
   "source": [
    "## recursive - özyinelemeli fonksiyonlar"
   ]
  },
  {
   "cell_type": "markdown",
   "id": "106e73cb",
   "metadata": {},
   "source": [
    "```\n",
    "def fonksiyon_adı(num):\n",
    "\n",
    "    if bitiş - çıkış koşulu :\n",
    "        return 1\n",
    "        \n",
    "    else:\n",
    "        return num * fonksiyon_adı(num-1)\n",
    "```"
   ]
  },
  {
   "cell_type": "code",
   "execution_count": 12,
   "id": "76e5852b",
   "metadata": {},
   "outputs": [
    {
     "data": {
      "text/plain": [
       "120"
      ]
     },
     "execution_count": 12,
     "metadata": {},
     "output_type": "execute_result"
    }
   ],
   "source": [
    "def faktoriyel_f(num):\n",
    "    \"\"\"This is a recursive function\n",
    "     to find the factorial of an integer\"\"\"\n",
    "    \n",
    "    if num < 1:\n",
    "        return 1\n",
    "    else:\n",
    "        return num * faktoriyel_f(num-1)\n",
    "\n",
    "faktoriyel_f(5)"
   ]
  },
  {
   "cell_type": "code",
   "execution_count": 14,
   "id": "a0cfd6f4",
   "metadata": {},
   "outputs": [
    {
     "name": "stdout",
     "output_type": "stream",
     "text": [
      "The factorial of 4 is 24\n"
     ]
    }
   ],
   "source": [
    "num = 4 # 4!=4*3*2*1\n",
    "\n",
    "print(\"The factorial of\", num, \"is\", faktoriyel_f(num))\n",
    "\n",
    "# step 1: = 4*f(3), where f(3)=3*f(2):\n",
    "\n",
    "# step 2: = 4*3*f(2), where f(2)=2*f(1):\n",
    "\n",
    "# step 3: = 4*3*2*f(1), where f(1)=1\n",
    "\n",
    "# step 3: = 4*3*2*1 "
   ]
  },
  {
   "cell_type": "code",
   "execution_count": null,
   "id": "830fedb4",
   "metadata": {},
   "outputs": [],
   "source": []
  },
  {
   "cell_type": "code",
   "execution_count": 43,
   "id": "8223d393",
   "metadata": {},
   "outputs": [],
   "source": [
    "liste = [[1,[2,3], [[7]], [[]]], 0]  # [1, 2, 3, 7, 0]\n"
   ]
  },
  {
   "cell_type": "code",
   "execution_count": 63,
   "id": "b40c114d",
   "metadata": {},
   "outputs": [
    {
     "name": "stdout",
     "output_type": "stream",
     "text": [
      "[1, 2, 3, 7, 0]\n"
     ]
    }
   ],
   "source": [
    "liste = [[1,[2,3], [[7]], [[]]], 0]  # [1, 2, 3, 7, 0]\n",
    "\n",
    "def cözümm(liste):  \n",
    "    bos = []\n",
    "    for i in liste:\n",
    "        if type(i) != list:\n",
    "            bos.append(i)\n",
    "        else:\n",
    "            bos+=cözümm(i)  # [4] + [5] = [4, 5]\n",
    "    return bos\n",
    "  \n",
    "print(cözümm(liste)) "
   ]
  },
  {
   "cell_type": "code",
   "execution_count": 62,
   "id": "c97d0458",
   "metadata": {},
   "outputs": [
    {
     "data": {
      "text/plain": [
       "[4, 5]"
      ]
     },
     "execution_count": 62,
     "metadata": {},
     "output_type": "execute_result"
    }
   ],
   "source": [
    "[4] + [5]"
   ]
  },
  {
   "cell_type": "code",
   "execution_count": 95,
   "id": "55eb168c",
   "metadata": {},
   "outputs": [
    {
     "data": {
      "text/plain": [
       "list"
      ]
     },
     "execution_count": 95,
     "metadata": {},
     "output_type": "execute_result"
    }
   ],
   "source": [
    "list"
   ]
  },
  {
   "cell_type": "code",
   "execution_count": 53,
   "id": "2f7d923e",
   "metadata": {},
   "outputs": [
    {
     "data": {
      "text/plain": [
       "True"
      ]
     },
     "execution_count": 53,
     "metadata": {},
     "output_type": "execute_result"
    }
   ],
   "source": [
    "list == type(list())"
   ]
  },
  {
   "cell_type": "code",
   "execution_count": 96,
   "id": "031fbc0d",
   "metadata": {},
   "outputs": [
    {
     "data": {
      "text/plain": [
       "True"
      ]
     },
     "execution_count": 96,
     "metadata": {},
     "output_type": "execute_result"
    }
   ],
   "source": [
    "list == type([])"
   ]
  },
  {
   "cell_type": "code",
   "execution_count": null,
   "id": "2037bb96",
   "metadata": {},
   "outputs": [],
   "source": []
  },
  {
   "cell_type": "markdown",
   "id": "e6cba53b",
   "metadata": {},
   "source": [
    "```fonksiyonlar devam```"
   ]
  },
  {
   "cell_type": "code",
   "execution_count": null,
   "id": "ccb678da",
   "metadata": {},
   "outputs": [],
   "source": [
    "liste = [1,1,1,2,3,4,3,2,4,5,5,5,5,6,6,7,8,9]\n",
    "\n",
    "def fonk(liste):\n",
    "    dic = { i:liste.count(i) for i in set(liste) }\n",
    "    dic = sorted(dic.items(), key=lambda x: x[1])\n",
    "    return dic.pop()\n",
    "\n",
    "k, v = fonk(liste)\n",
    "k"
   ]
  },
  {
   "cell_type": "code",
   "execution_count": null,
   "id": "08f0b380",
   "metadata": {},
   "outputs": [],
   "source": []
  },
  {
   "cell_type": "markdown",
   "id": "f5cf2c68",
   "metadata": {},
   "source": [
    "# lambda nedir"
   ]
  },
  {
   "cell_type": "markdown",
   "id": "b62e1ded",
   "metadata": {},
   "source": [
    "```\n",
    "1- lambda nedir\n",
    "\n",
    "2- map(), filter() and reduce() nedir\n",
    "\n",
    "3- fonksiyonlar ile lambda kullanımı\n",
    "```"
   ]
  },
  {
   "cell_type": "markdown",
   "id": "c6f10d7c",
   "metadata": {},
   "source": [
    "```\n",
    "lambda arguments: expression \n",
    "\n",
    "def add(x,y):\n",
    "\treturn x + y\n",
    "\n",
    "lambda x, y: x + y  # yukarıdaki fonksiyon ile aynı işi yapar\n",
    "```"
   ]
  },
  {
   "cell_type": "markdown",
   "id": "aa46671e",
   "metadata": {},
   "source": [
    "```\n",
    "1 A function without name\n",
    "2 Can call it inline without defining it\n",
    "3 Can return data from another fucntion\n",
    "4 Used for simple fucntion\n",
    "5 One single expression\n",
    "```"
   ]
  },
  {
   "cell_type": "markdown",
   "id": "99e8a782",
   "metadata": {},
   "source": [
    "## No Input"
   ]
  },
  {
   "cell_type": "code",
   "execution_count": 18,
   "id": "a34cf442",
   "metadata": {},
   "outputs": [
    {
     "data": {
      "text/plain": [
       "5"
      ]
     },
     "execution_count": 18,
     "metadata": {},
     "output_type": "execute_result"
    }
   ],
   "source": [
    "def fonk():\n",
    "    return 5\n",
    "fonk()"
   ]
  },
  {
   "cell_type": "code",
   "execution_count": 19,
   "id": "15ca918e",
   "metadata": {},
   "outputs": [
    {
     "data": {
      "text/plain": [
       "<function __main__.<lambda>()>"
      ]
     },
     "execution_count": 19,
     "metadata": {},
     "output_type": "execute_result"
    }
   ],
   "source": [
    "lambda: 5"
   ]
  },
  {
   "cell_type": "code",
   "execution_count": 21,
   "id": "05e4fb08",
   "metadata": {},
   "outputs": [
    {
     "data": {
      "text/plain": [
       "5"
      ]
     },
     "execution_count": 21,
     "metadata": {},
     "output_type": "execute_result"
    }
   ],
   "source": [
    "(lambda: 5)()"
   ]
  },
  {
   "cell_type": "markdown",
   "id": "e6d87d07",
   "metadata": {},
   "source": [
    "## One Input"
   ]
  },
  {
   "cell_type": "code",
   "execution_count": 23,
   "id": "72d27071",
   "metadata": {},
   "outputs": [
    {
     "data": {
      "text/plain": [
       "100"
      ]
     },
     "execution_count": 23,
     "metadata": {},
     "output_type": "execute_result"
    }
   ],
   "source": [
    "def fonk(num):\n",
    "    return num*num\n",
    "\n",
    "fonk(10)"
   ]
  },
  {
   "cell_type": "code",
   "execution_count": 15,
   "id": "a5282a8d",
   "metadata": {},
   "outputs": [
    {
     "data": {
      "text/plain": [
       "9"
      ]
     },
     "execution_count": 15,
     "metadata": {},
     "output_type": "execute_result"
    }
   ],
   "source": [
    "def seq_num_1(num): return num*num\n",
    "\n",
    "seq_num_1(3)"
   ]
  },
  {
   "cell_type": "code",
   "execution_count": 17,
   "id": "04d35f93",
   "metadata": {},
   "outputs": [],
   "source": [
    "# lambda fucntion\n",
    "#                  input: output\n",
    "seq_num_2 = lambda   num: num*num"
   ]
  },
  {
   "cell_type": "code",
   "execution_count": 18,
   "id": "077a5a3b",
   "metadata": {},
   "outputs": [
    {
     "data": {
      "text/plain": [
       "9"
      ]
     },
     "execution_count": 18,
     "metadata": {},
     "output_type": "execute_result"
    }
   ],
   "source": [
    "seq_num_2(3)"
   ]
  },
  {
   "cell_type": "code",
   "execution_count": 24,
   "id": "cf007a8b",
   "metadata": {},
   "outputs": [
    {
     "data": {
      "text/plain": [
       "<function __main__.<lambda>(num)>"
      ]
     },
     "execution_count": 24,
     "metadata": {},
     "output_type": "execute_result"
    }
   ],
   "source": [
    "lambda num: num*num"
   ]
  },
  {
   "cell_type": "code",
   "execution_count": 25,
   "id": "239a165a",
   "metadata": {},
   "outputs": [
    {
     "data": {
      "text/plain": [
       "100"
      ]
     },
     "execution_count": 25,
     "metadata": {},
     "output_type": "execute_result"
    }
   ],
   "source": [
    "(lambda num: num*num)(10)"
   ]
  },
  {
   "cell_type": "markdown",
   "id": "ce01d2b9",
   "metadata": {},
   "source": [
    "## Multi Input"
   ]
  },
  {
   "cell_type": "code",
   "execution_count": 19,
   "id": "cfe4fea9",
   "metadata": {},
   "outputs": [],
   "source": [
    "Hi = lambda name, age: f\"{name} age is {age} years\""
   ]
  },
  {
   "cell_type": "code",
   "execution_count": 20,
   "id": "2bcd7f8b",
   "metadata": {},
   "outputs": [
    {
     "data": {
      "text/plain": [
       "'Sam age is 20 years'"
      ]
     },
     "execution_count": 20,
     "metadata": {},
     "output_type": "execute_result"
    }
   ],
   "source": [
    "Hi(\"Sam\", 20)"
   ]
  },
  {
   "cell_type": "code",
   "execution_count": null,
   "id": "026d96a6",
   "metadata": {},
   "outputs": [],
   "source": []
  },
  {
   "cell_type": "code",
   "execution_count": null,
   "id": "27114246",
   "metadata": {},
   "outputs": [],
   "source": []
  },
  {
   "cell_type": "markdown",
   "id": "3853412d",
   "metadata": {},
   "source": [
    "```Building a calculator using dict with lambda Expression```"
   ]
  },
  {
   "cell_type": "code",
   "execution_count": 10,
   "id": "528d0d7e",
   "metadata": {},
   "outputs": [],
   "source": [
    "calculator = {'+': (lambda x,y: x+y),\n",
    "              '-': (lambda x,y: x-y),\n",
    "              '*': (lambda x,y: x*y),\n",
    "              '/': (lambda x,y: x/y)}"
   ]
  },
  {
   "cell_type": "code",
   "execution_count": 11,
   "id": "ca83d3f9",
   "metadata": {},
   "outputs": [
    {
     "name": "stdout",
     "output_type": "stream",
     "text": [
      "9\n",
      "-1\n",
      "20\n",
      "0.8\n"
     ]
    }
   ],
   "source": [
    "print(calculator['+'](4, 5))\n",
    "print(calculator['-'](4, 5))\n",
    "print(calculator['*'](4, 5))\n",
    "print(calculator['/'](4, 5))"
   ]
  },
  {
   "cell_type": "code",
   "execution_count": null,
   "id": "d6f8ed02",
   "metadata": {},
   "outputs": [],
   "source": []
  },
  {
   "cell_type": "markdown",
   "id": "efae2485",
   "metadata": {},
   "source": [
    "# map(function, iterable(s))"
   ]
  },
  {
   "cell_type": "code",
   "execution_count": 97,
   "id": "aed38605",
   "metadata": {},
   "outputs": [
    {
     "name": "stdout",
     "output_type": "stream",
     "text": [
      "Help on class map in module builtins:\n",
      "\n",
      "class map(object)\n",
      " |  map(func, *iterables) --> map object\n",
      " |  \n",
      " |  Make an iterator that computes the function using arguments from\n",
      " |  each of the iterables.  Stops when the shortest iterable is exhausted.\n",
      " |  \n",
      " |  Methods defined here:\n",
      " |  \n",
      " |  __getattribute__(self, name, /)\n",
      " |      Return getattr(self, name).\n",
      " |  \n",
      " |  __iter__(self, /)\n",
      " |      Implement iter(self).\n",
      " |  \n",
      " |  __next__(self, /)\n",
      " |      Implement next(self).\n",
      " |  \n",
      " |  __reduce__(...)\n",
      " |      Return state information for pickling.\n",
      " |  \n",
      " |  ----------------------------------------------------------------------\n",
      " |  Static methods defined here:\n",
      " |  \n",
      " |  __new__(*args, **kwargs) from builtins.type\n",
      " |      Create and return a new object.  See help(type) for accurate signature.\n",
      "\n"
     ]
    }
   ],
   "source": [
    "help(map)"
   ]
  },
  {
   "cell_type": "code",
   "execution_count": 99,
   "id": "8a74c906",
   "metadata": {},
   "outputs": [
    {
     "data": {
      "text/plain": [
       "map"
      ]
     },
     "execution_count": 99,
     "metadata": {},
     "output_type": "execute_result"
    }
   ],
   "source": [
    "map"
   ]
  },
  {
   "cell_type": "code",
   "execution_count": 100,
   "id": "3d6fc18d",
   "metadata": {},
   "outputs": [
    {
     "data": {
      "text/plain": [
       "<map at 0x22ebaee4970>"
      ]
     },
     "execution_count": 100,
     "metadata": {},
     "output_type": "execute_result"
    }
   ],
   "source": [
    "map(str, [1, 2, 3])"
   ]
  },
  {
   "cell_type": "code",
   "execution_count": 101,
   "id": "b1459258",
   "metadata": {},
   "outputs": [
    {
     "data": {
      "text/plain": [
       "('1', '2', '3')"
      ]
     },
     "execution_count": 101,
     "metadata": {},
     "output_type": "execute_result"
    }
   ],
   "source": [
    "*map(str, [1, 2, 3]),"
   ]
  },
  {
   "cell_type": "code",
   "execution_count": null,
   "id": "8e48ecba",
   "metadata": {},
   "outputs": [],
   "source": []
  },
  {
   "cell_type": "code",
   "execution_count": 98,
   "id": "4aecba21",
   "metadata": {},
   "outputs": [],
   "source": [
    "fruit = [\"Apple\", \"Banana\", \"Pear\", \"Apricot\", \"Orange\"]"
   ]
  },
  {
   "cell_type": "code",
   "execution_count": 103,
   "id": "ad7932ae",
   "metadata": {},
   "outputs": [
    {
     "name": "stdout",
     "output_type": "stream",
     "text": [
      "5\n",
      "6\n",
      "4\n",
      "7\n",
      "6\n"
     ]
    }
   ],
   "source": [
    "for i in fruit:\n",
    "    print(len(i))"
   ]
  },
  {
   "cell_type": "code",
   "execution_count": 102,
   "id": "72df5e06",
   "metadata": {},
   "outputs": [
    {
     "name": "stdout",
     "output_type": "stream",
     "text": [
      "5 6 4 7 6\n"
     ]
    }
   ],
   "source": [
    "print(*map(len, fruit))"
   ]
  },
  {
   "cell_type": "markdown",
   "id": "7f1bf85a",
   "metadata": {},
   "source": [
    "```ilk harfi silme```"
   ]
  },
  {
   "cell_type": "code",
   "execution_count": 104,
   "id": "9e816656",
   "metadata": {},
   "outputs": [
    {
     "data": {
      "text/plain": [
       "'eneme'"
      ]
     },
     "execution_count": 104,
     "metadata": {},
     "output_type": "execute_result"
    }
   ],
   "source": [
    "'deneme'[1:]"
   ]
  },
  {
   "cell_type": "code",
   "execution_count": 105,
   "id": "b76725f5",
   "metadata": {},
   "outputs": [
    {
     "data": {
      "text/plain": [
       "'eneme'"
      ]
     },
     "execution_count": 105,
     "metadata": {},
     "output_type": "execute_result"
    }
   ],
   "source": [
    "def silici(x):\n",
    "    return x[1:]\n",
    "\n",
    "silici('deneme')"
   ]
  },
  {
   "cell_type": "code",
   "execution_count": 106,
   "id": "974734d1",
   "metadata": {},
   "outputs": [
    {
     "data": {
      "text/plain": [
       "['pple', 'anana', 'ear', 'pricot', 'range']"
      ]
     },
     "execution_count": 106,
     "metadata": {},
     "output_type": "execute_result"
    }
   ],
   "source": [
    "list(map(silici, fruit))"
   ]
  },
  {
   "cell_type": "markdown",
   "id": "36d000c7",
   "metadata": {},
   "source": [
    "```bi büyük bi kücük harfe cevirme```"
   ]
  },
  {
   "cell_type": "code",
   "execution_count": null,
   "id": "90166017",
   "metadata": {},
   "outputs": [],
   "source": [
    "fruit = [\"Apple\", \"Banana\", \"Pear\", \"Apricot\", \"Orange\"]"
   ]
  },
  {
   "cell_type": "code",
   "execution_count": 112,
   "id": "a55d4da4",
   "metadata": {},
   "outputs": [
    {
     "data": {
      "text/plain": [
       "['APPLE', 'BANANA', 'PEAR', 'APRICOT', 'ORANGE']"
      ]
     },
     "execution_count": 112,
     "metadata": {},
     "output_type": "execute_result"
    }
   ],
   "source": [
    "list( map ( lambda x: x.upper() , fruit))"
   ]
  },
  {
   "cell_type": "code",
   "execution_count": 108,
   "id": "a1a46cc9",
   "metadata": {},
   "outputs": [
    {
     "data": {
      "text/plain": [
       "'DeNeMe'"
      ]
     },
     "execution_count": 108,
     "metadata": {},
     "output_type": "execute_result"
    }
   ],
   "source": [
    "def letter_change(word):\n",
    "    cur_word = ''\n",
    "    for i in range(len(word)):\n",
    "        if i % 2:\n",
    "            cur_word += word[i].lower()\n",
    "        else:\n",
    "            cur_word += word[i].upper()\n",
    "    return cur_word\n",
    "\n",
    "letter_change('deneme')"
   ]
  },
  {
   "cell_type": "code",
   "execution_count": 109,
   "id": "f0d831d5",
   "metadata": {},
   "outputs": [
    {
     "data": {
      "text/plain": [
       "['ApPlE', 'BaNaNa', 'PeAr', 'ApRiCoT', 'OrAnGe']"
      ]
     },
     "execution_count": 109,
     "metadata": {},
     "output_type": "execute_result"
    }
   ],
   "source": [
    "list(map( letter_change , fruit))"
   ]
  },
  {
   "cell_type": "code",
   "execution_count": 110,
   "id": "4ed91506",
   "metadata": {},
   "outputs": [
    {
     "data": {
      "text/plain": [
       "'ApPlE'"
      ]
     },
     "execution_count": 110,
     "metadata": {},
     "output_type": "execute_result"
    }
   ],
   "source": [
    "(  lambda word : ''.join([word[i].lower() if i % 2 else word[i].upper() for i in range(len(word))])  )(\"Apple\")"
   ]
  },
  {
   "cell_type": "code",
   "execution_count": 111,
   "id": "3c019c83",
   "metadata": {},
   "outputs": [
    {
     "data": {
      "text/plain": [
       "['ApPlE', 'BaNaNa', 'PeAr', 'ApRiCoT', 'OrAnGe']"
      ]
     },
     "execution_count": 111,
     "metadata": {},
     "output_type": "execute_result"
    }
   ],
   "source": [
    "list(map( lambda word : ''.join([word[i].lower() if i % 2 else word[i].upper() for i in range(len(word))])  , fruit))"
   ]
  },
  {
   "cell_type": "markdown",
   "id": "7dd6a99f",
   "metadata": {},
   "source": [
    "```Listedeki meyvelerin ilk harflerini birleştirip string yapan algoritma --> 'ABPAO'```"
   ]
  },
  {
   "cell_type": "code",
   "execution_count": 4,
   "id": "92cd54e3",
   "metadata": {},
   "outputs": [],
   "source": [
    "fruit = [\"Apple\", \"Banana\", \"Pear\", \"Apricot\", \"Orange\"]"
   ]
  },
  {
   "cell_type": "code",
   "execution_count": 5,
   "id": "8b6f8481",
   "metadata": {},
   "outputs": [
    {
     "data": {
      "text/plain": [
       "('A', 'B', 'P', 'A', 'O')"
      ]
     },
     "execution_count": 5,
     "metadata": {},
     "output_type": "execute_result"
    }
   ],
   "source": [
    "*map(lambda x: x[0:1],fruit),"
   ]
  },
  {
   "cell_type": "code",
   "execution_count": 6,
   "id": "1fd41979",
   "metadata": {},
   "outputs": [
    {
     "name": "stdout",
     "output_type": "stream",
     "text": [
      "ABPAO"
     ]
    }
   ],
   "source": [
    "for i in map(lambda x: x[0:1],fruit):\n",
    "  print(i,end=\"\")"
   ]
  },
  {
   "cell_type": "code",
   "execution_count": 7,
   "id": "85df58b4",
   "metadata": {},
   "outputs": [
    {
     "name": "stdout",
     "output_type": "stream",
     "text": [
      "ABPAO\n"
     ]
    }
   ],
   "source": [
    "print(  *[num[0] for num in fruit] , sep='' )"
   ]
  },
  {
   "cell_type": "code",
   "execution_count": 8,
   "id": "bd5d904b",
   "metadata": {},
   "outputs": [
    {
     "name": "stdout",
     "output_type": "stream",
     "text": [
      "ABPAO\n"
     ]
    }
   ],
   "source": [
    "print(  ''.join(  [i[:1] for i in fruit]  )  )"
   ]
  },
  {
   "cell_type": "code",
   "execution_count": 9,
   "id": "c1bd933a",
   "metadata": {},
   "outputs": [
    {
     "name": "stdout",
     "output_type": "stream",
     "text": [
      "ABPAO\n"
     ]
    }
   ],
   "source": [
    "print(  *[ fruit[i][0]   for i in range(len(fruit)) ]  , sep=\"\"  )"
   ]
  },
  {
   "cell_type": "code",
   "execution_count": null,
   "id": "929dc180",
   "metadata": {},
   "outputs": [],
   "source": []
  },
  {
   "cell_type": "code",
   "execution_count": null,
   "id": "0450e4a9",
   "metadata": {},
   "outputs": [],
   "source": []
  },
  {
   "cell_type": "code",
   "execution_count": 107,
   "id": "8a278f59",
   "metadata": {},
   "outputs": [
    {
     "data": {
      "text/plain": [
       "[True, False, True, False, True, False, True, False, True, False, True]"
      ]
     },
     "execution_count": 107,
     "metadata": {},
     "output_type": "execute_result"
    }
   ],
   "source": [
    "list(map( lambda x: x != ' ' , 'd e n e m e'))"
   ]
  },
  {
   "cell_type": "code",
   "execution_count": null,
   "id": "baaa2b94",
   "metadata": {},
   "outputs": [],
   "source": []
  },
  {
   "cell_type": "markdown",
   "id": "69c7bfbb",
   "metadata": {},
   "source": [
    "# filter(function, iterable(s))"
   ]
  },
  {
   "cell_type": "code",
   "execution_count": 113,
   "id": "912ce769",
   "metadata": {},
   "outputs": [
    {
     "name": "stdout",
     "output_type": "stream",
     "text": [
      "Help on class filter in module builtins:\n",
      "\n",
      "class filter(object)\n",
      " |  filter(function or None, iterable) --> filter object\n",
      " |  \n",
      " |  Return an iterator yielding those items of iterable for which function(item)\n",
      " |  is true. If function is None, return the items that are true.\n",
      " |  \n",
      " |  Methods defined here:\n",
      " |  \n",
      " |  __getattribute__(self, name, /)\n",
      " |      Return getattr(self, name).\n",
      " |  \n",
      " |  __iter__(self, /)\n",
      " |      Implement iter(self).\n",
      " |  \n",
      " |  __next__(self, /)\n",
      " |      Implement next(self).\n",
      " |  \n",
      " |  __reduce__(...)\n",
      " |      Return state information for pickling.\n",
      " |  \n",
      " |  ----------------------------------------------------------------------\n",
      " |  Static methods defined here:\n",
      " |  \n",
      " |  __new__(*args, **kwargs) from builtins.type\n",
      " |      Create and return a new object.  See help(type) for accurate signature.\n",
      "\n"
     ]
    }
   ],
   "source": [
    "help(filter)"
   ]
  },
  {
   "cell_type": "markdown",
   "id": "8ba5e8cf",
   "metadata": {},
   "source": [
    "```soru 'd e n e m e'  --> 'deneme'```"
   ]
  },
  {
   "cell_type": "code",
   "execution_count": 114,
   "id": "524ed18a",
   "metadata": {},
   "outputs": [
    {
     "data": {
      "text/plain": [
       "'deneme'"
      ]
     },
     "execution_count": 114,
     "metadata": {},
     "output_type": "execute_result"
    }
   ],
   "source": [
    "d = 'd e n e m e'\n",
    "''.join(d.split())"
   ]
  },
  {
   "cell_type": "code",
   "execution_count": 118,
   "id": "25dcd279",
   "metadata": {},
   "outputs": [
    {
     "name": "stdout",
     "output_type": "stream",
     "text": [
      "True\n"
     ]
    }
   ],
   "source": [
    "d = 'd e n e m e'\n",
    "\n",
    "# filter içindeki fonksiyon True False dönecek\n",
    "\n",
    "def is_empty(word):\n",
    "    for i in word:  # 'd e n e m e'\n",
    "        if i == ' ':\n",
    "            return False \n",
    "        else:\n",
    "            return True\n",
    "    \n",
    "print(is_empty(d))"
   ]
  },
  {
   "cell_type": "code",
   "execution_count": 117,
   "id": "52bb31fa",
   "metadata": {},
   "outputs": [
    {
     "data": {
      "text/plain": [
       "'deneme'"
      ]
     },
     "execution_count": 117,
     "metadata": {},
     "output_type": "execute_result"
    }
   ],
   "source": [
    "d = 'd e n e m e'\n",
    "''.join(  list(filter( is_empty , d))  )"
   ]
  },
  {
   "cell_type": "code",
   "execution_count": 119,
   "id": "5f0708e2",
   "metadata": {},
   "outputs": [
    {
     "data": {
      "text/plain": [
       "'deneme'"
      ]
     },
     "execution_count": 119,
     "metadata": {},
     "output_type": "execute_result"
    }
   ],
   "source": [
    "# filter içindeki lambda True False dönecek - condition\n",
    "\n",
    "d = 'd e n e m e'\n",
    "''.join(  list(filter(lambda x: x.isalpha() , d))  )"
   ]
  },
  {
   "cell_type": "code",
   "execution_count": 120,
   "id": "995fccd6",
   "metadata": {},
   "outputs": [
    {
     "data": {
      "text/plain": [
       "'deneme'"
      ]
     },
     "execution_count": 120,
     "metadata": {},
     "output_type": "execute_result"
    }
   ],
   "source": [
    "d = 'd e n e m e'\n",
    "''.join(  list(filter(lambda x: ' ' not in x , d))  )"
   ]
  },
  {
   "cell_type": "code",
   "execution_count": 121,
   "id": "3a1b5d49",
   "metadata": {},
   "outputs": [
    {
     "data": {
      "text/plain": [
       "'deneme'"
      ]
     },
     "execution_count": 121,
     "metadata": {},
     "output_type": "execute_result"
    }
   ],
   "source": [
    "d = 'd e n e m e'\n",
    "''.join(  list(filter(lambda x: ' ' != x , d))  )"
   ]
  },
  {
   "cell_type": "code",
   "execution_count": null,
   "id": "6f4ca60d",
   "metadata": {},
   "outputs": [],
   "source": []
  },
  {
   "cell_type": "markdown",
   "id": "3544f5e6",
   "metadata": {},
   "source": [
    "```filter () - None yada fonksiyon alır None Truty değerleri döndürür```"
   ]
  },
  {
   "cell_type": "code",
   "execution_count": 122,
   "id": "d3db54d3",
   "metadata": {},
   "outputs": [],
   "source": [
    "fruit = [\"Apple\", \"Banana\", \"Pear\", \"Apricot\", \"Orange\", '', 0, False, [], {}]"
   ]
  },
  {
   "cell_type": "code",
   "execution_count": 123,
   "id": "a476a6c7",
   "metadata": {},
   "outputs": [
    {
     "name": "stdout",
     "output_type": "stream",
     "text": [
      "Apple Banana Pear Apricot Orange\n"
     ]
    }
   ],
   "source": [
    "print(*filter( None , fruit))"
   ]
  },
  {
   "cell_type": "markdown",
   "id": "814d108e",
   "metadata": {},
   "source": [
    "```Listenin içindekilerden içinde 'e' olanlar gelsin```"
   ]
  },
  {
   "cell_type": "code",
   "execution_count": 130,
   "id": "60bbd40c",
   "metadata": {},
   "outputs": [],
   "source": [
    "fruit = [\"Apple\", \"Banana\", \"Pear\", \"Apricot\", \"Orange\"]"
   ]
  },
  {
   "cell_type": "code",
   "execution_count": 131,
   "id": "6c5c4a7b",
   "metadata": {},
   "outputs": [
    {
     "data": {
      "text/plain": [
       "True"
      ]
     },
     "execution_count": 131,
     "metadata": {},
     "output_type": "execute_result"
    }
   ],
   "source": [
    "def e_filter (word):\n",
    "    if 'e' in word:\n",
    "        return True\n",
    "    else:\n",
    "        return False\n",
    "    \n",
    "e_filter(\"Apple\")"
   ]
  },
  {
   "cell_type": "code",
   "execution_count": 127,
   "id": "205f8aef",
   "metadata": {},
   "outputs": [
    {
     "data": {
      "text/plain": [
       "True"
      ]
     },
     "execution_count": 127,
     "metadata": {},
     "output_type": "execute_result"
    }
   ],
   "source": [
    "# içinde 'e' olanlar gelsin\n",
    "def e_filter_ternary_if (word):\n",
    "    return True if 'e' in word else False\n",
    "\n",
    "e_filter_ternary_if(\"Apple\")"
   ]
  },
  {
   "cell_type": "code",
   "execution_count": 132,
   "id": "26053ef9",
   "metadata": {},
   "outputs": [
    {
     "data": {
      "text/plain": [
       "['Apple', 'Pear', 'Orange']"
      ]
     },
     "execution_count": 132,
     "metadata": {},
     "output_type": "execute_result"
    }
   ],
   "source": [
    "list( filter( e_filter, fruit))"
   ]
  },
  {
   "cell_type": "code",
   "execution_count": 133,
   "id": "556d278c",
   "metadata": {},
   "outputs": [
    {
     "data": {
      "text/plain": [
       "['Apple', 'Pear', 'Orange']"
      ]
     },
     "execution_count": 133,
     "metadata": {},
     "output_type": "execute_result"
    }
   ],
   "source": [
    "list( filter( e_filter_ternary_if, fruit))"
   ]
  },
  {
   "cell_type": "code",
   "execution_count": 134,
   "id": "72d4b5fc",
   "metadata": {},
   "outputs": [
    {
     "data": {
      "text/plain": [
       "['Apple', 'Pear', 'Orange']"
      ]
     },
     "execution_count": 134,
     "metadata": {},
     "output_type": "execute_result"
    }
   ],
   "source": [
    "list(filter( lambda word :   True if 'e' in word else False    , fruit))"
   ]
  },
  {
   "cell_type": "code",
   "execution_count": null,
   "id": "78a27b03",
   "metadata": {},
   "outputs": [],
   "source": []
  },
  {
   "cell_type": "markdown",
   "id": "ab4164bf",
   "metadata": {},
   "source": [
    "# reduce(function, sequence[, initial])"
   ]
  },
  {
   "cell_type": "code",
   "execution_count": 2,
   "id": "f4b0711f",
   "metadata": {},
   "outputs": [],
   "source": [
    "from functools import reduce"
   ]
  },
  {
   "cell_type": "code",
   "execution_count": 136,
   "id": "5fcc2601",
   "metadata": {},
   "outputs": [
    {
     "name": "stdout",
     "output_type": "stream",
     "text": [
      "Help on built-in function reduce in module _functools:\n",
      "\n",
      "reduce(...)\n",
      "    reduce(function, sequence[, initial]) -> value\n",
      "    \n",
      "    Apply a function of two arguments cumulatively to the items of a sequence,\n",
      "    from left to right, so as to reduce the sequence to a single value.\n",
      "    For example, reduce(lambda x, y: x+y, [1, 2, 3, 4, 5]) calculates\n",
      "    ((((1+2)+3)+4)+5).  If initial is present, it is placed before the items\n",
      "    of the sequence in the calculation, and serves as a default when the\n",
      "    sequence is empty.\n",
      "\n"
     ]
    }
   ],
   "source": [
    "help(reduce)"
   ]
  },
  {
   "cell_type": "code",
   "execution_count": 137,
   "id": "e8071684",
   "metadata": {},
   "outputs": [
    {
     "data": {
      "text/plain": [
       "<function _functools.reduce>"
      ]
     },
     "execution_count": 137,
     "metadata": {},
     "output_type": "execute_result"
    }
   ],
   "source": [
    "reduce"
   ]
  },
  {
   "cell_type": "code",
   "execution_count": 138,
   "id": "f2a6a2bb",
   "metadata": {},
   "outputs": [
    {
     "data": {
      "text/plain": [
       "15"
      ]
     },
     "execution_count": 138,
     "metadata": {},
     "output_type": "execute_result"
    }
   ],
   "source": [
    "reduce(lambda x, y: x+y, [1, 2, 3, 4, 5])"
   ]
  },
  {
   "cell_type": "code",
   "execution_count": 139,
   "id": "f0cbef2d",
   "metadata": {},
   "outputs": [
    {
     "name": "stdout",
     "output_type": "stream",
     "text": [
      "15\n"
     ]
    }
   ],
   "source": [
    "print(reduce(lambda x, y: x+y, [1, 2, 3, 4, 5]))"
   ]
  },
  {
   "cell_type": "code",
   "execution_count": 5,
   "id": "5715db5c",
   "metadata": {},
   "outputs": [
    {
     "data": {
      "text/plain": [
       "120"
      ]
     },
     "execution_count": 5,
     "metadata": {},
     "output_type": "execute_result"
    }
   ],
   "source": [
    "reduce(lambda x, y: x*y, [1, 2, 3, 4, 5])  # faktöriyel"
   ]
  },
  {
   "cell_type": "code",
   "execution_count": 3,
   "id": "d7a9d647",
   "metadata": {},
   "outputs": [
    {
     "data": {
      "text/plain": [
       "120"
      ]
     },
     "execution_count": 3,
     "metadata": {},
     "output_type": "execute_result"
    }
   ],
   "source": [
    "def faktor_reduce (num):\n",
    "    return reduce(lambda x, y: x*y, [*range(1,num + 1)])\n",
    "\n",
    "faktor_reduce(5)"
   ]
  },
  {
   "cell_type": "code",
   "execution_count": 4,
   "id": "0e373c1d",
   "metadata": {},
   "outputs": [
    {
     "data": {
      "text/plain": [
       "120"
      ]
     },
     "execution_count": 4,
     "metadata": {},
     "output_type": "execute_result"
    }
   ],
   "source": [
    "# recursive\n",
    "def faktor_recur (num):\n",
    "    if num <= 1:\n",
    "        return 1\n",
    "    else:\n",
    "        return num * faktor_recur(num-1)\n",
    "\n",
    "faktor_recur(5)"
   ]
  },
  {
   "cell_type": "code",
   "execution_count": null,
   "id": "4ea9bd45",
   "metadata": {},
   "outputs": [],
   "source": []
  },
  {
   "cell_type": "markdown",
   "id": "1ef2d56e",
   "metadata": {},
   "source": [
    "```Listedeki meyvelerin ilk harflerini birleştirip string yapan algoritma --> 'ABPAO'```"
   ]
  },
  {
   "cell_type": "code",
   "execution_count": 6,
   "id": "c1bd9c47",
   "metadata": {},
   "outputs": [],
   "source": [
    "fruit = [\"Apple\", \"Banana\", \"Pear\", \"Apricot\", \"Orange\"]"
   ]
  },
  {
   "cell_type": "code",
   "execution_count": 7,
   "id": "57f4c675",
   "metadata": {},
   "outputs": [
    {
     "data": {
      "text/plain": [
       "'AO'"
      ]
     },
     "execution_count": 7,
     "metadata": {},
     "output_type": "execute_result"
    }
   ],
   "source": [
    "reduce( lambda x, y: x[:1] + y[:1] , fruit)"
   ]
  },
  {
   "cell_type": "code",
   "execution_count": 8,
   "id": "564f2eb4",
   "metadata": {},
   "outputs": [
    {
     "data": {
      "text/plain": [
       "['', 'Apple', 'Banana', 'Pear', 'Apricot', 'Orange']"
      ]
     },
     "execution_count": 8,
     "metadata": {},
     "output_type": "execute_result"
    }
   ],
   "source": [
    "[''] + fruit"
   ]
  },
  {
   "cell_type": "code",
   "execution_count": 9,
   "id": "50b84d59",
   "metadata": {},
   "outputs": [
    {
     "data": {
      "text/plain": [
       "'ABPAO'"
      ]
     },
     "execution_count": 9,
     "metadata": {},
     "output_type": "execute_result"
    }
   ],
   "source": [
    "reduce( lambda x, y: x + y[:1] , [''] + fruit)"
   ]
  },
  {
   "cell_type": "markdown",
   "id": "b1d61627",
   "metadata": {},
   "source": [
    "```Listedeki Maksimum sayı```"
   ]
  },
  {
   "cell_type": "code",
   "execution_count": 12,
   "id": "623f2cfb",
   "metadata": {},
   "outputs": [],
   "source": [
    "liste = [11, 45, 8, 11, 23, 45, 23, 45, 89]"
   ]
  },
  {
   "cell_type": "code",
   "execution_count": 13,
   "id": "3919e436",
   "metadata": {},
   "outputs": [
    {
     "data": {
      "text/plain": [
       "5"
      ]
     },
     "execution_count": 13,
     "metadata": {},
     "output_type": "execute_result"
    }
   ],
   "source": [
    "5 if( 5 > 4) else 4"
   ]
  },
  {
   "cell_type": "code",
   "execution_count": 14,
   "id": "35847129",
   "metadata": {},
   "outputs": [],
   "source": [
    "f = lambda x, y: x if( x > y) else y"
   ]
  },
  {
   "cell_type": "code",
   "execution_count": 15,
   "id": "9a08efaf",
   "metadata": {},
   "outputs": [
    {
     "data": {
      "text/plain": [
       "89"
      ]
     },
     "execution_count": 15,
     "metadata": {},
     "output_type": "execute_result"
    }
   ],
   "source": [
    "reduce ( f, liste)"
   ]
  },
  {
   "cell_type": "code",
   "execution_count": 16,
   "id": "dcc8dbd5",
   "metadata": {},
   "outputs": [
    {
     "data": {
      "text/plain": [
       "89"
      ]
     },
     "execution_count": 16,
     "metadata": {},
     "output_type": "execute_result"
    }
   ],
   "source": [
    "reduce ( lambda x, y: x if x > y else y, liste)"
   ]
  },
  {
   "cell_type": "code",
   "execution_count": null,
   "id": "7694d8ca",
   "metadata": {},
   "outputs": [],
   "source": []
  },
  {
   "cell_type": "markdown",
   "id": "80eaef2a",
   "metadata": {},
   "source": [
    "# lambda ile fonksiyon cağırma"
   ]
  },
  {
   "cell_type": "code",
   "execution_count": 26,
   "id": "983e139b",
   "metadata": {},
   "outputs": [
    {
     "data": {
      "text/plain": [
       "<function sum(iterable, /, start=0)>"
      ]
     },
     "execution_count": 26,
     "metadata": {},
     "output_type": "execute_result"
    }
   ],
   "source": [
    "sum"
   ]
  },
  {
   "cell_type": "code",
   "execution_count": 27,
   "id": "3628d285",
   "metadata": {},
   "outputs": [
    {
     "name": "stdout",
     "output_type": "stream",
     "text": [
      "Help on built-in function sum in module builtins:\n",
      "\n",
      "sum(iterable, /, start=0)\n",
      "    Return the sum of a 'start' value (default: 0) plus an iterable of numbers\n",
      "    \n",
      "    When the iterable is empty, return the start value.\n",
      "    This function is intended specifically for use with numeric values and may\n",
      "    reject non-numeric types.\n",
      "\n"
     ]
    }
   ],
   "source": [
    "help(sum)"
   ]
  },
  {
   "cell_type": "code",
   "execution_count": 28,
   "id": "1eeafa76",
   "metadata": {},
   "outputs": [
    {
     "data": {
      "text/plain": [
       "6"
      ]
     },
     "execution_count": 28,
     "metadata": {},
     "output_type": "execute_result"
    }
   ],
   "source": [
    "sum([1, 2, 3])"
   ]
  },
  {
   "cell_type": "code",
   "execution_count": 30,
   "id": "8e93d2bb",
   "metadata": {},
   "outputs": [
    {
     "data": {
      "text/plain": [
       "<function __main__.<lambda>()>"
      ]
     },
     "execution_count": 30,
     "metadata": {},
     "output_type": "execute_result"
    }
   ],
   "source": [
    "lambda: 3 + 3"
   ]
  },
  {
   "cell_type": "code",
   "execution_count": 31,
   "id": "1613e663",
   "metadata": {},
   "outputs": [
    {
     "data": {
      "text/plain": [
       "6"
      ]
     },
     "execution_count": 31,
     "metadata": {},
     "output_type": "execute_result"
    }
   ],
   "source": [
    "(lambda: 3 + 3)()"
   ]
  },
  {
   "cell_type": "code",
   "execution_count": 34,
   "id": "863e8312",
   "metadata": {},
   "outputs": [
    {
     "data": {
      "text/plain": [
       "<function __main__.<lambda>()>"
      ]
     },
     "execution_count": 34,
     "metadata": {},
     "output_type": "execute_result"
    }
   ],
   "source": [
    "lambda : sum"
   ]
  },
  {
   "cell_type": "code",
   "execution_count": 35,
   "id": "a8fb8699",
   "metadata": {},
   "outputs": [
    {
     "data": {
      "text/plain": [
       "<function sum(iterable, /, start=0)>"
      ]
     },
     "execution_count": 35,
     "metadata": {},
     "output_type": "execute_result"
    }
   ],
   "source": [
    "(lambda : sum)()"
   ]
  },
  {
   "cell_type": "code",
   "execution_count": 36,
   "id": "1836093d",
   "metadata": {},
   "outputs": [
    {
     "data": {
      "text/plain": [
       "6"
      ]
     },
     "execution_count": 36,
     "metadata": {},
     "output_type": "execute_result"
    }
   ],
   "source": [
    "(lambda x : sum(x) )([1, 2, 3])"
   ]
  },
  {
   "cell_type": "code",
   "execution_count": 37,
   "id": "0eadd38e",
   "metadata": {},
   "outputs": [
    {
     "data": {
      "text/plain": [
       "1"
      ]
     },
     "execution_count": 37,
     "metadata": {},
     "output_type": "execute_result"
    }
   ],
   "source": [
    "(lambda x : min( x ))([1, 2, 3])"
   ]
  },
  {
   "cell_type": "code",
   "execution_count": 38,
   "id": "c8775456",
   "metadata": {},
   "outputs": [
    {
     "data": {
      "text/plain": [
       "3"
      ]
     },
     "execution_count": 38,
     "metadata": {},
     "output_type": "execute_result"
    }
   ],
   "source": [
    "(lambda x : max( x ))([1, 2, 3])"
   ]
  },
  {
   "cell_type": "code",
   "execution_count": 39,
   "id": "e2c6aeb3",
   "metadata": {},
   "outputs": [
    {
     "data": {
      "text/plain": [
       "3"
      ]
     },
     "execution_count": 39,
     "metadata": {},
     "output_type": "execute_result"
    }
   ],
   "source": [
    "a = max\n",
    "(lambda x : a( x ))([1, 2, 3])"
   ]
  },
  {
   "cell_type": "code",
   "execution_count": 43,
   "id": "b74d7a22",
   "metadata": {},
   "outputs": [
    {
     "data": {
      "text/plain": [
       "6"
      ]
     },
     "execution_count": 43,
     "metadata": {},
     "output_type": "execute_result"
    }
   ],
   "source": [
    "def function_generator(a) :\n",
    "    return (lambda x : a( x ))([1, 2, 3])\n",
    "\n",
    "function_generator(sum)"
   ]
  },
  {
   "cell_type": "code",
   "execution_count": 42,
   "id": "ec0ea9a0",
   "metadata": {},
   "outputs": [
    {
     "data": {
      "text/plain": [
       "6"
      ]
     },
     "execution_count": 42,
     "metadata": {},
     "output_type": "execute_result"
    }
   ],
   "source": [
    "def function_generator(function_name) :\n",
    "    return lambda x : function_name(x)\n",
    "\n",
    "function_generator(sum)([1, 2, 3])"
   ]
  },
  {
   "cell_type": "code",
   "execution_count": null,
   "id": "370a6c79",
   "metadata": {},
   "outputs": [],
   "source": []
  },
  {
   "cell_type": "code",
   "execution_count": 44,
   "id": "a1e780d4",
   "metadata": {},
   "outputs": [
    {
     "name": "stdout",
     "output_type": "stream",
     "text": [
      "<function function_generator at 0x00000233CE0FE790>\n",
      "<function function_generator.<locals>.<lambda> at 0x00000233CDF99EE0>\n",
      "25\n"
     ]
    },
    {
     "data": {
      "text/plain": [
       "<function __main__.function_generator()>"
      ]
     },
     "execution_count": 44,
     "metadata": {},
     "output_type": "execute_result"
    }
   ],
   "source": [
    "def function_generator() :\n",
    "    return lambda x : x*x\n",
    "\n",
    "print(function_generator)\n",
    "print(function_generator())\n",
    "print(function_generator()(5))\n",
    "\n",
    "function_generator"
   ]
  },
  {
   "cell_type": "code",
   "execution_count": null,
   "id": "629cc123",
   "metadata": {},
   "outputs": [],
   "source": []
  },
  {
   "cell_type": "code",
   "execution_count": null,
   "id": "c1248ef1",
   "metadata": {},
   "outputs": [],
   "source": [
    "def my_print(emoji):\n",
    "    return emoji"
   ]
  },
  {
   "cell_type": "code",
   "execution_count": null,
   "id": "6d90f010",
   "metadata": {},
   "outputs": [],
   "source": []
  },
  {
   "cell_type": "code",
   "execution_count": null,
   "id": "15405129",
   "metadata": {},
   "outputs": [],
   "source": []
  },
  {
   "cell_type": "code",
   "execution_count": null,
   "id": "90fbe520",
   "metadata": {},
   "outputs": [],
   "source": []
  },
  {
   "cell_type": "code",
   "execution_count": null,
   "id": "4f8af074",
   "metadata": {},
   "outputs": [],
   "source": []
  },
  {
   "cell_type": "markdown",
   "id": "0f0163ee",
   "metadata": {},
   "source": [
    "# soru örnekleri"
   ]
  },
  {
   "cell_type": "code",
   "execution_count": 12,
   "id": "36f2e8d6",
   "metadata": {},
   "outputs": [
    {
     "data": {
      "text/plain": [
       "'7#gg>1cJF9Z'"
      ]
     },
     "execution_count": 12,
     "metadata": {},
     "output_type": "execute_result"
    }
   ],
   "source": [
    "import random\n",
    "\n",
    "chr(random.randint(33, 47))\n",
    "chr(random.randint(48, 57))  # 0-9\n",
    "chr(random.randint(58, 64))\n",
    "chr(random.randint(65, 90))  # a-z\n",
    "chr(random.randint(97, 122))  # A-Z\n",
    "\n",
    "uppers = [chr(random.randint(97, 122)) for i in range(3)]\n",
    "lowers = [chr(random.randint(65, 90)) for i in range(3)]\n",
    "numbers = [chr(random.randint(48, 57)) for i in range(3)]\n",
    "chars = [chr(random.randint(33, 47)) + chr(random.randint(58, 64))]\n",
    "\n",
    "passw = ''.join(uppers+lowers+numbers+chars)\n",
    "\n",
    "pass_list = list(passw)\n",
    "\n",
    "random.shuffle(pass_list)\n",
    "\n",
    "result = ''.join(pass_list)\n",
    "result"
   ]
  },
  {
   "cell_type": "code",
   "execution_count": null,
   "id": "a9503e6e",
   "metadata": {},
   "outputs": [],
   "source": [
    "x = y = 0\n",
    "command = ['right 20', 'right 30', 'left 50', 'up 10', 'down 20']\n",
    "\n",
    "while command:\n",
    "    order = command.pop()\n",
    "    \n",
    "    order_way = order.split()[0]\n",
    "    order_foot = int(order.split()[1])\n",
    "    \n",
    "    if order_way.startswith('r'):\n",
    "        x += order_foot\n",
    "    elif order_way.startswith('l'):\n",
    "        x -= order_foot\n",
    "    elif order_way.startswith('u'):\n",
    "        y += order_foot\n",
    "    elif order_way.startswith('d'):\n",
    "        y -= order_foot\n",
    "    else:\n",
    "        print('yön yok')\n",
    "\n",
    "print(x, y)"
   ]
  },
  {
   "cell_type": "code",
   "execution_count": null,
   "id": "47a9d099",
   "metadata": {},
   "outputs": [],
   "source": []
  },
  {
   "cell_type": "code",
   "execution_count": null,
   "id": "87bae2e2",
   "metadata": {},
   "outputs": [],
   "source": []
  },
  {
   "cell_type": "code",
   "execution_count": null,
   "id": "d5a680f7",
   "metadata": {},
   "outputs": [],
   "source": []
  },
  {
   "cell_type": "code",
   "execution_count": null,
   "id": "318b66e6",
   "metadata": {},
   "outputs": [],
   "source": []
  },
  {
   "cell_type": "code",
   "execution_count": null,
   "id": "e0781014",
   "metadata": {},
   "outputs": [],
   "source": []
  },
  {
   "cell_type": "code",
   "execution_count": null,
   "id": "f7a93f8b",
   "metadata": {},
   "outputs": [],
   "source": []
  },
  {
   "cell_type": "code",
   "execution_count": null,
   "id": "5ca918f1",
   "metadata": {},
   "outputs": [],
   "source": []
  }
 ],
 "metadata": {
  "hide_input": false,
  "kernelspec": {
   "display_name": "Python 3 (ipykernel)",
   "language": "python",
   "name": "python3"
  },
  "language_info": {
   "codemirror_mode": {
    "name": "ipython",
    "version": 3
   },
   "file_extension": ".py",
   "mimetype": "text/x-python",
   "name": "python",
   "nbconvert_exporter": "python",
   "pygments_lexer": "ipython3",
   "version": "3.10.4"
  },
  "nbTranslate": {
   "displayLangs": [
    "*"
   ],
   "hotkey": "alt-t",
   "langInMainMenu": true,
   "sourceLang": "en",
   "targetLang": "fr",
   "useGoogleTranslate": true
  },
  "toc": {
   "base_numbering": 1,
   "nav_menu": {},
   "number_sections": true,
   "sideBar": true,
   "skip_h1_title": false,
   "title_cell": "Table of Contents",
   "title_sidebar": "Contents",
   "toc_cell": false,
   "toc_position": {},
   "toc_section_display": true,
   "toc_window_display": false
  }
 },
 "nbformat": 4,
 "nbformat_minor": 5
}
